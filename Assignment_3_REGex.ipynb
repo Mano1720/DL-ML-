{
  "nbformat": 4,
  "nbformat_minor": 0,
  "metadata": {
    "colab": {
      "name": "Untitled7.ipynb",
      "provenance": [],
      "authorship_tag": "ABX9TyOBd/Neff+Wec4AfsxfEChL",
      "include_colab_link": true
    },
    "kernelspec": {
      "name": "python3",
      "display_name": "Python 3"
    },
    "language_info": {
      "name": "python"
    }
  },
  "cells": [
    {
      "cell_type": "markdown",
      "metadata": {
        "id": "view-in-github",
        "colab_type": "text"
      },
      "source": [
        "<a href=\"https://colab.research.google.com/github/Mano1720/DL-ML-/blob/main/Assignment_3_REGex.ipynb\" target=\"_parent\"><img src=\"https://colab.research.google.com/assets/colab-badge.svg\" alt=\"Open In Colab\"/></a>"
      ]
    },
    {
      "cell_type": "markdown",
      "metadata": {
        "id": "im_Lel6ONPte"
      },
      "source": [
        "# Task 3\n",
        "\n",
        "**k Manoj**\n",
        "\n",
        "Registration Id : SIRSS2309"
      ]
    },
    {
      "cell_type": "code",
      "metadata": {
        "colab": {
          "base_uri": "https://localhost:8080/"
        },
        "id": "SFYGVEv5Oq3O",
        "outputId": "639ccb10-0e84-4505-9548-32d4d662ac2c"
      },
      "source": [
        "# Q1 Write a function to return nth term of Fibonacci sequence.\n",
        "\n",
        "def fib (n):\n",
        "  if n <=0:\n",
        "    return print(\"Invalid input\")\n",
        "  elif n == 1:\n",
        "    return 0\n",
        "  elif n == 2:\n",
        "    return 1\n",
        "  else:\n",
        "    return fib(n-1)+fib(n-2)    \n",
        "\n",
        "n=int(input('Enter the nth number') )   \n",
        "fib(n)  "
      ],
      "execution_count": null,
      "outputs": [
        {
          "output_type": "stream",
          "text": [
            "Enter the nth number10\n"
          ],
          "name": "stdout"
        },
        {
          "output_type": "execute_result",
          "data": {
            "text/plain": [
              "34"
            ]
          },
          "metadata": {},
          "execution_count": 17
        }
      ]
    },
    {
      "cell_type": "code",
      "metadata": {
        "colab": {
          "base_uri": "https://localhost:8080/"
        },
        "id": "-E0wsXLqPnot",
        "outputId": "8f87bb70-8f94-4e23-ee49-48fa705b9f73"
      },
      "source": [
        "#Q2. Write a function to find out GCD of two numbers using EUCLID'S algorithm.\n",
        "\n",
        "def gcd(a,b):\n",
        "  if(b==0):\n",
        "    return a\n",
        "  else :\n",
        "    return gcd(b,a%b)  \n",
        "\n",
        "print(\"Enter the two digits to find gcd\")  \n",
        "a=int(input('Enter the first number'))\n",
        "b=int(input('Enter the second number'))\n",
        "gcd(a,b)"
      ],
      "execution_count": null,
      "outputs": [
        {
          "output_type": "stream",
          "text": [
            "Enter the two digits to find gcd\n",
            "Enter the first number10\n",
            "Enter the second number30\n"
          ],
          "name": "stdout"
        },
        {
          "output_type": "execute_result",
          "data": {
            "text/plain": [
              "10"
            ]
          },
          "metadata": {},
          "execution_count": 23
        }
      ]
    },
    {
      "cell_type": "code",
      "metadata": {
        "colab": {
          "base_uri": "https://localhost:8080/"
        },
        "id": "-MExLddRRmsg",
        "outputId": "68037ce8-5563-422e-e733-f2639a015773"
      },
      "source": [
        "#Q3. Write a function to find LCM of two number in most optimizers way.\n",
        "def lcm(a,b):\n",
        "  return (a/gcd(a,b))*b\n",
        "\n",
        "print(\"Enter the two digits to find gcd\")  \n",
        "a=int(input('Enter the first number'))\n",
        "b=int(input('Enter the second number'))\n",
        "lcm(a,b)\n",
        "\n",
        " \n",
        "\n",
        "      "
      ],
      "execution_count": null,
      "outputs": [
        {
          "output_type": "stream",
          "text": [
            "Enter the two digits to find gcd\n",
            "Enter the first number5\n",
            "Enter the second number6\n"
          ],
          "name": "stdout"
        },
        {
          "output_type": "execute_result",
          "data": {
            "text/plain": [
              "30.0"
            ]
          },
          "metadata": {},
          "execution_count": 28
        }
      ]
    }
  ]
}