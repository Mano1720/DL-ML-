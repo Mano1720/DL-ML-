{
  "nbformat": 4,
  "nbformat_minor": 5,
  "metadata": {
    "kernelspec": {
      "display_name": "Python 3",
      "language": "python",
      "name": "python3"
    },
    "language_info": {
      "codemirror_mode": {
        "name": "ipython",
        "version": 3
      },
      "file_extension": ".py",
      "mimetype": "text/x-python",
      "name": "python",
      "nbconvert_exporter": "python",
      "pygments_lexer": "ipython3",
      "version": "3.7.10"
    },
    "papermill": {
      "default_parameters": {},
      "duration": 2580.097597,
      "end_time": "2021-09-13T03:56:31.466948",
      "environment_variables": {},
      "exception": null,
      "input_path": "__notebook__.ipynb",
      "output_path": "__notebook__.ipynb",
      "parameters": {},
      "start_time": "2021-09-13T03:13:31.369351",
      "version": "2.3.3"
    },
    "colab": {
      "name": "cifar-10-keras.ipynb",
      "provenance": [],
      "include_colab_link": true
    }
  },
  "cells": [
    {
      "cell_type": "markdown",
      "metadata": {
        "id": "view-in-github",
        "colab_type": "text"
      },
      "source": [
        "<a href=\"https://colab.research.google.com/github/Mano1720/DL-ML-/blob/main/Assignment_11_REGex.ipynb\" target=\"_parent\"><img src=\"https://colab.research.google.com/assets/colab-badge.svg\" alt=\"Open In Colab\"/></a>"
      ]
    },
    {
      "cell_type": "markdown",
      "metadata": {
        "papermill": {
          "duration": 0.018836,
          "end_time": "2021-09-13T03:13:38.087389",
          "exception": false,
          "start_time": "2021-09-13T03:13:38.068553",
          "status": "completed"
        },
        "tags": [],
        "id": "308f1852"
      },
      "source": [
        "##Task 11\n",
        "**K Manoj**\n",
        "\n",
        "*Referral Id:SIRSS2309*"
      ],
      "id": "308f1852"
    },
    {
      "cell_type": "markdown",
      "metadata": {
        "id": "odjoLVR61d2R"
      },
      "source": [
        "\n",
        "##Unzip the dataset"
      ],
      "id": "odjoLVR61d2R"
    },
    {
      "cell_type": "code",
      "metadata": {
        "_cell_guid": "b1076dfc-b9ad-4769-8c92-a6c4dae69d19",
        "_uuid": "8f2839f25d086af736a60e9eeb907d3b93b6e0e5",
        "execution": {
          "iopub.execute_input": "2021-09-13T03:13:38.128295Z",
          "iopub.status.busy": "2021-09-13T03:13:38.126765Z",
          "iopub.status.idle": "2021-09-13T03:30:38.293399Z",
          "shell.execute_reply": "2021-09-13T03:30:38.292390Z",
          "shell.execute_reply.started": "2021-09-13T02:02:17.649175Z"
        },
        "papermill": {
          "duration": 1020.187451,
          "end_time": "2021-09-13T03:30:38.293585",
          "exception": false,
          "start_time": "2021-09-13T03:13:38.106134",
          "status": "completed"
        },
        "tags": [],
        "id": "af14512b",
        "outputId": "5ac9c0ac-c757-4312-a62f-687f0caadcbe"
      },
      "source": [
        "!pip install py7zr\n",
        "from py7zr import unpack_7zarchive\n",
        "import shutil\n",
        "shutil.register_unpack_format('7zip', ['.7z'], unpack_7zarchive)\n",
        "\n",
        "# unzip train and test data\n",
        "shutil.unpack_archive('../input/cifar-10/train.7z')\n",
        "shutil.unpack_archive('../input/cifar-10/test.7z')"
      ],
      "id": "af14512b",
      "execution_count": null,
      "outputs": [
        {
          "name": "stdout",
          "output_type": "stream",
          "text": [
            "Collecting py7zr\r\n",
            "  Downloading py7zr-0.16.1-py3-none-any.whl (65 kB)\r\n",
            "\u001b[K     |████████████████████████████████| 65 kB 589 kB/s \r\n",
            "\u001b[?25hCollecting pycryptodomex>=3.6.6\r\n",
            "  Downloading pycryptodomex-3.10.1-cp35-abi3-manylinux2010_x86_64.whl (1.9 MB)\r\n",
            "\u001b[K     |████████████████████████████████| 1.9 MB 1.1 MB/s \r\n",
            "\u001b[?25hCollecting brotli>=1.0.9\r\n",
            "  Downloading Brotli-1.0.9-cp37-cp37m-manylinux1_x86_64.whl (357 kB)\r\n",
            "\u001b[K     |████████████████████████████████| 357 kB 55.2 MB/s \r\n",
            "\u001b[?25hCollecting pyzstd<0.15.0,>=0.14.4\r\n",
            "  Downloading pyzstd-0.14.4-cp37-cp37m-manylinux2014_x86_64.whl (2.2 MB)\r\n",
            "\u001b[K     |████████████████████████████████| 2.2 MB 50.1 MB/s \r\n",
            "\u001b[?25hCollecting multivolumefile>=0.2.3\r\n",
            "  Downloading multivolumefile-0.2.3-py3-none-any.whl (17 kB)\r\n",
            "Collecting bcj-cffi<0.6.0,>=0.5.1\r\n",
            "  Downloading bcj_cffi-0.5.1-cp37-cp37m-manylinux2014_x86_64.whl (36 kB)\r\n",
            "Collecting pyppmd>=0.14.0\r\n",
            "  Downloading pyppmd-0.16.1-cp37-cp37m-manylinux_2_17_x86_64.manylinux2014_x86_64.whl (124 kB)\r\n",
            "\u001b[K     |████████████████████████████████| 124 kB 61.9 MB/s \r\n",
            "\u001b[?25hRequirement already satisfied: importlib-metadata in /opt/conda/lib/python3.7/site-packages (from py7zr) (3.4.0)\r\n",
            "Requirement already satisfied: texttable in /opt/conda/lib/python3.7/site-packages (from py7zr) (1.6.4)\r\n",
            "Requirement already satisfied: cffi>=1.14.0 in /opt/conda/lib/python3.7/site-packages (from bcj-cffi<0.6.0,>=0.5.1->py7zr) (1.14.6)\r\n",
            "Requirement already satisfied: pycparser in /opt/conda/lib/python3.7/site-packages (from cffi>=1.14.0->bcj-cffi<0.6.0,>=0.5.1->py7zr) (2.20)\r\n",
            "Requirement already satisfied: typing-extensions>=3.6.4 in /opt/conda/lib/python3.7/site-packages (from importlib-metadata->py7zr) (3.7.4.3)\r\n",
            "Requirement already satisfied: zipp>=0.5 in /opt/conda/lib/python3.7/site-packages (from importlib-metadata->py7zr) (3.5.0)\r\n",
            "Installing collected packages: pyzstd, pyppmd, pycryptodomex, multivolumefile, brotli, bcj-cffi, py7zr\r\n",
            "Successfully installed bcj-cffi-0.5.1 brotli-1.0.9 multivolumefile-0.2.3 py7zr-0.16.1 pycryptodomex-3.10.1 pyppmd-0.16.1 pyzstd-0.14.4\r\n",
            "\u001b[33mWARNING: Running pip as the 'root' user can result in broken permissions and conflicting behaviour with the system package manager. It is recommended to use a virtual environment instead: https://pip.pypa.io/warnings/venv\u001b[0m\r\n"
          ]
        }
      ]
    },
    {
      "cell_type": "markdown",
      "metadata": {
        "papermill": {
          "duration": 0.024729,
          "end_time": "2021-09-13T03:30:38.343984",
          "exception": false,
          "start_time": "2021-09-13T03:30:38.319255",
          "status": "completed"
        },
        "tags": [],
        "id": "ebc770dc"
      },
      "source": [
        "## Import necessary packages"
      ],
      "id": "ebc770dc"
    },
    {
      "cell_type": "code",
      "metadata": {
        "execution": {
          "iopub.execute_input": "2021-09-13T03:30:38.401575Z",
          "iopub.status.busy": "2021-09-13T03:30:38.395859Z",
          "iopub.status.idle": "2021-09-13T03:30:42.907794Z",
          "shell.execute_reply": "2021-09-13T03:30:42.907278Z",
          "shell.execute_reply.started": "2021-09-13T02:18:37.543045Z"
        },
        "papermill": {
          "duration": 4.539338,
          "end_time": "2021-09-13T03:30:42.907923",
          "exception": false,
          "start_time": "2021-09-13T03:30:38.368585",
          "status": "completed"
        },
        "tags": [],
        "id": "10d109e6",
        "outputId": "5e38594b-519e-4851-9187-a4101999a252"
      },
      "source": [
        "import pandas as pd\n",
        "import numpy as np\n",
        "import matplotlib.pyplot as plt\n",
        "%matplotlib inline\n",
        "import os\n",
        "import shutil\n",
        "\n",
        "import tensorflow as tf\n",
        "from tensorflow.keras.preprocessing.image import load_img, ImageDataGenerator\n",
        "from tensorflow.keras.models import Model, Sequential\n",
        "from tensorflow.keras.layers import Conv2D, BatchNormalization, MaxPooling2D, Dropout, Dense, Flatten"
      ],
      "id": "10d109e6",
      "execution_count": null,
      "outputs": [
        {
          "name": "stderr",
          "output_type": "stream",
          "text": [
            "2021-09-13 03:30:38.934799: I tensorflow/stream_executor/platform/default/dso_loader.cc:49] Successfully opened dynamic library libcudart.so.11.0\n"
          ]
        }
      ]
    },
    {
      "cell_type": "markdown",
      "metadata": {
        "papermill": {
          "duration": 0.030524,
          "end_time": "2021-09-13T03:30:42.963852",
          "exception": false,
          "start_time": "2021-09-13T03:30:42.933328",
          "status": "completed"
        },
        "tags": [],
        "id": "36c59494"
      },
      "source": [
        "## Load the data"
      ],
      "id": "36c59494"
    },
    {
      "cell_type": "code",
      "metadata": {
        "execution": {
          "iopub.execute_input": "2021-09-13T03:30:43.019980Z",
          "iopub.status.busy": "2021-09-13T03:30:43.019201Z",
          "iopub.status.idle": "2021-09-13T03:30:43.046987Z",
          "shell.execute_reply": "2021-09-13T03:30:43.046578Z",
          "shell.execute_reply.started": "2021-09-13T02:18:42.181160Z"
        },
        "papermill": {
          "duration": 0.05814,
          "end_time": "2021-09-13T03:30:43.047135",
          "exception": false,
          "start_time": "2021-09-13T03:30:42.988995",
          "status": "completed"
        },
        "tags": [],
        "id": "6a3bdc89",
        "outputId": "f941a429-1cc7-4a01-d55a-c00985fa0773"
      },
      "source": [
        "train_dir = os.listdir('./train')\n",
        "train_dir_len = len(train_dir)\n",
        "print(\"Length:\\t\", train_dir_len)"
      ],
      "id": "6a3bdc89",
      "execution_count": null,
      "outputs": [
        {
          "name": "stdout",
          "output_type": "stream",
          "text": [
            "Length:\t 50000\n"
          ]
        }
      ]
    },
    {
      "cell_type": "code",
      "metadata": {
        "execution": {
          "iopub.execute_input": "2021-09-13T03:30:43.102901Z",
          "iopub.status.busy": "2021-09-13T03:30:43.102311Z",
          "iopub.status.idle": "2021-09-13T03:30:43.228877Z",
          "shell.execute_reply": "2021-09-13T03:30:43.228428Z",
          "shell.execute_reply.started": "2021-09-13T02:18:42.216625Z"
        },
        "papermill": {
          "duration": 0.156342,
          "end_time": "2021-09-13T03:30:43.229011",
          "exception": false,
          "start_time": "2021-09-13T03:30:43.072669",
          "status": "completed"
        },
        "tags": [],
        "id": "d4b1191b"
      },
      "source": [
        "train_labels = pd.read_csv('../input/cifar-10/trainLabels.csv')\n",
        "train_images = pd.DataFrame(columns=['id', 'label', 'path'], dtype=str)\n",
        "test_labels = pd.read_csv('../input/cifar-10/sampleSubmission.csv')"
      ],
      "id": "d4b1191b",
      "execution_count": null,
      "outputs": []
    },
    {
      "cell_type": "code",
      "metadata": {
        "execution": {
          "iopub.execute_input": "2021-09-13T03:30:43.374527Z",
          "iopub.status.busy": "2021-09-13T03:30:43.372745Z",
          "iopub.status.idle": "2021-09-13T03:33:14.840876Z",
          "shell.execute_reply": "2021-09-13T03:33:14.841296Z",
          "shell.execute_reply.started": "2021-09-13T02:18:42.353357Z"
        },
        "papermill": {
          "duration": 151.586854,
          "end_time": "2021-09-13T03:33:14.841455",
          "exception": false,
          "start_time": "2021-09-13T03:30:43.254601",
          "status": "completed"
        },
        "tags": [],
        "id": "b5aa0df0",
        "outputId": "0c799521-7a58-46a9-a483-acbfe8f17907"
      },
      "source": [
        "train_root = './train/'\n",
        "for i in range(0, train_dir_len):\n",
        "    path = train_root + str(i+1) + '.png'\n",
        "    if os.path.exists(path):\n",
        "        train_images = train_images.append([{\n",
        "            'id': train_labels['id'].iloc[i],\n",
        "            'label': train_labels['label'].iloc[i],\n",
        "            'path': str(i+1) + '.png'\n",
        "        }])\n",
        "        \n",
        "train_images.head()"
      ],
      "id": "b5aa0df0",
      "execution_count": null,
      "outputs": [
        {
          "data": {
            "text/html": [
              "<div>\n",
              "<style scoped>\n",
              "    .dataframe tbody tr th:only-of-type {\n",
              "        vertical-align: middle;\n",
              "    }\n",
              "\n",
              "    .dataframe tbody tr th {\n",
              "        vertical-align: top;\n",
              "    }\n",
              "\n",
              "    .dataframe thead th {\n",
              "        text-align: right;\n",
              "    }\n",
              "</style>\n",
              "<table border=\"1\" class=\"dataframe\">\n",
              "  <thead>\n",
              "    <tr style=\"text-align: right;\">\n",
              "      <th></th>\n",
              "      <th>id</th>\n",
              "      <th>label</th>\n",
              "      <th>path</th>\n",
              "    </tr>\n",
              "  </thead>\n",
              "  <tbody>\n",
              "    <tr>\n",
              "      <th>0</th>\n",
              "      <td>1</td>\n",
              "      <td>frog</td>\n",
              "      <td>1.png</td>\n",
              "    </tr>\n",
              "    <tr>\n",
              "      <th>0</th>\n",
              "      <td>2</td>\n",
              "      <td>truck</td>\n",
              "      <td>2.png</td>\n",
              "    </tr>\n",
              "    <tr>\n",
              "      <th>0</th>\n",
              "      <td>3</td>\n",
              "      <td>truck</td>\n",
              "      <td>3.png</td>\n",
              "    </tr>\n",
              "    <tr>\n",
              "      <th>0</th>\n",
              "      <td>4</td>\n",
              "      <td>deer</td>\n",
              "      <td>4.png</td>\n",
              "    </tr>\n",
              "    <tr>\n",
              "      <th>0</th>\n",
              "      <td>5</td>\n",
              "      <td>automobile</td>\n",
              "      <td>5.png</td>\n",
              "    </tr>\n",
              "  </tbody>\n",
              "</table>\n",
              "</div>"
            ],
            "text/plain": [
              "  id       label   path\n",
              "0  1        frog  1.png\n",
              "0  2       truck  2.png\n",
              "0  3       truck  3.png\n",
              "0  4        deer  4.png\n",
              "0  5  automobile  5.png"
            ]
          },
          "execution_count": 5,
          "metadata": {},
          "output_type": "execute_result"
        }
      ]
    },
    {
      "cell_type": "code",
      "metadata": {
        "execution": {
          "iopub.execute_input": "2021-09-13T03:33:14.898398Z",
          "iopub.status.busy": "2021-09-13T03:33:14.896500Z",
          "iopub.status.idle": "2021-09-13T03:33:14.922786Z",
          "shell.execute_reply": "2021-09-13T03:33:14.923240Z",
          "shell.execute_reply.started": "2021-09-13T02:21:12.306730Z"
        },
        "papermill": {
          "duration": 0.056592,
          "end_time": "2021-09-13T03:33:14.923369",
          "exception": false,
          "start_time": "2021-09-13T03:33:14.866777",
          "status": "completed"
        },
        "tags": [],
        "id": "b0519ad4",
        "outputId": "38e20c50-2cc1-4ca6-95f2-392731ebdc10"
      },
      "source": [
        "display_groupby = train_images.groupby(['label']).count()\n",
        "display_groupby.head(10)"
      ],
      "id": "b0519ad4",
      "execution_count": null,
      "outputs": [
        {
          "data": {
            "text/html": [
              "<div>\n",
              "<style scoped>\n",
              "    .dataframe tbody tr th:only-of-type {\n",
              "        vertical-align: middle;\n",
              "    }\n",
              "\n",
              "    .dataframe tbody tr th {\n",
              "        vertical-align: top;\n",
              "    }\n",
              "\n",
              "    .dataframe thead th {\n",
              "        text-align: right;\n",
              "    }\n",
              "</style>\n",
              "<table border=\"1\" class=\"dataframe\">\n",
              "  <thead>\n",
              "    <tr style=\"text-align: right;\">\n",
              "      <th></th>\n",
              "      <th>id</th>\n",
              "      <th>path</th>\n",
              "    </tr>\n",
              "    <tr>\n",
              "      <th>label</th>\n",
              "      <th></th>\n",
              "      <th></th>\n",
              "    </tr>\n",
              "  </thead>\n",
              "  <tbody>\n",
              "    <tr>\n",
              "      <th>airplane</th>\n",
              "      <td>5000</td>\n",
              "      <td>5000</td>\n",
              "    </tr>\n",
              "    <tr>\n",
              "      <th>automobile</th>\n",
              "      <td>5000</td>\n",
              "      <td>5000</td>\n",
              "    </tr>\n",
              "    <tr>\n",
              "      <th>bird</th>\n",
              "      <td>5000</td>\n",
              "      <td>5000</td>\n",
              "    </tr>\n",
              "    <tr>\n",
              "      <th>cat</th>\n",
              "      <td>5000</td>\n",
              "      <td>5000</td>\n",
              "    </tr>\n",
              "    <tr>\n",
              "      <th>deer</th>\n",
              "      <td>5000</td>\n",
              "      <td>5000</td>\n",
              "    </tr>\n",
              "    <tr>\n",
              "      <th>dog</th>\n",
              "      <td>5000</td>\n",
              "      <td>5000</td>\n",
              "    </tr>\n",
              "    <tr>\n",
              "      <th>frog</th>\n",
              "      <td>5000</td>\n",
              "      <td>5000</td>\n",
              "    </tr>\n",
              "    <tr>\n",
              "      <th>horse</th>\n",
              "      <td>5000</td>\n",
              "      <td>5000</td>\n",
              "    </tr>\n",
              "    <tr>\n",
              "      <th>ship</th>\n",
              "      <td>5000</td>\n",
              "      <td>5000</td>\n",
              "    </tr>\n",
              "    <tr>\n",
              "      <th>truck</th>\n",
              "      <td>5000</td>\n",
              "      <td>5000</td>\n",
              "    </tr>\n",
              "  </tbody>\n",
              "</table>\n",
              "</div>"
            ],
            "text/plain": [
              "              id  path\n",
              "label                 \n",
              "airplane    5000  5000\n",
              "automobile  5000  5000\n",
              "bird        5000  5000\n",
              "cat         5000  5000\n",
              "deer        5000  5000\n",
              "dog         5000  5000\n",
              "frog        5000  5000\n",
              "horse       5000  5000\n",
              "ship        5000  5000\n",
              "truck       5000  5000"
            ]
          },
          "execution_count": 6,
          "metadata": {},
          "output_type": "execute_result"
        }
      ]
    },
    {
      "cell_type": "code",
      "metadata": {
        "execution": {
          "iopub.execute_input": "2021-09-13T03:33:14.986642Z",
          "iopub.status.busy": "2021-09-13T03:33:14.985896Z",
          "iopub.status.idle": "2021-09-13T03:33:15.068054Z",
          "shell.execute_reply": "2021-09-13T03:33:15.068480Z",
          "shell.execute_reply.started": "2021-09-13T02:21:12.335371Z"
        },
        "papermill": {
          "duration": 0.119587,
          "end_time": "2021-09-13T03:33:15.068608",
          "exception": false,
          "start_time": "2021-09-13T03:33:14.949021",
          "status": "completed"
        },
        "tags": [],
        "id": "6a26e0cc",
        "outputId": "a6999f05-5143-4198-a907-7a402e00ba71"
      },
      "source": [
        "class_names = ['airplane', 'automobile', 'bird', 'cat', 'deer', 'dog', 'frog', 'horse', 'ship', 'truck']\n",
        "for name in class_names:\n",
        "    index = class_names.index(name)\n",
        "    train_images.loc[train_images['label'] == name, 'label'] = str(index)\n",
        "\n",
        "display_groupby = train_images.groupby(['label']).count()\n",
        "display_groupby.head(10)"
      ],
      "id": "6a26e0cc",
      "execution_count": null,
      "outputs": [
        {
          "data": {
            "text/html": [
              "<div>\n",
              "<style scoped>\n",
              "    .dataframe tbody tr th:only-of-type {\n",
              "        vertical-align: middle;\n",
              "    }\n",
              "\n",
              "    .dataframe tbody tr th {\n",
              "        vertical-align: top;\n",
              "    }\n",
              "\n",
              "    .dataframe thead th {\n",
              "        text-align: right;\n",
              "    }\n",
              "</style>\n",
              "<table border=\"1\" class=\"dataframe\">\n",
              "  <thead>\n",
              "    <tr style=\"text-align: right;\">\n",
              "      <th></th>\n",
              "      <th>id</th>\n",
              "      <th>path</th>\n",
              "    </tr>\n",
              "    <tr>\n",
              "      <th>label</th>\n",
              "      <th></th>\n",
              "      <th></th>\n",
              "    </tr>\n",
              "  </thead>\n",
              "  <tbody>\n",
              "    <tr>\n",
              "      <th>0</th>\n",
              "      <td>5000</td>\n",
              "      <td>5000</td>\n",
              "    </tr>\n",
              "    <tr>\n",
              "      <th>1</th>\n",
              "      <td>5000</td>\n",
              "      <td>5000</td>\n",
              "    </tr>\n",
              "    <tr>\n",
              "      <th>2</th>\n",
              "      <td>5000</td>\n",
              "      <td>5000</td>\n",
              "    </tr>\n",
              "    <tr>\n",
              "      <th>3</th>\n",
              "      <td>5000</td>\n",
              "      <td>5000</td>\n",
              "    </tr>\n",
              "    <tr>\n",
              "      <th>4</th>\n",
              "      <td>5000</td>\n",
              "      <td>5000</td>\n",
              "    </tr>\n",
              "    <tr>\n",
              "      <th>5</th>\n",
              "      <td>5000</td>\n",
              "      <td>5000</td>\n",
              "    </tr>\n",
              "    <tr>\n",
              "      <th>6</th>\n",
              "      <td>5000</td>\n",
              "      <td>5000</td>\n",
              "    </tr>\n",
              "    <tr>\n",
              "      <th>7</th>\n",
              "      <td>5000</td>\n",
              "      <td>5000</td>\n",
              "    </tr>\n",
              "    <tr>\n",
              "      <th>8</th>\n",
              "      <td>5000</td>\n",
              "      <td>5000</td>\n",
              "    </tr>\n",
              "    <tr>\n",
              "      <th>9</th>\n",
              "      <td>5000</td>\n",
              "      <td>5000</td>\n",
              "    </tr>\n",
              "  </tbody>\n",
              "</table>\n",
              "</div>"
            ],
            "text/plain": [
              "         id  path\n",
              "label            \n",
              "0      5000  5000\n",
              "1      5000  5000\n",
              "2      5000  5000\n",
              "3      5000  5000\n",
              "4      5000  5000\n",
              "5      5000  5000\n",
              "6      5000  5000\n",
              "7      5000  5000\n",
              "8      5000  5000\n",
              "9      5000  5000"
            ]
          },
          "execution_count": 7,
          "metadata": {},
          "output_type": "execute_result"
        }
      ]
    },
    {
      "cell_type": "code",
      "metadata": {
        "execution": {
          "iopub.execute_input": "2021-09-13T03:33:15.126234Z",
          "iopub.status.busy": "2021-09-13T03:33:15.125503Z",
          "iopub.status.idle": "2021-09-13T03:33:15.127543Z",
          "shell.execute_reply": "2021-09-13T03:33:15.127965Z",
          "shell.execute_reply.started": "2021-09-13T02:21:12.428277Z"
        },
        "papermill": {
          "duration": 0.032264,
          "end_time": "2021-09-13T03:33:15.128098",
          "exception": false,
          "start_time": "2021-09-13T03:33:15.095834",
          "status": "completed"
        },
        "tags": [],
        "id": "d02d8ac4"
      },
      "source": [
        "BATCH_SIZE = 64\n",
        "NUM_CLASSES = 10"
      ],
      "id": "d02d8ac4",
      "execution_count": null,
      "outputs": []
    },
    {
      "cell_type": "code",
      "metadata": {
        "execution": {
          "iopub.execute_input": "2021-09-13T03:33:15.189219Z",
          "iopub.status.busy": "2021-09-13T03:33:15.188548Z",
          "iopub.status.idle": "2021-09-13T03:33:15.191159Z",
          "shell.execute_reply": "2021-09-13T03:33:15.191630Z",
          "shell.execute_reply.started": "2021-09-13T02:21:12.433599Z"
        },
        "papermill": {
          "duration": 0.03742,
          "end_time": "2021-09-13T03:33:15.191744",
          "exception": false,
          "start_time": "2021-09-13T03:33:15.154324",
          "status": "completed"
        },
        "tags": [],
        "id": "106b5461",
        "outputId": "f61a00f0-0deb-4b7b-c3ca-ebf3e1e86c45"
      },
      "source": [
        "train_images.head()"
      ],
      "id": "106b5461",
      "execution_count": null,
      "outputs": [
        {
          "data": {
            "text/html": [
              "<div>\n",
              "<style scoped>\n",
              "    .dataframe tbody tr th:only-of-type {\n",
              "        vertical-align: middle;\n",
              "    }\n",
              "\n",
              "    .dataframe tbody tr th {\n",
              "        vertical-align: top;\n",
              "    }\n",
              "\n",
              "    .dataframe thead th {\n",
              "        text-align: right;\n",
              "    }\n",
              "</style>\n",
              "<table border=\"1\" class=\"dataframe\">\n",
              "  <thead>\n",
              "    <tr style=\"text-align: right;\">\n",
              "      <th></th>\n",
              "      <th>id</th>\n",
              "      <th>label</th>\n",
              "      <th>path</th>\n",
              "    </tr>\n",
              "  </thead>\n",
              "  <tbody>\n",
              "    <tr>\n",
              "      <th>0</th>\n",
              "      <td>1</td>\n",
              "      <td>6</td>\n",
              "      <td>1.png</td>\n",
              "    </tr>\n",
              "    <tr>\n",
              "      <th>0</th>\n",
              "      <td>2</td>\n",
              "      <td>9</td>\n",
              "      <td>2.png</td>\n",
              "    </tr>\n",
              "    <tr>\n",
              "      <th>0</th>\n",
              "      <td>3</td>\n",
              "      <td>9</td>\n",
              "      <td>3.png</td>\n",
              "    </tr>\n",
              "    <tr>\n",
              "      <th>0</th>\n",
              "      <td>4</td>\n",
              "      <td>4</td>\n",
              "      <td>4.png</td>\n",
              "    </tr>\n",
              "    <tr>\n",
              "      <th>0</th>\n",
              "      <td>5</td>\n",
              "      <td>1</td>\n",
              "      <td>5.png</td>\n",
              "    </tr>\n",
              "  </tbody>\n",
              "</table>\n",
              "</div>"
            ],
            "text/plain": [
              "  id label   path\n",
              "0  1     6  1.png\n",
              "0  2     9  2.png\n",
              "0  3     9  3.png\n",
              "0  4     4  4.png\n",
              "0  5     1  5.png"
            ]
          },
          "execution_count": 9,
          "metadata": {},
          "output_type": "execute_result"
        }
      ]
    },
    {
      "cell_type": "markdown",
      "metadata": {
        "papermill": {
          "duration": 0.026324,
          "end_time": "2021-09-13T03:33:15.244603",
          "exception": false,
          "start_time": "2021-09-13T03:33:15.218279",
          "status": "completed"
        },
        "tags": [],
        "id": "ed40a5bc"
      },
      "source": [
        "## Image Data Generator"
      ],
      "id": "ed40a5bc"
    },
    {
      "cell_type": "code",
      "metadata": {
        "execution": {
          "iopub.execute_input": "2021-09-13T03:33:15.303978Z",
          "iopub.status.busy": "2021-09-13T03:33:15.303177Z",
          "iopub.status.idle": "2021-09-13T03:33:16.080025Z",
          "shell.execute_reply": "2021-09-13T03:33:16.080448Z",
          "shell.execute_reply.started": "2021-09-13T02:21:12.456485Z"
        },
        "papermill": {
          "duration": 0.809731,
          "end_time": "2021-09-13T03:33:16.080591",
          "exception": false,
          "start_time": "2021-09-13T03:33:15.270860",
          "status": "completed"
        },
        "tags": [],
        "id": "06a0faa0",
        "outputId": "36d2ec83-8403-4a37-ee79-1c2e44e8a97b"
      },
      "source": [
        "data_generator = ImageDataGenerator(rescale=1/255.,\n",
        "                                   validation_split=0.2,\n",
        "                                   horizontal_flip=True)\n",
        "\n",
        "train_generator = data_generator.flow_from_dataframe(dataframe=train_images, \n",
        "                                                    directory='./train/',\n",
        "                                                    x_col='path',\n",
        "                                                     y_col='label',\n",
        "                                                     subset='training',\n",
        "                                                     batch_size=BATCH_SIZE,\n",
        "                                                     shuffle=True,\n",
        "                                                     target_size=(32,32),\n",
        "                                                     class_mode='categorical')\n",
        "\n",
        "validation_generator = data_generator.flow_from_dataframe(dataframe=train_images,\n",
        "                                                         directory='./train/',\n",
        "                                                         x_col='path',\n",
        "                                                         y_col='label',\n",
        "                                                         subset='validation',\n",
        "                                                         batch_size=BATCH_SIZE,\n",
        "                                                         shuffle=True,\n",
        "                                                         target_size=(32,32),\n",
        "                                                         class_mode='categorical')"
      ],
      "id": "06a0faa0",
      "execution_count": null,
      "outputs": [
        {
          "name": "stdout",
          "output_type": "stream",
          "text": [
            "Found 40000 validated image filenames belonging to 10 classes.\n",
            "Found 10000 validated image filenames belonging to 10 classes.\n"
          ]
        }
      ]
    },
    {
      "cell_type": "markdown",
      "metadata": {
        "papermill": {
          "duration": 0.026991,
          "end_time": "2021-09-13T03:33:16.134646",
          "exception": false,
          "start_time": "2021-09-13T03:33:16.107655",
          "status": "completed"
        },
        "tags": [],
        "id": "e59cfa6e"
      },
      "source": [
        "## Modeling"
      ],
      "id": "e59cfa6e"
    },
    {
      "cell_type": "code",
      "metadata": {
        "execution": {
          "iopub.execute_input": "2021-09-13T03:33:16.198116Z",
          "iopub.status.busy": "2021-09-13T03:33:16.195549Z",
          "iopub.status.idle": "2021-09-13T03:33:18.393131Z",
          "shell.execute_reply": "2021-09-13T03:33:18.392692Z",
          "shell.execute_reply.started": "2021-09-13T02:21:13.228581Z"
        },
        "papermill": {
          "duration": 2.231846,
          "end_time": "2021-09-13T03:33:18.393257",
          "exception": false,
          "start_time": "2021-09-13T03:33:16.161411",
          "status": "completed"
        },
        "tags": [],
        "id": "82932e87",
        "outputId": "befa5de4-b211-4737-e65d-14bdc5987397"
      },
      "source": [
        "model = Sequential()\n",
        "model.add(Conv2D(32, kernel_size=3, activation='relu', padding='same', input_shape=(32,32,3)))\n",
        "model.add(BatchNormalization())\n",
        "model.add(Conv2D(32, kernel_size=3, activation='relu', padding='same'))\n",
        "model.add(BatchNormalization())\n",
        "model.add(MaxPooling2D())\n",
        "model.add(Dropout(0.2))\n",
        "\n",
        "model.add(Conv2D(64, kernel_size=3, activation='relu', padding='same'))\n",
        "model.add(BatchNormalization())\n",
        "model.add(Conv2D(64, kernel_size=3, activation='relu', padding='same'))\n",
        "model.add(BatchNormalization())\n",
        "model.add(MaxPooling2D())\n",
        "model.add(Dropout(0.3))\n",
        "\n",
        "model.add(Conv2D(128, kernel_size=3, activation='relu', padding='same'))\n",
        "model.add(BatchNormalization())\n",
        "model.add(Conv2D(128, kernel_size=3, activation='relu', padding='same'))\n",
        "model.add(BatchNormalization())\n",
        "model.add(MaxPooling2D())\n",
        "model.add(Dropout(0.4))\n",
        "\n",
        "model.add(Flatten())\n",
        "model.add(Dense(128, activation='relu'))\n",
        "model.add(BatchNormalization())\n",
        "model.add(Dropout(0.4))\n",
        "model.add(Dense(10, activation='softmax'))\n",
        "\n",
        "model.compile(loss='categorical_crossentropy', optimizer=tf.keras.optimizers.Adam(0.001), metrics=['accuracy'])\n",
        "model.summary()"
      ],
      "id": "82932e87",
      "execution_count": null,
      "outputs": [
        {
          "name": "stderr",
          "output_type": "stream",
          "text": [
            "2021-09-13 03:33:16.213976: I tensorflow/compiler/jit/xla_cpu_device.cc:41] Not creating XLA devices, tf_xla_enable_xla_devices not set\n",
            "2021-09-13 03:33:16.217841: I tensorflow/stream_executor/platform/default/dso_loader.cc:49] Successfully opened dynamic library libcuda.so.1\n",
            "2021-09-13 03:33:16.257859: I tensorflow/stream_executor/cuda/cuda_gpu_executor.cc:941] successful NUMA node read from SysFS had negative value (-1), but there must be at least one NUMA node, so returning NUMA node zero\n",
            "2021-09-13 03:33:16.258551: I tensorflow/core/common_runtime/gpu/gpu_device.cc:1720] Found device 0 with properties: \n",
            "pciBusID: 0000:00:04.0 name: Tesla P100-PCIE-16GB computeCapability: 6.0\n",
            "coreClock: 1.3285GHz coreCount: 56 deviceMemorySize: 15.90GiB deviceMemoryBandwidth: 681.88GiB/s\n",
            "2021-09-13 03:33:16.258612: I tensorflow/stream_executor/platform/default/dso_loader.cc:49] Successfully opened dynamic library libcudart.so.11.0\n",
            "2021-09-13 03:33:16.284110: I tensorflow/stream_executor/platform/default/dso_loader.cc:49] Successfully opened dynamic library libcublas.so.11\n",
            "2021-09-13 03:33:16.284218: I tensorflow/stream_executor/platform/default/dso_loader.cc:49] Successfully opened dynamic library libcublasLt.so.11\n",
            "2021-09-13 03:33:16.304730: I tensorflow/stream_executor/platform/default/dso_loader.cc:49] Successfully opened dynamic library libcufft.so.10\n",
            "2021-09-13 03:33:16.368691: I tensorflow/stream_executor/platform/default/dso_loader.cc:49] Successfully opened dynamic library libcurand.so.10\n",
            "2021-09-13 03:33:16.416967: I tensorflow/stream_executor/platform/default/dso_loader.cc:49] Successfully opened dynamic library libcusolver.so.10\n",
            "2021-09-13 03:33:16.444979: I tensorflow/stream_executor/platform/default/dso_loader.cc:49] Successfully opened dynamic library libcusparse.so.11\n",
            "2021-09-13 03:33:16.447861: I tensorflow/stream_executor/platform/default/dso_loader.cc:49] Successfully opened dynamic library libcudnn.so.8\n",
            "2021-09-13 03:33:16.448031: I tensorflow/stream_executor/cuda/cuda_gpu_executor.cc:941] successful NUMA node read from SysFS had negative value (-1), but there must be at least one NUMA node, so returning NUMA node zero\n",
            "2021-09-13 03:33:16.448772: I tensorflow/stream_executor/cuda/cuda_gpu_executor.cc:941] successful NUMA node read from SysFS had negative value (-1), but there must be at least one NUMA node, so returning NUMA node zero\n",
            "2021-09-13 03:33:16.450704: I tensorflow/core/common_runtime/gpu/gpu_device.cc:1862] Adding visible gpu devices: 0\n",
            "2021-09-13 03:33:16.451598: I tensorflow/core/platform/cpu_feature_guard.cc:142] This TensorFlow binary is optimized with oneAPI Deep Neural Network Library (oneDNN) to use the following CPU instructions in performance-critical operations:  AVX2 AVX512F FMA\n",
            "To enable them in other operations, rebuild TensorFlow with the appropriate compiler flags.\n",
            "2021-09-13 03:33:16.451816: I tensorflow/compiler/jit/xla_gpu_device.cc:99] Not creating XLA devices, tf_xla_enable_xla_devices not set\n",
            "2021-09-13 03:33:16.451990: I tensorflow/stream_executor/cuda/cuda_gpu_executor.cc:941] successful NUMA node read from SysFS had negative value (-1), but there must be at least one NUMA node, so returning NUMA node zero\n",
            "2021-09-13 03:33:16.452641: I tensorflow/core/common_runtime/gpu/gpu_device.cc:1720] Found device 0 with properties: \n",
            "pciBusID: 0000:00:04.0 name: Tesla P100-PCIE-16GB computeCapability: 6.0\n",
            "coreClock: 1.3285GHz coreCount: 56 deviceMemorySize: 15.90GiB deviceMemoryBandwidth: 681.88GiB/s\n",
            "2021-09-13 03:33:16.452694: I tensorflow/stream_executor/platform/default/dso_loader.cc:49] Successfully opened dynamic library libcudart.so.11.0\n",
            "2021-09-13 03:33:16.452724: I tensorflow/stream_executor/platform/default/dso_loader.cc:49] Successfully opened dynamic library libcublas.so.11\n",
            "2021-09-13 03:33:16.452745: I tensorflow/stream_executor/platform/default/dso_loader.cc:49] Successfully opened dynamic library libcublasLt.so.11\n",
            "2021-09-13 03:33:16.452767: I tensorflow/stream_executor/platform/default/dso_loader.cc:49] Successfully opened dynamic library libcufft.so.10\n",
            "2021-09-13 03:33:16.452787: I tensorflow/stream_executor/platform/default/dso_loader.cc:49] Successfully opened dynamic library libcurand.so.10\n",
            "2021-09-13 03:33:16.452808: I tensorflow/stream_executor/platform/default/dso_loader.cc:49] Successfully opened dynamic library libcusolver.so.10\n",
            "2021-09-13 03:33:16.452831: I tensorflow/stream_executor/platform/default/dso_loader.cc:49] Successfully opened dynamic library libcusparse.so.11\n",
            "2021-09-13 03:33:16.452852: I tensorflow/stream_executor/platform/default/dso_loader.cc:49] Successfully opened dynamic library libcudnn.so.8\n",
            "2021-09-13 03:33:16.452945: I tensorflow/stream_executor/cuda/cuda_gpu_executor.cc:941] successful NUMA node read from SysFS had negative value (-1), but there must be at least one NUMA node, so returning NUMA node zero\n",
            "2021-09-13 03:33:16.453611: I tensorflow/stream_executor/cuda/cuda_gpu_executor.cc:941] successful NUMA node read from SysFS had negative value (-1), but there must be at least one NUMA node, so returning NUMA node zero\n",
            "2021-09-13 03:33:16.454156: I tensorflow/core/common_runtime/gpu/gpu_device.cc:1862] Adding visible gpu devices: 0\n",
            "2021-09-13 03:33:16.455352: I tensorflow/stream_executor/platform/default/dso_loader.cc:49] Successfully opened dynamic library libcudart.so.11.0\n",
            "2021-09-13 03:33:17.885210: I tensorflow/core/common_runtime/gpu/gpu_device.cc:1261] Device interconnect StreamExecutor with strength 1 edge matrix:\n",
            "2021-09-13 03:33:17.885264: I tensorflow/core/common_runtime/gpu/gpu_device.cc:1267]      0 \n",
            "2021-09-13 03:33:17.885277: I tensorflow/core/common_runtime/gpu/gpu_device.cc:1280] 0:   N \n",
            "2021-09-13 03:33:17.888607: I tensorflow/stream_executor/cuda/cuda_gpu_executor.cc:941] successful NUMA node read from SysFS had negative value (-1), but there must be at least one NUMA node, so returning NUMA node zero\n",
            "2021-09-13 03:33:17.889418: I tensorflow/stream_executor/cuda/cuda_gpu_executor.cc:941] successful NUMA node read from SysFS had negative value (-1), but there must be at least one NUMA node, so returning NUMA node zero\n",
            "2021-09-13 03:33:17.890040: I tensorflow/stream_executor/cuda/cuda_gpu_executor.cc:941] successful NUMA node read from SysFS had negative value (-1), but there must be at least one NUMA node, so returning NUMA node zero\n",
            "2021-09-13 03:33:17.890613: I tensorflow/core/common_runtime/gpu/gpu_device.cc:1406] Created TensorFlow device (/job:localhost/replica:0/task:0/device:GPU:0 with 14957 MB memory) -> physical GPU (device: 0, name: Tesla P100-PCIE-16GB, pci bus id: 0000:00:04.0, compute capability: 6.0)\n"
          ]
        },
        {
          "name": "stdout",
          "output_type": "stream",
          "text": [
            "Model: \"sequential\"\n",
            "_________________________________________________________________\n",
            "Layer (type)                 Output Shape              Param #   \n",
            "=================================================================\n",
            "conv2d (Conv2D)              (None, 32, 32, 32)        896       \n",
            "_________________________________________________________________\n",
            "batch_normalization (BatchNo (None, 32, 32, 32)        128       \n",
            "_________________________________________________________________\n",
            "conv2d_1 (Conv2D)            (None, 32, 32, 32)        9248      \n",
            "_________________________________________________________________\n",
            "batch_normalization_1 (Batch (None, 32, 32, 32)        128       \n",
            "_________________________________________________________________\n",
            "max_pooling2d (MaxPooling2D) (None, 16, 16, 32)        0         \n",
            "_________________________________________________________________\n",
            "dropout (Dropout)            (None, 16, 16, 32)        0         \n",
            "_________________________________________________________________\n",
            "conv2d_2 (Conv2D)            (None, 16, 16, 64)        18496     \n",
            "_________________________________________________________________\n",
            "batch_normalization_2 (Batch (None, 16, 16, 64)        256       \n",
            "_________________________________________________________________\n",
            "conv2d_3 (Conv2D)            (None, 16, 16, 64)        36928     \n",
            "_________________________________________________________________\n",
            "batch_normalization_3 (Batch (None, 16, 16, 64)        256       \n",
            "_________________________________________________________________\n",
            "max_pooling2d_1 (MaxPooling2 (None, 8, 8, 64)          0         \n",
            "_________________________________________________________________\n",
            "dropout_1 (Dropout)          (None, 8, 8, 64)          0         \n",
            "_________________________________________________________________\n",
            "conv2d_4 (Conv2D)            (None, 8, 8, 128)         73856     \n",
            "_________________________________________________________________\n",
            "batch_normalization_4 (Batch (None, 8, 8, 128)         512       \n",
            "_________________________________________________________________\n",
            "conv2d_5 (Conv2D)            (None, 8, 8, 128)         147584    \n",
            "_________________________________________________________________\n",
            "batch_normalization_5 (Batch (None, 8, 8, 128)         512       \n",
            "_________________________________________________________________\n",
            "max_pooling2d_2 (MaxPooling2 (None, 4, 4, 128)         0         \n",
            "_________________________________________________________________\n",
            "dropout_2 (Dropout)          (None, 4, 4, 128)         0         \n",
            "_________________________________________________________________\n",
            "flatten (Flatten)            (None, 2048)              0         \n",
            "_________________________________________________________________\n",
            "dense (Dense)                (None, 128)               262272    \n",
            "_________________________________________________________________\n",
            "batch_normalization_6 (Batch (None, 128)               512       \n",
            "_________________________________________________________________\n",
            "dropout_3 (Dropout)          (None, 128)               0         \n",
            "_________________________________________________________________\n",
            "dense_1 (Dense)              (None, 10)                1290      \n",
            "=================================================================\n",
            "Total params: 552,874\n",
            "Trainable params: 551,722\n",
            "Non-trainable params: 1,152\n",
            "_________________________________________________________________\n"
          ]
        }
      ]
    },
    {
      "cell_type": "code",
      "metadata": {
        "execution": {
          "iopub.execute_input": "2021-09-13T03:33:18.455982Z",
          "iopub.status.busy": "2021-09-13T03:33:18.455370Z",
          "iopub.status.idle": "2021-09-13T03:53:17.408497Z",
          "shell.execute_reply": "2021-09-13T03:53:17.408862Z",
          "shell.execute_reply.started": "2021-09-13T02:21:15.428814Z"
        },
        "papermill": {
          "duration": 1198.987169,
          "end_time": "2021-09-13T03:53:17.409028",
          "exception": false,
          "start_time": "2021-09-13T03:33:18.421859",
          "status": "completed"
        },
        "tags": [],
        "id": "02e23650",
        "outputId": "9d2afc98-ae8f-4dbc-85bf-be3928b8c774"
      },
      "source": [
        "reduce_lr = tf.keras.callbacks.ReduceLROnPlateau(monitor='val_loss', patience=5, factor=0.6, min_denta=0.00001)\n",
        "es = tf.keras.callbacks.EarlyStopping(monitor='val_loss', patience=15, verbose=1, restore_best_weights=True)\n",
        "\n",
        "history = model.fit(train_generator, epochs=100, validation_data=validation_generator, callbacks=[reduce_lr, es])"
      ],
      "id": "02e23650",
      "execution_count": null,
      "outputs": [
        {
          "name": "stderr",
          "output_type": "stream",
          "text": [
            "2021-09-13 03:33:18.552297: I tensorflow/compiler/mlir/mlir_graph_optimization_pass.cc:116] None of the MLIR optimization passes are enabled (registered 2)\n",
            "2021-09-13 03:33:18.556170: I tensorflow/core/platform/profile_utils/cpu_utils.cc:112] CPU Frequency: 2000220000 Hz\n"
          ]
        },
        {
          "name": "stdout",
          "output_type": "stream",
          "text": [
            "Epoch 1/100\n"
          ]
        },
        {
          "name": "stderr",
          "output_type": "stream",
          "text": [
            "2021-09-13 03:33:19.828620: I tensorflow/stream_executor/platform/default/dso_loader.cc:49] Successfully opened dynamic library libcublas.so.11\n",
            "2021-09-13 03:33:20.639032: I tensorflow/stream_executor/platform/default/dso_loader.cc:49] Successfully opened dynamic library libcublasLt.so.11\n",
            "2021-09-13 03:33:20.669194: I tensorflow/stream_executor/platform/default/dso_loader.cc:49] Successfully opened dynamic library libcudnn.so.8\n"
          ]
        },
        {
          "name": "stdout",
          "output_type": "stream",
          "text": [
            "625/625 [==============================] - 24s 27ms/step - loss: 2.0149 - accuracy: 0.3355 - val_loss: 1.3834 - val_accuracy: 0.5153\n",
            "Epoch 2/100\n",
            "625/625 [==============================] - 15s 24ms/step - loss: 1.1798 - accuracy: 0.5812 - val_loss: 0.9086 - val_accuracy: 0.6746\n",
            "Epoch 3/100\n",
            "625/625 [==============================] - 15s 25ms/step - loss: 0.9398 - accuracy: 0.6704 - val_loss: 0.8183 - val_accuracy: 0.7076\n",
            "Epoch 4/100\n",
            "625/625 [==============================] - 16s 25ms/step - loss: 0.8371 - accuracy: 0.7079 - val_loss: 0.8098 - val_accuracy: 0.7199\n",
            "Epoch 5/100\n",
            "625/625 [==============================] - 16s 25ms/step - loss: 0.7587 - accuracy: 0.7341 - val_loss: 0.6942 - val_accuracy: 0.7566\n",
            "Epoch 6/100\n",
            "625/625 [==============================] - 16s 25ms/step - loss: 0.6987 - accuracy: 0.7583 - val_loss: 0.8147 - val_accuracy: 0.7121\n",
            "Epoch 7/100\n",
            "625/625 [==============================] - 15s 25ms/step - loss: 0.6583 - accuracy: 0.7744 - val_loss: 0.6139 - val_accuracy: 0.7861\n",
            "Epoch 8/100\n",
            "625/625 [==============================] - 16s 26ms/step - loss: 0.6058 - accuracy: 0.7932 - val_loss: 0.6266 - val_accuracy: 0.7834\n",
            "Epoch 9/100\n",
            "625/625 [==============================] - 15s 24ms/step - loss: 0.5881 - accuracy: 0.7989 - val_loss: 0.6715 - val_accuracy: 0.7694\n",
            "Epoch 10/100\n",
            "625/625 [==============================] - 16s 26ms/step - loss: 0.5583 - accuracy: 0.8049 - val_loss: 0.5135 - val_accuracy: 0.8247\n",
            "Epoch 11/100\n",
            "625/625 [==============================] - 15s 25ms/step - loss: 0.5354 - accuracy: 0.8166 - val_loss: 0.5003 - val_accuracy: 0.8268\n",
            "Epoch 12/100\n",
            "625/625 [==============================] - 16s 26ms/step - loss: 0.5230 - accuracy: 0.8202 - val_loss: 0.5676 - val_accuracy: 0.8103\n",
            "Epoch 13/100\n",
            "625/625 [==============================] - 15s 25ms/step - loss: 0.4928 - accuracy: 0.8307 - val_loss: 0.5334 - val_accuracy: 0.8187\n",
            "Epoch 14/100\n",
            "625/625 [==============================] - 16s 26ms/step - loss: 0.4665 - accuracy: 0.8399 - val_loss: 0.4833 - val_accuracy: 0.8329\n",
            "Epoch 15/100\n",
            "625/625 [==============================] - 15s 24ms/step - loss: 0.4747 - accuracy: 0.8364 - val_loss: 0.4727 - val_accuracy: 0.8399\n",
            "Epoch 16/100\n",
            "625/625 [==============================] - 16s 26ms/step - loss: 0.4536 - accuracy: 0.8433 - val_loss: 0.4671 - val_accuracy: 0.8403\n",
            "Epoch 17/100\n",
            "625/625 [==============================] - 15s 24ms/step - loss: 0.4340 - accuracy: 0.8503 - val_loss: 0.5023 - val_accuracy: 0.8291\n",
            "Epoch 18/100\n",
            "625/625 [==============================] - 16s 26ms/step - loss: 0.4207 - accuracy: 0.8550 - val_loss: 0.7276 - val_accuracy: 0.7691\n",
            "Epoch 19/100\n",
            "625/625 [==============================] - 15s 24ms/step - loss: 0.4162 - accuracy: 0.8583 - val_loss: 0.4270 - val_accuracy: 0.8534\n",
            "Epoch 20/100\n",
            "625/625 [==============================] - 17s 26ms/step - loss: 0.4112 - accuracy: 0.8585 - val_loss: 0.6096 - val_accuracy: 0.8027\n",
            "Epoch 21/100\n",
            "625/625 [==============================] - 15s 24ms/step - loss: 0.3945 - accuracy: 0.8634 - val_loss: 0.4776 - val_accuracy: 0.8401\n",
            "Epoch 22/100\n",
            "625/625 [==============================] - 17s 27ms/step - loss: 0.3834 - accuracy: 0.8645 - val_loss: 0.4326 - val_accuracy: 0.8525\n",
            "Epoch 23/100\n",
            "625/625 [==============================] - 15s 25ms/step - loss: 0.3820 - accuracy: 0.8672 - val_loss: 0.4154 - val_accuracy: 0.8567\n",
            "Epoch 24/100\n",
            "625/625 [==============================] - 17s 27ms/step - loss: 0.3621 - accuracy: 0.8727 - val_loss: 0.4203 - val_accuracy: 0.8579\n",
            "Epoch 25/100\n",
            "625/625 [==============================] - 15s 24ms/step - loss: 0.3629 - accuracy: 0.8731 - val_loss: 0.4105 - val_accuracy: 0.8644\n",
            "Epoch 26/100\n",
            "625/625 [==============================] - 17s 27ms/step - loss: 0.3536 - accuracy: 0.8751 - val_loss: 0.4207 - val_accuracy: 0.8605\n",
            "Epoch 27/100\n",
            "625/625 [==============================] - 15s 24ms/step - loss: 0.3425 - accuracy: 0.8818 - val_loss: 0.4398 - val_accuracy: 0.8542\n",
            "Epoch 28/100\n",
            "625/625 [==============================] - 17s 27ms/step - loss: 0.3488 - accuracy: 0.8783 - val_loss: 0.4170 - val_accuracy: 0.8629\n",
            "Epoch 29/100\n",
            "625/625 [==============================] - 15s 24ms/step - loss: 0.3312 - accuracy: 0.8831 - val_loss: 0.4493 - val_accuracy: 0.8518\n",
            "Epoch 30/100\n",
            "625/625 [==============================] - 17s 27ms/step - loss: 0.3295 - accuracy: 0.8850 - val_loss: 0.4050 - val_accuracy: 0.8693\n",
            "Epoch 31/100\n",
            "625/625 [==============================] - 15s 25ms/step - loss: 0.3288 - accuracy: 0.8868 - val_loss: 0.4224 - val_accuracy: 0.8597\n",
            "Epoch 32/100\n",
            "625/625 [==============================] - 17s 27ms/step - loss: 0.3253 - accuracy: 0.8881 - val_loss: 0.4080 - val_accuracy: 0.8625\n",
            "Epoch 33/100\n",
            "625/625 [==============================] - 15s 25ms/step - loss: 0.3269 - accuracy: 0.8864 - val_loss: 0.4538 - val_accuracy: 0.8513\n",
            "Epoch 34/100\n",
            "625/625 [==============================] - 17s 27ms/step - loss: 0.3073 - accuracy: 0.8953 - val_loss: 0.4651 - val_accuracy: 0.8482\n",
            "Epoch 35/100\n",
            "625/625 [==============================] - 16s 25ms/step - loss: 0.3135 - accuracy: 0.8918 - val_loss: 0.3888 - val_accuracy: 0.8724\n",
            "Epoch 36/100\n",
            "625/625 [==============================] - 17s 28ms/step - loss: 0.2937 - accuracy: 0.8986 - val_loss: 0.3777 - val_accuracy: 0.8740\n",
            "Epoch 37/100\n",
            "625/625 [==============================] - 15s 24ms/step - loss: 0.2910 - accuracy: 0.8984 - val_loss: 0.3992 - val_accuracy: 0.8717\n",
            "Epoch 38/100\n",
            "625/625 [==============================] - 15s 25ms/step - loss: 0.2996 - accuracy: 0.8957 - val_loss: 0.3739 - val_accuracy: 0.8769\n",
            "Epoch 39/100\n",
            "625/625 [==============================] - 17s 27ms/step - loss: 0.2880 - accuracy: 0.8986 - val_loss: 0.3893 - val_accuracy: 0.8713\n",
            "Epoch 40/100\n",
            "625/625 [==============================] - 15s 25ms/step - loss: 0.2879 - accuracy: 0.8977 - val_loss: 0.4004 - val_accuracy: 0.8677\n",
            "Epoch 41/100\n",
            "625/625 [==============================] - 17s 28ms/step - loss: 0.2861 - accuracy: 0.8990 - val_loss: 0.3923 - val_accuracy: 0.8683\n",
            "Epoch 42/100\n",
            "625/625 [==============================] - 15s 25ms/step - loss: 0.2786 - accuracy: 0.9012 - val_loss: 0.3711 - val_accuracy: 0.8793\n",
            "Epoch 43/100\n",
            "625/625 [==============================] - 17s 28ms/step - loss: 0.2750 - accuracy: 0.9032 - val_loss: 0.3620 - val_accuracy: 0.8836\n",
            "Epoch 44/100\n",
            "625/625 [==============================] - 15s 24ms/step - loss: 0.2628 - accuracy: 0.9088 - val_loss: 0.3862 - val_accuracy: 0.8774\n",
            "Epoch 45/100\n",
            "625/625 [==============================] - 18s 28ms/step - loss: 0.2662 - accuracy: 0.9067 - val_loss: 0.3746 - val_accuracy: 0.8800\n",
            "Epoch 46/100\n",
            "625/625 [==============================] - 15s 24ms/step - loss: 0.2747 - accuracy: 0.9044 - val_loss: 0.3859 - val_accuracy: 0.8743\n",
            "Epoch 47/100\n",
            "625/625 [==============================] - 18s 28ms/step - loss: 0.2719 - accuracy: 0.9041 - val_loss: 0.3789 - val_accuracy: 0.8750\n",
            "Epoch 48/100\n",
            "625/625 [==============================] - 15s 24ms/step - loss: 0.2710 - accuracy: 0.9070 - val_loss: 0.3687 - val_accuracy: 0.8853\n",
            "Epoch 49/100\n",
            "625/625 [==============================] - 18s 29ms/step - loss: 0.2444 - accuracy: 0.9146 - val_loss: 0.3782 - val_accuracy: 0.8805\n",
            "Epoch 50/100\n",
            "625/625 [==============================] - 15s 24ms/step - loss: 0.2332 - accuracy: 0.9187 - val_loss: 0.3450 - val_accuracy: 0.8910\n",
            "Epoch 51/100\n",
            "625/625 [==============================] - 15s 25ms/step - loss: 0.2256 - accuracy: 0.9202 - val_loss: 0.3619 - val_accuracy: 0.8827\n",
            "Epoch 52/100\n",
            "625/625 [==============================] - 18s 28ms/step - loss: 0.2061 - accuracy: 0.9293 - val_loss: 0.3650 - val_accuracy: 0.8836\n",
            "Epoch 53/100\n",
            "625/625 [==============================] - 15s 25ms/step - loss: 0.2189 - accuracy: 0.9241 - val_loss: 0.3514 - val_accuracy: 0.8882\n",
            "Epoch 54/100\n",
            "625/625 [==============================] - 18s 28ms/step - loss: 0.2066 - accuracy: 0.9266 - val_loss: 0.3470 - val_accuracy: 0.8899\n",
            "Epoch 55/100\n",
            "625/625 [==============================] - 15s 25ms/step - loss: 0.2122 - accuracy: 0.9254 - val_loss: 0.3651 - val_accuracy: 0.8862\n",
            "Epoch 56/100\n",
            "625/625 [==============================] - 18s 29ms/step - loss: 0.1937 - accuracy: 0.9310 - val_loss: 0.3369 - val_accuracy: 0.8923\n",
            "Epoch 57/100\n",
            "625/625 [==============================] - 15s 24ms/step - loss: 0.1901 - accuracy: 0.9305 - val_loss: 0.3548 - val_accuracy: 0.8914\n",
            "Epoch 58/100\n",
            "625/625 [==============================] - 18s 29ms/step - loss: 0.1981 - accuracy: 0.9321 - val_loss: 0.3466 - val_accuracy: 0.8931\n",
            "Epoch 59/100\n",
            "625/625 [==============================] - 15s 24ms/step - loss: 0.1853 - accuracy: 0.9345 - val_loss: 0.3330 - val_accuracy: 0.8976\n",
            "Epoch 60/100\n",
            "625/625 [==============================] - 16s 25ms/step - loss: 0.1847 - accuracy: 0.9334 - val_loss: 0.3443 - val_accuracy: 0.8937\n",
            "Epoch 61/100\n",
            "625/625 [==============================] - 15s 24ms/step - loss: 0.1844 - accuracy: 0.9354 - val_loss: 0.3560 - val_accuracy: 0.8877\n",
            "Epoch 62/100\n",
            "625/625 [==============================] - 15s 24ms/step - loss: 0.1860 - accuracy: 0.9361 - val_loss: 0.3533 - val_accuracy: 0.8938\n",
            "Epoch 63/100\n",
            "625/625 [==============================] - 18s 29ms/step - loss: 0.1828 - accuracy: 0.9335 - val_loss: 0.3500 - val_accuracy: 0.8923\n",
            "Epoch 64/100\n",
            "625/625 [==============================] - 16s 25ms/step - loss: 0.1797 - accuracy: 0.9366 - val_loss: 0.3660 - val_accuracy: 0.8916\n",
            "Epoch 65/100\n",
            "625/625 [==============================] - 15s 25ms/step - loss: 0.1706 - accuracy: 0.9396 - val_loss: 0.3486 - val_accuracy: 0.8948\n",
            "Epoch 66/100\n",
            "625/625 [==============================] - 15s 25ms/step - loss: 0.1687 - accuracy: 0.9414 - val_loss: 0.3483 - val_accuracy: 0.8957\n",
            "Epoch 67/100\n",
            "625/625 [==============================] - 19s 30ms/step - loss: 0.1611 - accuracy: 0.9415 - val_loss: 0.3368 - val_accuracy: 0.8963\n",
            "Epoch 68/100\n",
            "625/625 [==============================] - 15s 25ms/step - loss: 0.1665 - accuracy: 0.9410 - val_loss: 0.3394 - val_accuracy: 0.8970\n",
            "Epoch 69/100\n",
            "625/625 [==============================] - 16s 25ms/step - loss: 0.1590 - accuracy: 0.9437 - val_loss: 0.3442 - val_accuracy: 0.8976\n",
            "Epoch 70/100\n",
            "625/625 [==============================] - 15s 24ms/step - loss: 0.1559 - accuracy: 0.9443 - val_loss: 0.3372 - val_accuracy: 0.9001\n",
            "Epoch 71/100\n",
            "625/625 [==============================] - 19s 31ms/step - loss: 0.1525 - accuracy: 0.9443 - val_loss: 0.3358 - val_accuracy: 0.9008\n",
            "Epoch 72/100\n",
            "625/625 [==============================] - 15s 25ms/step - loss: 0.1537 - accuracy: 0.9465 - val_loss: 0.3348 - val_accuracy: 0.8990\n",
            "Epoch 73/100\n",
            "625/625 [==============================] - 16s 26ms/step - loss: 0.1567 - accuracy: 0.9427 - val_loss: 0.3465 - val_accuracy: 0.8964\n",
            "Epoch 74/100\n",
            "625/625 [==============================] - 15s 24ms/step - loss: 0.1505 - accuracy: 0.9467 - val_loss: 0.3382 - val_accuracy: 0.9008\n",
            "Restoring model weights from the end of the best epoch.\n",
            "Epoch 00074: early stopping\n"
          ]
        }
      ]
    },
    {
      "cell_type": "markdown",
      "metadata": {
        "papermill": {
          "duration": 4.603536,
          "end_time": "2021-09-13T03:53:26.767338",
          "exception": false,
          "start_time": "2021-09-13T03:53:22.163802",
          "status": "completed"
        },
        "tags": [],
        "id": "fdc0d00f"
      },
      "source": [
        "## Visualize `accuracy` and `loss`"
      ],
      "id": "fdc0d00f"
    },
    {
      "cell_type": "code",
      "metadata": {
        "execution": {
          "iopub.execute_input": "2021-09-13T03:53:35.640589Z",
          "iopub.status.busy": "2021-09-13T03:53:35.639727Z",
          "iopub.status.idle": "2021-09-13T03:53:35.998558Z",
          "shell.execute_reply": "2021-09-13T03:53:35.998133Z",
          "shell.execute_reply.started": "2021-09-13T02:40:58.074361Z"
        },
        "papermill": {
          "duration": 4.67762,
          "end_time": "2021-09-13T03:53:35.998676",
          "exception": false,
          "start_time": "2021-09-13T03:53:31.321056",
          "status": "completed"
        },
        "tags": [],
        "id": "bd26d63e",
        "outputId": "5dc6326a-4a94-4a97-b665-e0616e4b7650"
      },
      "source": [
        "_, ax = plt.subplots(2, 1)\n",
        "ax[0].plot(history.history['loss'], color='b', label='loss')\n",
        "ax[0].plot(history.history['val_loss'], color='r', label='val_loss')\n",
        "legend = ax[0].legend(loc='best', shadow=True)\n",
        "\n",
        "ax[1].plot(history.history['accuracy'], color='b', label='accuracy')\n",
        "ax[1].plot(history.history['val_accuracy'], color='r', label='val_accuracy')\n",
        "legend = ax[1].legend(loc='best', shadow=True)"
      ],
      "id": "bd26d63e",
      "execution_count": null,
      "outputs": [
        {
          "data": {
            "image/png": "[encoded data removed]",
            "text/plain": [
              "<Figure size 432x288 with 2 Axes>"
            ]
          },
          "metadata": {
            "needs_background": "light"
          },
          "output_type": "display_data"
        }
      ]
    },
    {
      "cell_type": "markdown",
      "metadata": {
        "papermill": {
          "duration": 4.461758,
          "end_time": "2021-09-13T03:53:44.921463",
          "exception": false,
          "start_time": "2021-09-13T03:53:40.459705",
          "status": "completed"
        },
        "tags": [],
        "id": "39db8429"
      },
      "source": [
        "## Prediction"
      ],
      "id": "39db8429"
    },
    {
      "cell_type": "code",
      "metadata": {
        "execution": {
          "iopub.execute_input": "2021-09-13T03:53:53.795221Z",
          "iopub.status.busy": "2021-09-13T03:53:53.794320Z",
          "iopub.status.idle": "2021-09-13T03:53:55.287774Z",
          "shell.execute_reply": "2021-09-13T03:53:55.286582Z",
          "shell.execute_reply.started": "2021-09-13T02:40:58.426377Z"
        },
        "papermill": {
          "duration": 6.102741,
          "end_time": "2021-09-13T03:53:55.287948",
          "exception": false,
          "start_time": "2021-09-13T03:53:49.185207",
          "status": "completed"
        },
        "tags": [],
        "id": "c382303d"
      },
      "source": [
        "!mkdir ./data/\n",
        "!mv ./test ./data"
      ],
      "id": "c382303d",
      "execution_count": null,
      "outputs": []
    },
    {
      "cell_type": "code",
      "metadata": {
        "execution": {
          "iopub.execute_input": "2021-09-13T03:54:04.284637Z",
          "iopub.status.busy": "2021-09-13T03:54:04.283781Z",
          "iopub.status.idle": "2021-09-13T03:54:12.494160Z",
          "shell.execute_reply": "2021-09-13T03:54:12.493695Z",
          "shell.execute_reply.started": "2021-09-13T02:40:59.768759Z"
        },
        "papermill": {
          "duration": 12.723909,
          "end_time": "2021-09-13T03:54:12.494292",
          "exception": false,
          "start_time": "2021-09-13T03:53:59.770383",
          "status": "completed"
        },
        "tags": [],
        "id": "8af0b5c0",
        "outputId": "1b465646-a12a-4052-b6b7-50d3164f494d"
      },
      "source": [
        "test_data_generator = ImageDataGenerator(rescale=1./255.)\n",
        "test_generator = test_data_generator.flow_from_directory(directory='./data',\n",
        "            batch_size=BATCH_SIZE,\n",
        "            shuffle=False,color_mode='rgb',\n",
        "            target_size=(32,32),\n",
        "            class_mode=None)"
      ],
      "id": "8af0b5c0",
      "execution_count": null,
      "outputs": [
        {
          "name": "stdout",
          "output_type": "stream",
          "text": [
            "Found 300000 images belonging to 1 classes.\n"
          ]
        }
      ]
    },
    {
      "cell_type": "code",
      "metadata": {
        "execution": {
          "iopub.execute_input": "2021-09-13T03:54:21.343026Z",
          "iopub.status.busy": "2021-09-13T03:54:21.342252Z",
          "iopub.status.idle": "2021-09-13T03:55:35.467678Z",
          "shell.execute_reply": "2021-09-13T03:55:35.466789Z",
          "shell.execute_reply.started": "2021-09-13T02:41:08.515202Z"
        },
        "papermill": {
          "duration": 78.453318,
          "end_time": "2021-09-13T03:55:35.467824",
          "exception": false,
          "start_time": "2021-09-13T03:54:17.014506",
          "status": "completed"
        },
        "tags": [],
        "id": "b8c2b164"
      },
      "source": [
        "prediction = model.predict(test_generator)"
      ],
      "id": "b8c2b164",
      "execution_count": null,
      "outputs": []
    },
    {
      "cell_type": "code",
      "metadata": {
        "execution": {
          "iopub.execute_input": "2021-09-13T03:55:44.386685Z",
          "iopub.status.busy": "2021-09-13T03:55:44.385898Z",
          "iopub.status.idle": "2021-09-13T03:55:45.333890Z",
          "shell.execute_reply": "2021-09-13T03:55:45.334322Z",
          "shell.execute_reply.started": "2021-09-13T02:42:20.085947Z"
        },
        "papermill": {
          "duration": 5.518691,
          "end_time": "2021-09-13T03:55:45.334463",
          "exception": false,
          "start_time": "2021-09-13T03:55:39.815772",
          "status": "completed"
        },
        "tags": [],
        "id": "e0f62f29",
        "outputId": "27f21216-7065-4805-9ca0-6756839f16b5"
      },
      "source": [
        "prediction = np.argmax(prediction, axis=1)\n",
        "submission = pd.DataFrame(columns=['id', 'label'], dtype=str)\n",
        "submission['label'] = [class_names[int(i)] for i in prediction]\n",
        "submission['id'] = [ (''.join(filter(str.isdigit, name ))) for name in test_generator.filenames]\n",
        "\n",
        "submission.sort_values(by=['id'])\n",
        "submission.head()"
      ],
      "id": "e0f62f29",
      "execution_count": null,
      "outputs": [
        {
          "data": {
            "text/html": [
              "<div>\n",
              "<style scoped>\n",
              "    .dataframe tbody tr th:only-of-type {\n",
              "        vertical-align: middle;\n",
              "    }\n",
              "\n",
              "    .dataframe tbody tr th {\n",
              "        vertical-align: top;\n",
              "    }\n",
              "\n",
              "    .dataframe thead th {\n",
              "        text-align: right;\n",
              "    }\n",
              "</style>\n",
              "<table border=\"1\" class=\"dataframe\">\n",
              "  <thead>\n",
              "    <tr style=\"text-align: right;\">\n",
              "      <th></th>\n",
              "      <th>id</th>\n",
              "      <th>label</th>\n",
              "    </tr>\n",
              "  </thead>\n",
              "  <tbody>\n",
              "    <tr>\n",
              "      <th>0</th>\n",
              "      <td>1</td>\n",
              "      <td>deer</td>\n",
              "    </tr>\n",
              "    <tr>\n",
              "      <th>1</th>\n",
              "      <td>10</td>\n",
              "      <td>cat</td>\n",
              "    </tr>\n",
              "    <tr>\n",
              "      <th>2</th>\n",
              "      <td>100</td>\n",
              "      <td>deer</td>\n",
              "    </tr>\n",
              "    <tr>\n",
              "      <th>3</th>\n",
              "      <td>1000</td>\n",
              "      <td>deer</td>\n",
              "    </tr>\n",
              "    <tr>\n",
              "      <th>4</th>\n",
              "      <td>10000</td>\n",
              "      <td>frog</td>\n",
              "    </tr>\n",
              "  </tbody>\n",
              "</table>\n",
              "</div>"
            ],
            "text/plain": [
              "      id label\n",
              "0      1  deer\n",
              "1     10   cat\n",
              "2    100  deer\n",
              "3   1000  deer\n",
              "4  10000  frog"
            ]
          },
          "execution_count": 17,
          "metadata": {},
          "output_type": "execute_result"
        }
      ]
    }
  ]
}