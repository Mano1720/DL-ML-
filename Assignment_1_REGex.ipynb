{
  "nbformat": 4,
  "nbformat_minor": 0,
  "metadata": {
    "colab": {
      "name": "Assignment-1 REGex.ipynb",
      "provenance": [],
      "collapsed_sections": [],
      "authorship_tag": "ABX9TyMQDu8l4H42iT6jpBki7cYC",
      "include_colab_link": true
    },
    "kernelspec": {
      "name": "python3",
      "display_name": "Python 3"
    },
    "language_info": {
      "name": "python"
    }
  },
  "cells": [
    {
      "cell_type": "markdown",
      "metadata": {
        "id": "view-in-github",
        "colab_type": "text"
      },
      "source": [
        "<a href=\"https://colab.research.google.com/github/Mano1720/DL-ML-/blob/main/Assignment_1_REGex.ipynb\" target=\"_parent\"><img src=\"https://colab.research.google.com/assets/colab-badge.svg\" alt=\"Open In Colab\"/></a>"
      ]
    },
    {
      "cell_type": "markdown",
      "metadata": {
        "id": "DlNf5nLV4zA7"
      },
      "source": [
        "#Task 1\n",
        "\n",
        "**K** **Manoj**\n",
        "\n",
        "Referral Id:**SIRSS2309**\n",
        "\n"
      ]
    },
    {
      "cell_type": "code",
      "metadata": {
        "id": "61y6zOMx5MK5",
        "colab": {
          "base_uri": "https://localhost:8080/"
        },
        "outputId": "d57e4f60-e54a-437d-c560-58221dae1458"
      },
      "source": [
        "n=int(input('enter the number of rows: '))\n",
        "for i in range(n+1,0,-1):\n",
        "  for j in range(0,i-1):\n",
        "    print(\"5 \",end=' ')\n",
        "  print(\" \")"
      ],
      "execution_count": 1,
      "outputs": [
        {
          "output_type": "stream",
          "text": [
            "enter the number of rows: 5\n",
            "5  5  5  5  5   \n",
            "5  5  5  5   \n",
            "5  5  5   \n",
            "5  5   \n",
            "5   \n",
            " \n"
          ],
          "name": "stdout"
        }
      ]
    },
    {
      "cell_type": "code",
      "metadata": {
        "colab": {
          "base_uri": "https://localhost:8080/"
        },
        "id": "XrMOEzKv8ipZ",
        "outputId": "a7fd0a91-5ba9-4ea3-adf5-49daad39111e"
      },
      "source": [
        "n=int(input('enter the number of rows: '))\n",
        "for i in range(n,0,-1):\n",
        "  for j in range(0,i+1):\n",
        "    print(j,end=' ')\n",
        "  print(\" \")"
      ],
      "execution_count": 2,
      "outputs": [
        {
          "output_type": "stream",
          "text": [
            "enter the number of rows: 5\n",
            "0 1 2 3 4 5  \n",
            "0 1 2 3 4  \n",
            "0 1 2 3  \n",
            "0 1 2  \n",
            "0 1  \n"
          ],
          "name": "stdout"
        }
      ]
    },
    {
      "cell_type": "code",
      "metadata": {
        "colab": {
          "base_uri": "https://localhost:8080/"
        },
        "id": "4Afi0Sc590GF",
        "outputId": "85998941-aae6-4e1f-82a0-424e894cf709"
      },
      "source": [
        "n=5\n",
        "i=1\n",
        "while (i<=n):\n",
        "    j=1\n",
        "    while (j<= i):\n",
        "      print(i*2-1,end=' ')\n",
        "      j+=1\n",
        "    i+=1\n",
        "    print(\" \") \n"
      ],
      "execution_count": 3,
      "outputs": [
        {
          "output_type": "stream",
          "text": [
            "1  \n",
            "3 3  \n",
            "5 5 5  \n",
            "7 7 7 7  \n",
            "9 9 9 9 9  \n"
          ],
          "name": "stdout"
        }
      ]
    },
    {
      "cell_type": "code",
      "metadata": {
        "colab": {
          "base_uri": "https://localhost:8080/"
        },
        "id": "rrqFCai-_4pC",
        "outputId": "55ff3f5b-c9b4-4200-b5a5-2a2db80cbae3"
      },
      "source": [
        "n=6\n",
        "for i in range(1,n):\n",
        "  for j in range(i,0,-1):\n",
        "    print(j,end=' ')\n",
        "  print() "
      ],
      "execution_count": 4,
      "outputs": [
        {
          "output_type": "stream",
          "text": [
            "1 \n",
            "2 1 \n",
            "3 2 1 \n",
            "4 3 2 1 \n",
            "5 4 3 2 1 \n"
          ],
          "name": "stdout"
        }
      ]
    },
    {
      "cell_type": "code",
      "metadata": {
        "colab": {
          "base_uri": "https://localhost:8080/"
        },
        "id": "7OnWXUMxAf2T",
        "outputId": "be52f966-4cf4-457b-8b3b-07c8b10a59cf"
      },
      "source": [
        "a=1\n",
        "b=2\n",
        "num=b\n",
        "for i in range(2,6):\n",
        "  for j in range(a,b):\n",
        "    num-=1\n",
        "    print(num ,end=' ')\n",
        "  print() \n",
        "  a=b\n",
        "  b+=i\n",
        "  num=b"
      ],
      "execution_count": 17,
      "outputs": [
        {
          "output_type": "stream",
          "text": [
            "1 \n",
            "3 2 \n",
            "6 5 4 \n",
            "10 9 8 7 \n"
          ],
          "name": "stdout"
        }
      ]
    },
    {
      "cell_type": "code",
      "metadata": {
        "colab": {
          "base_uri": "https://localhost:8080/"
        },
        "id": "T3aX0Gl_Bz0q",
        "outputId": "ce268f34-5fca-480f-eeef-bbe586ab8ddc"
      },
      "source": [
        "def pascal(n):\n",
        "  for i in range (0,n):\n",
        "    for j in range(0,i+1):\n",
        "      print(function(i,j),\" \" , end=' ')\n",
        "    print() \n",
        "\n",
        "def function(n,k):\n",
        "  r=1\n",
        "  if(k>n-k):\n",
        "    k=n-k\n",
        "  for i in range (0,k):\n",
        "      r=r*(n-i)\n",
        "      r=r//(i+1)\n",
        "\n",
        "\n",
        "  return r\n",
        "\n",
        "pascal(7)"
      ],
      "execution_count": 6,
      "outputs": [
        {
          "output_type": "stream",
          "text": [
            "1   \n",
            "1   1   \n",
            "1   2   1   \n",
            "1   3   3   1   \n",
            "1   4   6   4   1   \n",
            "1   5   10   10   5   1   \n",
            "1   6   15   20   15   6   1   \n"
          ],
          "name": "stdout"
        }
      ]
    },
    {
      "cell_type": "code",
      "metadata": {
        "colab": {
          "base_uri": "https://localhost:8080/"
        },
        "id": "uJT5ssg5EHTv",
        "outputId": "ee703b63-8db6-4a90-cb7b-60f094c6bbd1"
      },
      "source": [
        "a=5\n",
        "for i in range(0,a+1):\n",
        "  for j in range(0,a+1):\n",
        "    if j<=i:\n",
        "      print(i ,end=' ')\n",
        "    else:\n",
        "       print(j ,end=' ')  \n",
        "  print()     \n"
      ],
      "execution_count": 7,
      "outputs": [
        {
          "output_type": "stream",
          "text": [
            "0 1 2 3 4 5 \n",
            "1 1 2 3 4 5 \n",
            "2 2 2 3 4 5 \n",
            "3 3 3 3 4 5 \n",
            "4 4 4 4 4 5 \n",
            "5 5 5 5 5 5 \n"
          ],
          "name": "stdout"
        }
      ]
    },
    {
      "cell_type": "code",
      "metadata": {
        "colab": {
          "base_uri": "https://localhost:8080/"
        },
        "id": "xaucUvc0FDxu",
        "outputId": "55e317a1-76c4-4223-fbe5-bdfbd9595a21"
      },
      "source": [
        "def pa(n):\n",
        "  for i in range (0,n+1):\n",
        "    for j in range(1,i+1):\n",
        "      print(j*i, end=' ')\n",
        "    print() \n",
        "pa(8)    "
      ],
      "execution_count": 8,
      "outputs": [
        {
          "output_type": "stream",
          "text": [
            "\n",
            "1 \n",
            "2 4 \n",
            "3 6 9 \n",
            "4 8 12 16 \n",
            "5 10 15 20 25 \n",
            "6 12 18 24 30 36 \n",
            "7 14 21 28 35 42 49 \n",
            "8 16 24 32 40 48 56 64 \n"
          ],
          "name": "stdout"
        }
      ]
    },
    {
      "cell_type": "code",
      "metadata": {
        "colab": {
          "base_uri": "https://localhost:8080/"
        },
        "id": "xUOknRKTGOUb",
        "outputId": "663a533d-7c88-4949-cd11-b86cf97cf578"
      },
      "source": [
        "num=6\n",
        "for i in range(num,0,-1):\n",
        "  for j in range(0,num-i):\n",
        "    print(end=\" \")\n",
        "  for j in range(0,i):\n",
        "    print('* ',end=' ')\n",
        "  print() "
      ],
      "execution_count": 9,
      "outputs": [
        {
          "output_type": "stream",
          "text": [
            "*  *  *  *  *  *  \n",
            " *  *  *  *  *  \n",
            "  *  *  *  *  \n",
            "   *  *  *  \n",
            "    *  *  \n",
            "     *  \n"
          ],
          "name": "stdout"
        }
      ]
    },
    {
      "cell_type": "code",
      "metadata": {
        "colab": {
          "base_uri": "https://localhost:8080/"
        },
        "id": "RMdmtDF6Hx4F",
        "outputId": "e03bc3ec-a048-404b-abcd-8c7dc06f40f1"
      },
      "source": [
        "num=7\n",
        "for i in range(0,num+1):\n",
        "  for j in range(0,num-i):\n",
        "    print(end=\" \")\n",
        "  for j in range(0,i):\n",
        "    print('* ',end=' ')\n",
        "  print() "
      ],
      "execution_count": 10,
      "outputs": [
        {
          "output_type": "stream",
          "text": [
            "       \n",
            "      *  \n",
            "     *  *  \n",
            "    *  *  *  \n",
            "   *  *  *  *  \n",
            "  *  *  *  *  *  \n",
            " *  *  *  *  *  *  \n",
            "*  *  *  *  *  *  *  \n"
          ],
          "name": "stdout"
        }
      ]
    },
    {
      "cell_type": "code",
      "metadata": {
        "colab": {
          "base_uri": "https://localhost:8080/"
        },
        "id": "F8O6T4HvIZME",
        "outputId": "d09c4820-42b6-4945-8604-04e678f35621"
      },
      "source": [
        "n=6\n",
        "for i in range(1,n+1):\n",
        "  for j in range(i,0,-1):\n",
        "    print('*',end=' ')\n",
        "  print() \n",
        "print(\"\\n\")\n",
        "for i in range(n,0,-1):\n",
        "  for j in range(0,i):\n",
        "    print('*',end=' ')\n",
        "  print(\" \")"
      ],
      "execution_count": 11,
      "outputs": [
        {
          "output_type": "stream",
          "text": [
            "* \n",
            "* * \n",
            "* * * \n",
            "* * * * \n",
            "* * * * * \n",
            "* * * * * * \n",
            "\n",
            "\n",
            "* * * * * *  \n",
            "* * * * *  \n",
            "* * * *  \n",
            "* * *  \n",
            "* *  \n",
            "*  \n"
          ],
          "name": "stdout"
        }
      ]
    },
    {
      "cell_type": "code",
      "metadata": {
        "colab": {
          "base_uri": "https://localhost:8080/"
        },
        "id": "xT8j9j7EJUUo",
        "outputId": "8d917d94-360d-4a9d-831b-4767b71a1668"
      },
      "source": [
        "n=6\n",
        "for i in range(0,n):\n",
        "  for j in range(0,i+1):\n",
        "    print('*',end=' ')\n",
        "  print()  \n",
        "for i in range(n+1,0,-1):\n",
        "  for j in range(0,i-1):\n",
        "    print('*',end=' ') \n",
        "  print()   "
      ],
      "execution_count": 12,
      "outputs": [
        {
          "output_type": "stream",
          "text": [
            "* \n",
            "* * \n",
            "* * * \n",
            "* * * * \n",
            "* * * * * \n",
            "* * * * * * \n",
            "* * * * * * \n",
            "* * * * * \n",
            "* * * * \n",
            "* * * \n",
            "* * \n",
            "* \n",
            "\n"
          ],
          "name": "stdout"
        }
      ]
    },
    {
      "cell_type": "code",
      "metadata": {
        "colab": {
          "base_uri": "https://localhost:8080/"
        },
        "id": "FijLu-mcKdih",
        "outputId": "cf77f816-69ec-4c75-a0e5-259f63fd5f68"
      },
      "source": [
        "def p(n):\n",
        "  k=2*n-2\n",
        "  for i in range(0,n-1):\n",
        "    for j in range(0,k):\n",
        "      print(end=' ')\n",
        "    k=k-2\n",
        "    for j in range(0,i+1):\n",
        "      print(\"*\",end=' ')\n",
        "    print(\"\\r\")  \n",
        "  k=-1\n",
        "  for i in range (n-1,-1,-1):\n",
        "    for j in range (k,-1,-1):\n",
        "       print(end=' ')\n",
        "    k=k+2\n",
        "    for j in range(0,i+1):\n",
        "      print(\"*\",end=' ')  \n",
        "    print(\"\\r\")\n",
        " \n",
        "\n",
        "p(5)"
      ],
      "execution_count": 19,
      "outputs": [
        {
          "output_type": "stream",
          "text": [
            "        * \r\n",
            "      * * \r\n",
            "    * * * \r\n",
            "  * * * * \r\n",
            "* * * * * \r\n",
            "  * * * * \r\n",
            "    * * * \r\n",
            "      * * \r\n",
            "        * \r\n"
          ],
          "name": "stdout"
        }
      ]
    },
    {
      "cell_type": "code",
      "metadata": {
        "id": "mcGVo-mQNOem",
        "colab": {
          "base_uri": "https://localhost:8080/"
        },
        "outputId": "dea5410f-c171-431c-c2ec-8b35cb376dd3"
      },
      "source": [
        "a=5\n",
        "i=0\n",
        "while i <=a-1:\n",
        "  j=0\n",
        "  while j< i:\n",
        "    print('',end=\" \")\n",
        "    j+=1\n",
        "  k=i\n",
        "  while k <=a-1:\n",
        "    print(\"*\",end=\" \")  \n",
        "    k+=1\n",
        "  print()\n",
        "  i+=1\n",
        "\n",
        "i=a-1\n",
        "while i >=0:\n",
        "  j=0\n",
        "  while j < i:\n",
        "    print('',end=\" \")   \n",
        "    j+=1\n",
        "  k=i\n",
        "  while k<=a-1:\n",
        "    print(\"*\",end=' ')\n",
        "    k+=1\n",
        "  print('')  \n",
        "  i-=1"
      ],
      "execution_count": 14,
      "outputs": [
        {
          "output_type": "stream",
          "text": [
            "* * * * * \n",
            " * * * * \n",
            "  * * * \n",
            "   * * \n",
            "    * \n",
            "    * \n",
            "   * * \n",
            "  * * * \n",
            " * * * * \n",
            "* * * * * \n"
          ],
          "name": "stdout"
        }
      ]
    },
    {
      "cell_type": "code",
      "metadata": {
        "colab": {
          "base_uri": "https://localhost:8080/"
        },
        "id": "ws2yapOiwW1v",
        "outputId": "d0ec18df-e497-43b6-faa4-f722f21d8123"
      },
      "source": [
        "a=14\n",
        "print('*'*a,end=\"\\n\")\n",
        "i=(a//2)-1\n",
        "j=2\n",
        "while i!=0:\n",
        "  while j<=(a-2):\n",
        "    print('*'*i,end=\"\")\n",
        "    print('_'*j,end=\"\")\n",
        "    print('*'*i,end=\"\\n\")\n",
        "    i=i-1\n",
        "    j=j+2\n"
      ],
      "execution_count": 15,
      "outputs": [
        {
          "output_type": "stream",
          "text": [
            "**************\n",
            "******__******\n",
            "*****____*****\n",
            "****______****\n",
            "***________***\n",
            "**__________**\n",
            "*____________*\n"
          ],
          "name": "stdout"
        }
      ]
    },
    {
      "cell_type": "code",
      "metadata": {
        "id": "3tZfupHRxWCq"
      },
      "source": [
        ""
      ],
      "execution_count": 15,
      "outputs": []
    }
  ]
}