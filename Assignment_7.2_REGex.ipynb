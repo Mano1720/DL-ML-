{
 "cells": [
  {
   "cell_type": "code",
   "execution_count": 1,
   "id": "975c38e2",
   "metadata": {
    "_cell_guid": "b1076dfc-b9ad-4769-8c92-a6c4dae69d19",
    "_uuid": "8f2839f25d086af736a60e9eeb907d3b93b6e0e5",
    "execution": {
     "iopub.execute_input": "2021-09-09T12:08:58.522512Z",
     "iopub.status.busy": "2021-09-09T12:08:58.521225Z",
     "iopub.status.idle": "2021-09-09T12:08:58.535822Z",
     "shell.execute_reply": "2021-09-09T12:08:58.536841Z",
     "shell.execute_reply.started": "2021-09-09T12:07:34.841778Z"
    },
    "papermill": {
     "duration": 0.041309,
     "end_time": "2021-09-09T12:08:58.537353",
     "exception": false,
     "start_time": "2021-09-09T12:08:58.496044",
     "status": "completed"
    },
    "tags": []
   },
   "outputs": [
    {
     "name": "stdout",
     "output_type": "stream",
     "text": [
      "/kaggle/input/house-prices-advanced-regression-techniques/sample_submission.csv\n",
      "/kaggle/input/house-prices-advanced-regression-techniques/data_description.txt\n",
      "/kaggle/input/house-prices-advanced-regression-techniques/train.csv\n",
      "/kaggle/input/house-prices-advanced-regression-techniques/test.csv\n"
     ]
    }
   ],
   "source": [
    "# This Python 3 environment comes with many helpful analytics libraries installed\n",
    "# It is defined by the kaggle/python Docker image: https://github.com/kaggle/docker-python\n",
    "# For example, here's several helpful packages to load\n",
    "\n",
    "import numpy as np # linear algebra\n",
    "import pandas as pd # data processing, CSV file I/O (e.g. pd.read_csv)\n",
    "\n",
    "# Input data files are available in the read-only \"../input/\" directory\n",
    "# For example, running this (by clicking run or pressing Shift+Enter) will list all files under the input directory\n",
    "\n",
    "import os\n",
    "for dirname, _, filenames in os.walk('/kaggle/input'):\n",
    "    for filename in filenames:\n",
    "        print(os.path.join(dirname, filename))\n",
    "\n",
    "# You can write up to 20GB to the current directory (/kaggle/working/) that gets preserved as output when you create a version using \"Save & Run All\" \n",
    "# You can also write temporary files to /kaggle/temp/, but they won't be saved outside of the current session"
   ]
  },
  {
   "cell_type": "code",
   "execution_count": 2,
   "id": "b5f28da1",
   "metadata": {
    "execution": {
     "iopub.execute_input": "2021-09-09T12:08:58.586148Z",
     "iopub.status.busy": "2021-09-09T12:08:58.585427Z",
     "iopub.status.idle": "2021-09-09T12:08:59.910304Z",
     "shell.execute_reply": "2021-09-09T12:08:59.909562Z",
     "shell.execute_reply.started": "2021-09-09T12:07:34.851989Z"
    },
    "papermill": {
     "duration": 1.350144,
     "end_time": "2021-09-09T12:08:59.910471",
     "exception": false,
     "start_time": "2021-09-09T12:08:58.560327",
     "status": "completed"
    },
    "tags": []
   },
   "outputs": [],
   "source": [
    "from xgboost import XGBRegressor\n",
    "from sklearn.metrics import mean_absolute_error\n",
    "from sklearn.model_selection import train_test_split"
   ]
  },
  {
   "cell_type": "code",
   "execution_count": 3,
   "id": "77e4b259",
   "metadata": {
    "execution": {
     "iopub.execute_input": "2021-09-09T12:08:59.962039Z",
     "iopub.status.busy": "2021-09-09T12:08:59.960939Z",
     "iopub.status.idle": "2021-09-09T12:09:00.056645Z",
     "shell.execute_reply": "2021-09-09T12:09:00.057209Z",
     "shell.execute_reply.started": "2021-09-09T12:07:34.868372Z"
    },
    "papermill": {
     "duration": 0.1252,
     "end_time": "2021-09-09T12:09:00.057451",
     "exception": false,
     "start_time": "2021-09-09T12:08:59.932251",
     "status": "completed"
    },
    "tags": []
   },
   "outputs": [],
   "source": [
    "train_data = pd.read_csv('/kaggle/input/house-prices-advanced-regression-techniques/train.csv',index_col='Id')\n",
    "test_data = pd.read_csv('/kaggle/input/house-prices-advanced-regression-techniques/test.csv',index_col='Id')"
   ]
  },
  {
   "cell_type": "code",
   "execution_count": 4,
   "id": "a519d32a",
   "metadata": {
    "execution": {
     "iopub.execute_input": "2021-09-09T12:09:00.112376Z",
     "iopub.status.busy": "2021-09-09T12:09:00.111436Z",
     "iopub.status.idle": "2021-09-09T12:09:00.140966Z",
     "shell.execute_reply": "2021-09-09T12:09:00.141506Z",
     "shell.execute_reply.started": "2021-09-09T12:07:34.936000Z"
    },
    "papermill": {
     "duration": 0.062168,
     "end_time": "2021-09-09T12:09:00.141677",
     "exception": false,
     "start_time": "2021-09-09T12:09:00.079509",
     "status": "completed"
    },
    "tags": []
   },
   "outputs": [
    {
     "data": {
      "text/html": [
       "<div>\n",
       "<style scoped>\n",
       "    .dataframe tbody tr th:only-of-type {\n",
       "        vertical-align: middle;\n",
       "    }\n",
       "\n",
       "    .dataframe tbody tr th {\n",
       "        vertical-align: top;\n",
       "    }\n",
       "\n",
       "    .dataframe thead th {\n",
       "        text-align: right;\n",
       "    }\n",
       "</style>\n",
       "<table border=\"1\" class=\"dataframe\">\n",
       "  <thead>\n",
       "    <tr style=\"text-align: right;\">\n",
       "      <th></th>\n",
       "      <th>MSSubClass</th>\n",
       "      <th>MSZoning</th>\n",
       "      <th>LotFrontage</th>\n",
       "      <th>LotArea</th>\n",
       "      <th>Street</th>\n",
       "      <th>Alley</th>\n",
       "      <th>LotShape</th>\n",
       "      <th>LandContour</th>\n",
       "      <th>Utilities</th>\n",
       "      <th>LotConfig</th>\n",
       "      <th>...</th>\n",
       "      <th>PoolArea</th>\n",
       "      <th>PoolQC</th>\n",
       "      <th>Fence</th>\n",
       "      <th>MiscFeature</th>\n",
       "      <th>MiscVal</th>\n",
       "      <th>MoSold</th>\n",
       "      <th>YrSold</th>\n",
       "      <th>SaleType</th>\n",
       "      <th>SaleCondition</th>\n",
       "      <th>SalePrice</th>\n",
       "    </tr>\n",
       "    <tr>\n",
       "      <th>Id</th>\n",
       "      <th></th>\n",
       "      <th></th>\n",
       "      <th></th>\n",
       "      <th></th>\n",
       "      <th></th>\n",
       "      <th></th>\n",
       "      <th></th>\n",
       "      <th></th>\n",
       "      <th></th>\n",
       "      <th></th>\n",
       "      <th></th>\n",
       "      <th></th>\n",
       "      <th></th>\n",
       "      <th></th>\n",
       "      <th></th>\n",
       "      <th></th>\n",
       "      <th></th>\n",
       "      <th></th>\n",
       "      <th></th>\n",
       "      <th></th>\n",
       "      <th></th>\n",
       "    </tr>\n",
       "  </thead>\n",
       "  <tbody>\n",
       "    <tr>\n",
       "      <th>1</th>\n",
       "      <td>60</td>\n",
       "      <td>RL</td>\n",
       "      <td>65.0</td>\n",
       "      <td>8450</td>\n",
       "      <td>Pave</td>\n",
       "      <td>NaN</td>\n",
       "      <td>Reg</td>\n",
       "      <td>Lvl</td>\n",
       "      <td>AllPub</td>\n",
       "      <td>Inside</td>\n",
       "      <td>...</td>\n",
       "      <td>0</td>\n",
       "      <td>NaN</td>\n",
       "      <td>NaN</td>\n",
       "      <td>NaN</td>\n",
       "      <td>0</td>\n",
       "      <td>2</td>\n",
       "      <td>2008</td>\n",
       "      <td>WD</td>\n",
       "      <td>Normal</td>\n",
       "      <td>208500</td>\n",
       "    </tr>\n",
       "    <tr>\n",
       "      <th>2</th>\n",
       "      <td>20</td>\n",
       "      <td>RL</td>\n",
       "      <td>80.0</td>\n",
       "      <td>9600</td>\n",
       "      <td>Pave</td>\n",
       "      <td>NaN</td>\n",
       "      <td>Reg</td>\n",
       "      <td>Lvl</td>\n",
       "      <td>AllPub</td>\n",
       "      <td>FR2</td>\n",
       "      <td>...</td>\n",
       "      <td>0</td>\n",
       "      <td>NaN</td>\n",
       "      <td>NaN</td>\n",
       "      <td>NaN</td>\n",
       "      <td>0</td>\n",
       "      <td>5</td>\n",
       "      <td>2007</td>\n",
       "      <td>WD</td>\n",
       "      <td>Normal</td>\n",
       "      <td>181500</td>\n",
       "    </tr>\n",
       "    <tr>\n",
       "      <th>3</th>\n",
       "      <td>60</td>\n",
       "      <td>RL</td>\n",
       "      <td>68.0</td>\n",
       "      <td>11250</td>\n",
       "      <td>Pave</td>\n",
       "      <td>NaN</td>\n",
       "      <td>IR1</td>\n",
       "      <td>Lvl</td>\n",
       "      <td>AllPub</td>\n",
       "      <td>Inside</td>\n",
       "      <td>...</td>\n",
       "      <td>0</td>\n",
       "      <td>NaN</td>\n",
       "      <td>NaN</td>\n",
       "      <td>NaN</td>\n",
       "      <td>0</td>\n",
       "      <td>9</td>\n",
       "      <td>2008</td>\n",
       "      <td>WD</td>\n",
       "      <td>Normal</td>\n",
       "      <td>223500</td>\n",
       "    </tr>\n",
       "    <tr>\n",
       "      <th>4</th>\n",
       "      <td>70</td>\n",
       "      <td>RL</td>\n",
       "      <td>60.0</td>\n",
       "      <td>9550</td>\n",
       "      <td>Pave</td>\n",
       "      <td>NaN</td>\n",
       "      <td>IR1</td>\n",
       "      <td>Lvl</td>\n",
       "      <td>AllPub</td>\n",
       "      <td>Corner</td>\n",
       "      <td>...</td>\n",
       "      <td>0</td>\n",
       "      <td>NaN</td>\n",
       "      <td>NaN</td>\n",
       "      <td>NaN</td>\n",
       "      <td>0</td>\n",
       "      <td>2</td>\n",
       "      <td>2006</td>\n",
       "      <td>WD</td>\n",
       "      <td>Abnorml</td>\n",
       "      <td>140000</td>\n",
       "    </tr>\n",
       "    <tr>\n",
       "      <th>5</th>\n",
       "      <td>60</td>\n",
       "      <td>RL</td>\n",
       "      <td>84.0</td>\n",
       "      <td>14260</td>\n",
       "      <td>Pave</td>\n",
       "      <td>NaN</td>\n",
       "      <td>IR1</td>\n",
       "      <td>Lvl</td>\n",
       "      <td>AllPub</td>\n",
       "      <td>FR2</td>\n",
       "      <td>...</td>\n",
       "      <td>0</td>\n",
       "      <td>NaN</td>\n",
       "      <td>NaN</td>\n",
       "      <td>NaN</td>\n",
       "      <td>0</td>\n",
       "      <td>12</td>\n",
       "      <td>2008</td>\n",
       "      <td>WD</td>\n",
       "      <td>Normal</td>\n",
       "      <td>250000</td>\n",
       "    </tr>\n",
       "  </tbody>\n",
       "</table>\n",
       "<p>5 rows × 80 columns</p>\n",
       "</div>"
      ],
      "text/plain": [
       "    MSSubClass MSZoning  LotFrontage  LotArea Street Alley LotShape  \\\n",
       "Id                                                                    \n",
       "1           60       RL         65.0     8450   Pave   NaN      Reg   \n",
       "2           20       RL         80.0     9600   Pave   NaN      Reg   \n",
       "3           60       RL         68.0    11250   Pave   NaN      IR1   \n",
       "4           70       RL         60.0     9550   Pave   NaN      IR1   \n",
       "5           60       RL         84.0    14260   Pave   NaN      IR1   \n",
       "\n",
       "   LandContour Utilities LotConfig  ... PoolArea PoolQC Fence MiscFeature  \\\n",
       "Id                                  ...                                     \n",
       "1          Lvl    AllPub    Inside  ...        0    NaN   NaN         NaN   \n",
       "2          Lvl    AllPub       FR2  ...        0    NaN   NaN         NaN   \n",
       "3          Lvl    AllPub    Inside  ...        0    NaN   NaN         NaN   \n",
       "4          Lvl    AllPub    Corner  ...        0    NaN   NaN         NaN   \n",
       "5          Lvl    AllPub       FR2  ...        0    NaN   NaN         NaN   \n",
       "\n",
       "   MiscVal MoSold  YrSold  SaleType  SaleCondition  SalePrice  \n",
       "Id                                                             \n",
       "1        0      2    2008        WD         Normal     208500  \n",
       "2        0      5    2007        WD         Normal     181500  \n",
       "3        0      9    2008        WD         Normal     223500  \n",
       "4        0      2    2006        WD        Abnorml     140000  \n",
       "5        0     12    2008        WD         Normal     250000  \n",
       "\n",
       "[5 rows x 80 columns]"
      ]
     },
     "execution_count": 4,
     "metadata": {},
     "output_type": "execute_result"
    }
   ],
   "source": [
    "train_data.head()"
   ]
  },
  {
   "cell_type": "code",
   "execution_count": 5,
   "id": "b9cd1457",
   "metadata": {
    "execution": {
     "iopub.execute_input": "2021-09-09T12:09:00.191953Z",
     "iopub.status.busy": "2021-09-09T12:09:00.190997Z",
     "iopub.status.idle": "2021-09-09T12:09:00.195692Z",
     "shell.execute_reply": "2021-09-09T12:09:00.195145Z",
     "shell.execute_reply.started": "2021-09-09T12:07:34.966892Z"
    },
    "papermill": {
     "duration": 0.032563,
     "end_time": "2021-09-09T12:09:00.195855",
     "exception": false,
     "start_time": "2021-09-09T12:09:00.163292",
     "status": "completed"
    },
    "tags": []
   },
   "outputs": [
    {
     "data": {
      "text/plain": [
       "Index(['MSSubClass', 'MSZoning', 'LotFrontage', 'LotArea', 'Street', 'Alley',\n",
       "       'LotShape', 'LandContour', 'Utilities', 'LotConfig', 'LandSlope',\n",
       "       'Neighborhood', 'Condition1', 'Condition2', 'BldgType', 'HouseStyle',\n",
       "       'OverallQual', 'OverallCond', 'YearBuilt', 'YearRemodAdd', 'RoofStyle',\n",
       "       'RoofMatl', 'Exterior1st', 'Exterior2nd', 'MasVnrType', 'MasVnrArea',\n",
       "       'ExterQual', 'ExterCond', 'Foundation', 'BsmtQual', 'BsmtCond',\n",
       "       'BsmtExposure', 'BsmtFinType1', 'BsmtFinSF1', 'BsmtFinType2',\n",
       "       'BsmtFinSF2', 'BsmtUnfSF', 'TotalBsmtSF', 'Heating', 'HeatingQC',\n",
       "       'CentralAir', 'Electrical', '1stFlrSF', '2ndFlrSF', 'LowQualFinSF',\n",
       "       'GrLivArea', 'BsmtFullBath', 'BsmtHalfBath', 'FullBath', 'HalfBath',\n",
       "       'BedroomAbvGr', 'KitchenAbvGr', 'KitchenQual', 'TotRmsAbvGrd',\n",
       "       'Functional', 'Fireplaces', 'FireplaceQu', 'GarageType', 'GarageYrBlt',\n",
       "       'GarageFinish', 'GarageCars', 'GarageArea', 'GarageQual', 'GarageCond',\n",
       "       'PavedDrive', 'WoodDeckSF', 'OpenPorchSF', 'EnclosedPorch', '3SsnPorch',\n",
       "       'ScreenPorch', 'PoolArea', 'PoolQC', 'Fence', 'MiscFeature', 'MiscVal',\n",
       "       'MoSold', 'YrSold', 'SaleType', 'SaleCondition', 'SalePrice'],\n",
       "      dtype='object')"
      ]
     },
     "execution_count": 5,
     "metadata": {},
     "output_type": "execute_result"
    }
   ],
   "source": [
    "train_data.columns"
   ]
  },
  {
   "cell_type": "code",
   "execution_count": 6,
   "id": "2d76419d",
   "metadata": {
    "execution": {
     "iopub.execute_input": "2021-09-09T12:09:00.252493Z",
     "iopub.status.busy": "2021-09-09T12:09:00.251683Z",
     "iopub.status.idle": "2021-09-09T12:09:00.282056Z",
     "shell.execute_reply": "2021-09-09T12:09:00.281488Z",
     "shell.execute_reply.started": "2021-09-09T12:07:34.975798Z"
    },
    "papermill": {
     "duration": 0.064346,
     "end_time": "2021-09-09T12:09:00.282214",
     "exception": false,
     "start_time": "2021-09-09T12:09:00.217868",
     "status": "completed"
    },
    "tags": []
   },
   "outputs": [
    {
     "data": {
      "text/plain": [
       "LotFrontage      259\n",
       "Alley           1369\n",
       "MasVnrType         8\n",
       "MasVnrArea         8\n",
       "BsmtQual          37\n",
       "BsmtCond          37\n",
       "BsmtExposure      38\n",
       "BsmtFinType1      37\n",
       "BsmtFinType2      38\n",
       "Electrical         1\n",
       "FireplaceQu      690\n",
       "GarageType        81\n",
       "GarageYrBlt       81\n",
       "GarageFinish      81\n",
       "GarageQual        81\n",
       "GarageCond        81\n",
       "PoolQC          1453\n",
       "Fence           1179\n",
       "MiscFeature     1406\n",
       "dtype: int64"
      ]
     },
     "execution_count": 6,
     "metadata": {},
     "output_type": "execute_result"
    }
   ],
   "source": [
    "train_col_null = train_data.columns[train_data.isnull().any() == True].tolist()\n",
    "\n",
    "train_data[train_col_null].isnull().sum()"
   ]
  },
  {
   "cell_type": "code",
   "execution_count": 7,
   "id": "c10e3467",
   "metadata": {
    "execution": {
     "iopub.execute_input": "2021-09-09T12:09:00.358177Z",
     "iopub.status.busy": "2021-09-09T12:09:00.357490Z",
     "iopub.status.idle": "2021-09-09T12:09:00.362251Z",
     "shell.execute_reply": "2021-09-09T12:09:00.361589Z",
     "shell.execute_reply.started": "2021-09-09T12:07:35.005256Z"
    },
    "papermill": {
     "duration": 0.057602,
     "end_time": "2021-09-09T12:09:00.362401",
     "exception": false,
     "start_time": "2021-09-09T12:09:00.304799",
     "status": "completed"
    },
    "tags": []
   },
   "outputs": [
    {
     "data": {
      "text/html": [
       "<div>\n",
       "<style scoped>\n",
       "    .dataframe tbody tr th:only-of-type {\n",
       "        vertical-align: middle;\n",
       "    }\n",
       "\n",
       "    .dataframe tbody tr th {\n",
       "        vertical-align: top;\n",
       "    }\n",
       "\n",
       "    .dataframe thead th {\n",
       "        text-align: right;\n",
       "    }\n",
       "</style>\n",
       "<table border=\"1\" class=\"dataframe\">\n",
       "  <thead>\n",
       "    <tr style=\"text-align: right;\">\n",
       "      <th></th>\n",
       "      <th>MSSubClass</th>\n",
       "      <th>MSZoning</th>\n",
       "      <th>LotFrontage</th>\n",
       "      <th>LotArea</th>\n",
       "      <th>Street</th>\n",
       "      <th>Alley</th>\n",
       "      <th>LotShape</th>\n",
       "      <th>LandContour</th>\n",
       "      <th>Utilities</th>\n",
       "      <th>LotConfig</th>\n",
       "      <th>...</th>\n",
       "      <th>ScreenPorch</th>\n",
       "      <th>PoolArea</th>\n",
       "      <th>PoolQC</th>\n",
       "      <th>Fence</th>\n",
       "      <th>MiscFeature</th>\n",
       "      <th>MiscVal</th>\n",
       "      <th>MoSold</th>\n",
       "      <th>YrSold</th>\n",
       "      <th>SaleType</th>\n",
       "      <th>SaleCondition</th>\n",
       "    </tr>\n",
       "    <tr>\n",
       "      <th>Id</th>\n",
       "      <th></th>\n",
       "      <th></th>\n",
       "      <th></th>\n",
       "      <th></th>\n",
       "      <th></th>\n",
       "      <th></th>\n",
       "      <th></th>\n",
       "      <th></th>\n",
       "      <th></th>\n",
       "      <th></th>\n",
       "      <th></th>\n",
       "      <th></th>\n",
       "      <th></th>\n",
       "      <th></th>\n",
       "      <th></th>\n",
       "      <th></th>\n",
       "      <th></th>\n",
       "      <th></th>\n",
       "      <th></th>\n",
       "      <th></th>\n",
       "      <th></th>\n",
       "    </tr>\n",
       "  </thead>\n",
       "  <tbody>\n",
       "    <tr>\n",
       "      <th>1461</th>\n",
       "      <td>20</td>\n",
       "      <td>RH</td>\n",
       "      <td>80.0</td>\n",
       "      <td>11622</td>\n",
       "      <td>Pave</td>\n",
       "      <td>NaN</td>\n",
       "      <td>Reg</td>\n",
       "      <td>Lvl</td>\n",
       "      <td>AllPub</td>\n",
       "      <td>Inside</td>\n",
       "      <td>...</td>\n",
       "      <td>120</td>\n",
       "      <td>0</td>\n",
       "      <td>NaN</td>\n",
       "      <td>MnPrv</td>\n",
       "      <td>NaN</td>\n",
       "      <td>0</td>\n",
       "      <td>6</td>\n",
       "      <td>2010</td>\n",
       "      <td>WD</td>\n",
       "      <td>Normal</td>\n",
       "    </tr>\n",
       "    <tr>\n",
       "      <th>1462</th>\n",
       "      <td>20</td>\n",
       "      <td>RL</td>\n",
       "      <td>81.0</td>\n",
       "      <td>14267</td>\n",
       "      <td>Pave</td>\n",
       "      <td>NaN</td>\n",
       "      <td>IR1</td>\n",
       "      <td>Lvl</td>\n",
       "      <td>AllPub</td>\n",
       "      <td>Corner</td>\n",
       "      <td>...</td>\n",
       "      <td>0</td>\n",
       "      <td>0</td>\n",
       "      <td>NaN</td>\n",
       "      <td>NaN</td>\n",
       "      <td>Gar2</td>\n",
       "      <td>12500</td>\n",
       "      <td>6</td>\n",
       "      <td>2010</td>\n",
       "      <td>WD</td>\n",
       "      <td>Normal</td>\n",
       "    </tr>\n",
       "    <tr>\n",
       "      <th>1463</th>\n",
       "      <td>60</td>\n",
       "      <td>RL</td>\n",
       "      <td>74.0</td>\n",
       "      <td>13830</td>\n",
       "      <td>Pave</td>\n",
       "      <td>NaN</td>\n",
       "      <td>IR1</td>\n",
       "      <td>Lvl</td>\n",
       "      <td>AllPub</td>\n",
       "      <td>Inside</td>\n",
       "      <td>...</td>\n",
       "      <td>0</td>\n",
       "      <td>0</td>\n",
       "      <td>NaN</td>\n",
       "      <td>MnPrv</td>\n",
       "      <td>NaN</td>\n",
       "      <td>0</td>\n",
       "      <td>3</td>\n",
       "      <td>2010</td>\n",
       "      <td>WD</td>\n",
       "      <td>Normal</td>\n",
       "    </tr>\n",
       "    <tr>\n",
       "      <th>1464</th>\n",
       "      <td>60</td>\n",
       "      <td>RL</td>\n",
       "      <td>78.0</td>\n",
       "      <td>9978</td>\n",
       "      <td>Pave</td>\n",
       "      <td>NaN</td>\n",
       "      <td>IR1</td>\n",
       "      <td>Lvl</td>\n",
       "      <td>AllPub</td>\n",
       "      <td>Inside</td>\n",
       "      <td>...</td>\n",
       "      <td>0</td>\n",
       "      <td>0</td>\n",
       "      <td>NaN</td>\n",
       "      <td>NaN</td>\n",
       "      <td>NaN</td>\n",
       "      <td>0</td>\n",
       "      <td>6</td>\n",
       "      <td>2010</td>\n",
       "      <td>WD</td>\n",
       "      <td>Normal</td>\n",
       "    </tr>\n",
       "    <tr>\n",
       "      <th>1465</th>\n",
       "      <td>120</td>\n",
       "      <td>RL</td>\n",
       "      <td>43.0</td>\n",
       "      <td>5005</td>\n",
       "      <td>Pave</td>\n",
       "      <td>NaN</td>\n",
       "      <td>IR1</td>\n",
       "      <td>HLS</td>\n",
       "      <td>AllPub</td>\n",
       "      <td>Inside</td>\n",
       "      <td>...</td>\n",
       "      <td>144</td>\n",
       "      <td>0</td>\n",
       "      <td>NaN</td>\n",
       "      <td>NaN</td>\n",
       "      <td>NaN</td>\n",
       "      <td>0</td>\n",
       "      <td>1</td>\n",
       "      <td>2010</td>\n",
       "      <td>WD</td>\n",
       "      <td>Normal</td>\n",
       "    </tr>\n",
       "  </tbody>\n",
       "</table>\n",
       "<p>5 rows × 79 columns</p>\n",
       "</div>"
      ],
      "text/plain": [
       "      MSSubClass MSZoning  LotFrontage  LotArea Street Alley LotShape  \\\n",
       "Id                                                                      \n",
       "1461          20       RH         80.0    11622   Pave   NaN      Reg   \n",
       "1462          20       RL         81.0    14267   Pave   NaN      IR1   \n",
       "1463          60       RL         74.0    13830   Pave   NaN      IR1   \n",
       "1464          60       RL         78.0     9978   Pave   NaN      IR1   \n",
       "1465         120       RL         43.0     5005   Pave   NaN      IR1   \n",
       "\n",
       "     LandContour Utilities LotConfig  ... ScreenPorch PoolArea PoolQC  Fence  \\\n",
       "Id                                    ...                                      \n",
       "1461         Lvl    AllPub    Inside  ...         120        0    NaN  MnPrv   \n",
       "1462         Lvl    AllPub    Corner  ...           0        0    NaN    NaN   \n",
       "1463         Lvl    AllPub    Inside  ...           0        0    NaN  MnPrv   \n",
       "1464         Lvl    AllPub    Inside  ...           0        0    NaN    NaN   \n",
       "1465         HLS    AllPub    Inside  ...         144        0    NaN    NaN   \n",
       "\n",
       "     MiscFeature MiscVal  MoSold  YrSold  SaleType  SaleCondition  \n",
       "Id                                                                 \n",
       "1461         NaN       0       6    2010        WD         Normal  \n",
       "1462        Gar2   12500       6    2010        WD         Normal  \n",
       "1463         NaN       0       3    2010        WD         Normal  \n",
       "1464         NaN       0       6    2010        WD         Normal  \n",
       "1465         NaN       0       1    2010        WD         Normal  \n",
       "\n",
       "[5 rows x 79 columns]"
      ]
     },
     "execution_count": 7,
     "metadata": {},
     "output_type": "execute_result"
    }
   ],
   "source": [
    "test_data.head()"
   ]
  },
  {
   "cell_type": "code",
   "execution_count": 8,
   "id": "ad125347",
   "metadata": {
    "execution": {
     "iopub.execute_input": "2021-09-09T12:09:00.417087Z",
     "iopub.status.busy": "2021-09-09T12:09:00.416157Z",
     "iopub.status.idle": "2021-09-09T12:09:00.421037Z",
     "shell.execute_reply": "2021-09-09T12:09:00.420421Z",
     "shell.execute_reply.started": "2021-09-09T12:07:35.038959Z"
    },
    "papermill": {
     "duration": 0.03482,
     "end_time": "2021-09-09T12:09:00.421196",
     "exception": false,
     "start_time": "2021-09-09T12:09:00.386376",
     "status": "completed"
    },
    "tags": []
   },
   "outputs": [
    {
     "data": {
      "text/plain": [
       "Index(['MSSubClass', 'MSZoning', 'LotFrontage', 'LotArea', 'Street', 'Alley',\n",
       "       'LotShape', 'LandContour', 'Utilities', 'LotConfig', 'LandSlope',\n",
       "       'Neighborhood', 'Condition1', 'Condition2', 'BldgType', 'HouseStyle',\n",
       "       'OverallQual', 'OverallCond', 'YearBuilt', 'YearRemodAdd', 'RoofStyle',\n",
       "       'RoofMatl', 'Exterior1st', 'Exterior2nd', 'MasVnrType', 'MasVnrArea',\n",
       "       'ExterQual', 'ExterCond', 'Foundation', 'BsmtQual', 'BsmtCond',\n",
       "       'BsmtExposure', 'BsmtFinType1', 'BsmtFinSF1', 'BsmtFinType2',\n",
       "       'BsmtFinSF2', 'BsmtUnfSF', 'TotalBsmtSF', 'Heating', 'HeatingQC',\n",
       "       'CentralAir', 'Electrical', '1stFlrSF', '2ndFlrSF', 'LowQualFinSF',\n",
       "       'GrLivArea', 'BsmtFullBath', 'BsmtHalfBath', 'FullBath', 'HalfBath',\n",
       "       'BedroomAbvGr', 'KitchenAbvGr', 'KitchenQual', 'TotRmsAbvGrd',\n",
       "       'Functional', 'Fireplaces', 'FireplaceQu', 'GarageType', 'GarageYrBlt',\n",
       "       'GarageFinish', 'GarageCars', 'GarageArea', 'GarageQual', 'GarageCond',\n",
       "       'PavedDrive', 'WoodDeckSF', 'OpenPorchSF', 'EnclosedPorch', '3SsnPorch',\n",
       "       'ScreenPorch', 'PoolArea', 'PoolQC', 'Fence', 'MiscFeature', 'MiscVal',\n",
       "       'MoSold', 'YrSold', 'SaleType', 'SaleCondition'],\n",
       "      dtype='object')"
      ]
     },
     "execution_count": 8,
     "metadata": {},
     "output_type": "execute_result"
    }
   ],
   "source": [
    "test_data.columns"
   ]
  },
  {
   "cell_type": "code",
   "execution_count": 9,
   "id": "0f10a049",
   "metadata": {
    "execution": {
     "iopub.execute_input": "2021-09-09T12:09:00.471984Z",
     "iopub.status.busy": "2021-09-09T12:09:00.471308Z",
     "iopub.status.idle": "2021-09-09T12:09:00.493229Z",
     "shell.execute_reply": "2021-09-09T12:09:00.493692Z",
     "shell.execute_reply.started": "2021-09-09T12:07:35.052365Z"
    },
    "papermill": {
     "duration": 0.048593,
     "end_time": "2021-09-09T12:09:00.493870",
     "exception": false,
     "start_time": "2021-09-09T12:09:00.445277",
     "status": "completed"
    },
    "tags": []
   },
   "outputs": [
    {
     "data": {
      "text/plain": [
       "MSZoning           4\n",
       "LotFrontage      227\n",
       "Alley           1352\n",
       "Utilities          2\n",
       "Exterior1st        1\n",
       "Exterior2nd        1\n",
       "MasVnrType        16\n",
       "MasVnrArea        15\n",
       "BsmtQual          44\n",
       "BsmtCond          45\n",
       "BsmtExposure      44\n",
       "BsmtFinType1      42\n",
       "BsmtFinSF1         1\n",
       "BsmtFinType2      42\n",
       "BsmtFinSF2         1\n",
       "BsmtUnfSF          1\n",
       "TotalBsmtSF        1\n",
       "BsmtFullBath       2\n",
       "BsmtHalfBath       2\n",
       "KitchenQual        1\n",
       "Functional         2\n",
       "FireplaceQu      730\n",
       "GarageType        76\n",
       "GarageYrBlt       78\n",
       "GarageFinish      78\n",
       "GarageCars         1\n",
       "GarageArea         1\n",
       "GarageQual        78\n",
       "GarageCond        78\n",
       "PoolQC          1456\n",
       "Fence           1169\n",
       "MiscFeature     1408\n",
       "SaleType           1\n",
       "dtype: int64"
      ]
     },
     "execution_count": 9,
     "metadata": {},
     "output_type": "execute_result"
    }
   ],
   "source": [
    "test_col_null = test_data.columns[test_data.isnull().any() == True].tolist()\n",
    "test_data[test_col_null].isnull().sum()"
   ]
  },
  {
   "cell_type": "code",
   "execution_count": 10,
   "id": "deab0158",
   "metadata": {
    "execution": {
     "iopub.execute_input": "2021-09-09T12:09:00.545537Z",
     "iopub.status.busy": "2021-09-09T12:09:00.544825Z",
     "iopub.status.idle": "2021-09-09T12:09:00.557429Z",
     "shell.execute_reply": "2021-09-09T12:09:00.557920Z",
     "shell.execute_reply.started": "2021-09-09T12:07:35.098319Z"
    },
    "papermill": {
     "duration": 0.040037,
     "end_time": "2021-09-09T12:09:00.558128",
     "exception": false,
     "start_time": "2021-09-09T12:09:00.518091",
     "status": "completed"
    },
    "tags": []
   },
   "outputs": [],
   "source": [
    "X = train_data.dropna(axis=0, subset=['SalePrice'])\n",
    "y = X.SalePrice\n",
    "X.drop(['SalePrice'], axis=1, inplace=True)"
   ]
  },
  {
   "cell_type": "code",
   "execution_count": 11,
   "id": "088ba53d",
   "metadata": {
    "execution": {
     "iopub.execute_input": "2021-09-09T12:09:00.611498Z",
     "iopub.status.busy": "2021-09-09T12:09:00.610798Z",
     "iopub.status.idle": "2021-09-09T12:09:00.616747Z",
     "shell.execute_reply": "2021-09-09T12:09:00.617277Z",
     "shell.execute_reply.started": "2021-09-09T12:07:35.110828Z"
    },
    "papermill": {
     "duration": 0.035829,
     "end_time": "2021-09-09T12:09:00.617468",
     "exception": false,
     "start_time": "2021-09-09T12:09:00.581639",
     "status": "completed"
    },
    "tags": []
   },
   "outputs": [],
   "source": [
    "X_train_full, X_valid_full, y_train, y_valid = train_test_split(X, y, train_size=0.8, test_size=0.2, random_state=0)"
   ]
  },
  {
   "cell_type": "code",
   "execution_count": 12,
   "id": "c52a4b01",
   "metadata": {
    "execution": {
     "iopub.execute_input": "2021-09-09T12:09:00.671236Z",
     "iopub.status.busy": "2021-09-09T12:09:00.670212Z",
     "iopub.status.idle": "2021-09-09T12:09:00.705497Z",
     "shell.execute_reply": "2021-09-09T12:09:00.705985Z",
     "shell.execute_reply.started": "2021-09-09T12:07:35.125532Z"
    },
    "papermill": {
     "duration": 0.06364,
     "end_time": "2021-09-09T12:09:00.706189",
     "exception": false,
     "start_time": "2021-09-09T12:09:00.642549",
     "status": "completed"
    },
    "tags": []
   },
   "outputs": [],
   "source": [
    "low_cardinality_cols = [cname for cname in X_train_full.columns if X_train_full[cname].nunique() < 10 and X_train_full[cname].dtype == 'object']"
   ]
  },
  {
   "cell_type": "code",
   "execution_count": 13,
   "id": "131c189f",
   "metadata": {
    "execution": {
     "iopub.execute_input": "2021-09-09T12:09:00.763664Z",
     "iopub.status.busy": "2021-09-09T12:09:00.762596Z",
     "iopub.status.idle": "2021-09-09T12:09:00.769533Z",
     "shell.execute_reply": "2021-09-09T12:09:00.769993Z",
     "shell.execute_reply.started": "2021-09-09T12:07:35.165365Z"
    },
    "papermill": {
     "duration": 0.038556,
     "end_time": "2021-09-09T12:09:00.770211",
     "exception": false,
     "start_time": "2021-09-09T12:09:00.731655",
     "status": "completed"
    },
    "tags": []
   },
   "outputs": [
    {
     "data": {
      "text/plain": [
       "['MSZoning',\n",
       " 'Street',\n",
       " 'Alley',\n",
       " 'LotShape',\n",
       " 'LandContour',\n",
       " 'Utilities',\n",
       " 'LotConfig',\n",
       " 'LandSlope',\n",
       " 'Condition1',\n",
       " 'Condition2',\n",
       " 'BldgType',\n",
       " 'HouseStyle',\n",
       " 'RoofStyle',\n",
       " 'RoofMatl',\n",
       " 'MasVnrType',\n",
       " 'ExterQual',\n",
       " 'ExterCond',\n",
       " 'Foundation',\n",
       " 'BsmtQual',\n",
       " 'BsmtCond',\n",
       " 'BsmtExposure',\n",
       " 'BsmtFinType1',\n",
       " 'BsmtFinType2',\n",
       " 'Heating',\n",
       " 'HeatingQC',\n",
       " 'CentralAir',\n",
       " 'Electrical',\n",
       " 'KitchenQual',\n",
       " 'Functional',\n",
       " 'FireplaceQu',\n",
       " 'GarageType',\n",
       " 'GarageFinish',\n",
       " 'GarageQual',\n",
       " 'GarageCond',\n",
       " 'PavedDrive',\n",
       " 'PoolQC',\n",
       " 'Fence',\n",
       " 'MiscFeature',\n",
       " 'SaleType',\n",
       " 'SaleCondition']"
      ]
     },
     "execution_count": 13,
     "metadata": {},
     "output_type": "execute_result"
    }
   ],
   "source": [
    "low_cardinality_cols"
   ]
  },
  {
   "cell_type": "code",
   "execution_count": 14,
   "id": "6ecdfae3",
   "metadata": {
    "execution": {
     "iopub.execute_input": "2021-09-09T12:09:00.823708Z",
     "iopub.status.busy": "2021-09-09T12:09:00.822706Z",
     "iopub.status.idle": "2021-09-09T12:09:00.827810Z",
     "shell.execute_reply": "2021-09-09T12:09:00.828325Z",
     "shell.execute_reply.started": "2021-09-09T12:07:35.174268Z"
    },
    "papermill": {
     "duration": 0.033771,
     "end_time": "2021-09-09T12:09:00.828508",
     "exception": false,
     "start_time": "2021-09-09T12:09:00.794737",
     "status": "completed"
    },
    "tags": []
   },
   "outputs": [],
   "source": [
    "numeric_col = [cname for cname in X_train_full.columns if X_train_full[cname].dtype in ['int64', 'float64']]"
   ]
  },
  {
   "cell_type": "code",
   "execution_count": 15,
   "id": "82cbb1e7",
   "metadata": {
    "execution": {
     "iopub.execute_input": "2021-09-09T12:09:00.881000Z",
     "iopub.status.busy": "2021-09-09T12:09:00.880040Z",
     "iopub.status.idle": "2021-09-09T12:09:00.886518Z",
     "shell.execute_reply": "2021-09-09T12:09:00.887089Z",
     "shell.execute_reply.started": "2021-09-09T12:07:35.188881Z"
    },
    "papermill": {
     "duration": 0.033741,
     "end_time": "2021-09-09T12:09:00.887267",
     "exception": false,
     "start_time": "2021-09-09T12:09:00.853526",
     "status": "completed"
    },
    "tags": []
   },
   "outputs": [
    {
     "data": {
      "text/plain": [
       "['MSSubClass',\n",
       " 'LotFrontage',\n",
       " 'LotArea',\n",
       " 'OverallQual',\n",
       " 'OverallCond',\n",
       " 'YearBuilt',\n",
       " 'YearRemodAdd',\n",
       " 'MasVnrArea',\n",
       " 'BsmtFinSF1',\n",
       " 'BsmtFinSF2',\n",
       " 'BsmtUnfSF',\n",
       " 'TotalBsmtSF',\n",
       " '1stFlrSF',\n",
       " '2ndFlrSF',\n",
       " 'LowQualFinSF',\n",
       " 'GrLivArea',\n",
       " 'BsmtFullBath',\n",
       " 'BsmtHalfBath',\n",
       " 'FullBath',\n",
       " 'HalfBath',\n",
       " 'BedroomAbvGr',\n",
       " 'KitchenAbvGr',\n",
       " 'TotRmsAbvGrd',\n",
       " 'Fireplaces',\n",
       " 'GarageYrBlt',\n",
       " 'GarageCars',\n",
       " 'GarageArea',\n",
       " 'WoodDeckSF',\n",
       " 'OpenPorchSF',\n",
       " 'EnclosedPorch',\n",
       " '3SsnPorch',\n",
       " 'ScreenPorch',\n",
       " 'PoolArea',\n",
       " 'MiscVal',\n",
       " 'MoSold',\n",
       " 'YrSold']"
      ]
     },
     "execution_count": 15,
     "metadata": {},
     "output_type": "execute_result"
    }
   ],
   "source": [
    "numeric_col"
   ]
  },
  {
   "cell_type": "code",
   "execution_count": 16,
   "id": "b3eb2729",
   "metadata": {
    "execution": {
     "iopub.execute_input": "2021-09-09T12:09:00.943576Z",
     "iopub.status.busy": "2021-09-09T12:09:00.942836Z",
     "iopub.status.idle": "2021-09-09T12:09:00.954062Z",
     "shell.execute_reply": "2021-09-09T12:09:00.953481Z",
     "shell.execute_reply.started": "2021-09-09T12:07:35.205781Z"
    },
    "papermill": {
     "duration": 0.04205,
     "end_time": "2021-09-09T12:09:00.954223",
     "exception": false,
     "start_time": "2021-09-09T12:09:00.912173",
     "status": "completed"
    },
    "tags": []
   },
   "outputs": [],
   "source": [
    "my_cols = low_cardinality_cols + numeric_col\n",
    "X_train = X_train_full[my_cols].copy()\n",
    "X_valid = X_valid_full[my_cols].copy()\n",
    "X_test = test_data[my_cols].copy()"
   ]
  },
  {
   "cell_type": "code",
   "execution_count": 17,
   "id": "3a8d20e3",
   "metadata": {
    "execution": {
     "iopub.execute_input": "2021-09-09T12:09:01.017852Z",
     "iopub.status.busy": "2021-09-09T12:09:01.017079Z",
     "iopub.status.idle": "2021-09-09T12:09:01.150114Z",
     "shell.execute_reply": "2021-09-09T12:09:01.149213Z",
     "shell.execute_reply.started": "2021-09-09T12:07:35.224490Z"
    },
    "papermill": {
     "duration": 0.170337,
     "end_time": "2021-09-09T12:09:01.150278",
     "exception": false,
     "start_time": "2021-09-09T12:09:00.979941",
     "status": "completed"
    },
    "tags": []
   },
   "outputs": [],
   "source": [
    "X_train = pd.get_dummies(X_train)\n",
    "X_valid = pd.get_dummies(X_valid)\n",
    "X_test = pd.get_dummies(X_test)"
   ]
  },
  {
   "cell_type": "code",
   "execution_count": 18,
   "id": "09b54d2f",
   "metadata": {
    "execution": {
     "iopub.execute_input": "2021-09-09T12:09:01.207352Z",
     "iopub.status.busy": "2021-09-09T12:09:01.206633Z",
     "iopub.status.idle": "2021-09-09T12:09:01.213294Z",
     "shell.execute_reply": "2021-09-09T12:09:01.212726Z",
     "shell.execute_reply.started": "2021-09-09T12:07:35.364386Z"
    },
    "papermill": {
     "duration": 0.038254,
     "end_time": "2021-09-09T12:09:01.213497",
     "exception": false,
     "start_time": "2021-09-09T12:09:01.175243",
     "status": "completed"
    },
    "tags": []
   },
   "outputs": [],
   "source": [
    "X_train, X_valid = X_train.align(X_valid, join='left', axis=1)"
   ]
  },
  {
   "cell_type": "code",
   "execution_count": 19,
   "id": "f38b0db0",
   "metadata": {
    "execution": {
     "iopub.execute_input": "2021-09-09T12:09:01.271052Z",
     "iopub.status.busy": "2021-09-09T12:09:01.269943Z",
     "iopub.status.idle": "2021-09-09T12:09:01.275392Z",
     "shell.execute_reply": "2021-09-09T12:09:01.275930Z",
     "shell.execute_reply.started": "2021-09-09T12:07:35.374164Z"
    },
    "papermill": {
     "duration": 0.037483,
     "end_time": "2021-09-09T12:09:01.276131",
     "exception": false,
     "start_time": "2021-09-09T12:09:01.238648",
     "status": "completed"
    },
    "tags": []
   },
   "outputs": [],
   "source": [
    "X_train, X_test = X_train.align(X_test, join='left', axis=1)"
   ]
  },
  {
   "cell_type": "code",
   "execution_count": 20,
   "id": "137d72e2",
   "metadata": {
    "execution": {
     "iopub.execute_input": "2021-09-09T12:09:01.328447Z",
     "iopub.status.busy": "2021-09-09T12:09:01.327627Z",
     "iopub.status.idle": "2021-09-09T12:09:01.333402Z",
     "shell.execute_reply": "2021-09-09T12:09:01.332706Z",
     "shell.execute_reply.started": "2021-09-09T12:07:35.386876Z"
    },
    "papermill": {
     "duration": 0.032909,
     "end_time": "2021-09-09T12:09:01.333550",
     "exception": false,
     "start_time": "2021-09-09T12:09:01.300641",
     "status": "completed"
    },
    "tags": []
   },
   "outputs": [],
   "source": [
    "xgb = XGBRegressor(n_estimators=2000,\n",
    "                   learning_rate=0.05)"
   ]
  },
  {
   "cell_type": "code",
   "execution_count": 21,
   "id": "f1faf118",
   "metadata": {
    "execution": {
     "iopub.execute_input": "2021-09-09T12:09:01.385983Z",
     "iopub.status.busy": "2021-09-09T12:09:01.385308Z",
     "iopub.status.idle": "2021-09-09T12:09:15.940353Z",
     "shell.execute_reply": "2021-09-09T12:09:15.939749Z",
     "shell.execute_reply.started": "2021-09-09T12:07:35.396476Z"
    },
    "papermill": {
     "duration": 14.582264,
     "end_time": "2021-09-09T12:09:15.940511",
     "exception": false,
     "start_time": "2021-09-09T12:09:01.358247",
     "status": "completed"
    },
    "tags": []
   },
   "outputs": [
    {
     "data": {
      "text/plain": [
       "XGBRegressor(base_score=0.5, booster='gbtree', colsample_bylevel=1,\n",
       "             colsample_bynode=1, colsample_bytree=1, gamma=0, gpu_id=-1,\n",
       "             importance_type='gain', interaction_constraints='',\n",
       "             learning_rate=0.05, max_delta_step=0, max_depth=6,\n",
       "             min_child_weight=1, missing=nan, monotone_constraints='()',\n",
       "             n_estimators=2000, n_jobs=4, num_parallel_tree=1, random_state=0,\n",
       "             reg_alpha=0, reg_lambda=1, scale_pos_weight=1, subsample=1,\n",
       "             tree_method='exact', validate_parameters=1, verbosity=None)"
      ]
     },
     "execution_count": 21,
     "metadata": {},
     "output_type": "execute_result"
    }
   ],
   "source": [
    "xgb.fit(X_train, y_train)"
   ]
  },
  {
   "cell_type": "code",
   "execution_count": 22,
   "id": "7c12e486",
   "metadata": {
    "execution": {
     "iopub.execute_input": "2021-09-09T12:09:16.017376Z",
     "iopub.status.busy": "2021-09-09T12:09:16.007284Z",
     "iopub.status.idle": "2021-09-09T12:09:16.029260Z",
     "shell.execute_reply": "2021-09-09T12:09:16.029882Z",
     "shell.execute_reply.started": "2021-09-09T12:07:48.885390Z"
    },
    "papermill": {
     "duration": 0.062773,
     "end_time": "2021-09-09T12:09:16.030126",
     "exception": false,
     "start_time": "2021-09-09T12:09:15.967353",
     "status": "completed"
    },
    "tags": []
   },
   "outputs": [],
   "source": [
    "y_pred = xgb.predict(X_valid)"
   ]
  },
  {
   "cell_type": "code",
   "execution_count": 23,
   "id": "e0bfc4d1",
   "metadata": {
    "execution": {
     "iopub.execute_input": "2021-09-09T12:09:16.091225Z",
     "iopub.status.busy": "2021-09-09T12:09:16.090509Z",
     "iopub.status.idle": "2021-09-09T12:09:16.096071Z",
     "shell.execute_reply": "2021-09-09T12:09:16.095259Z",
     "shell.execute_reply.started": "2021-09-09T12:07:48.910217Z"
    },
    "papermill": {
     "duration": 0.039378,
     "end_time": "2021-09-09T12:09:16.096274",
     "exception": false,
     "start_time": "2021-09-09T12:09:16.056896",
     "status": "completed"
    },
    "tags": []
   },
   "outputs": [
    {
     "name": "stdout",
     "output_type": "stream",
     "text": [
      "16684.02049443493\n"
     ]
    }
   ],
   "source": [
    "mae = mean_absolute_error(y_pred, y_valid)\n",
    "print(mae)"
   ]
  },
  {
   "cell_type": "code",
   "execution_count": 24,
   "id": "7a6f4b21",
   "metadata": {
    "execution": {
     "iopub.execute_input": "2021-09-09T12:09:16.157988Z",
     "iopub.status.busy": "2021-09-09T12:09:16.156831Z",
     "iopub.status.idle": "2021-09-09T12:09:16.230956Z",
     "shell.execute_reply": "2021-09-09T12:09:16.230361Z",
     "shell.execute_reply.started": "2021-09-09T12:07:48.922210Z"
    },
    "papermill": {
     "duration": 0.105296,
     "end_time": "2021-09-09T12:09:16.231153",
     "exception": false,
     "start_time": "2021-09-09T12:09:16.125857",
     "status": "completed"
    },
    "tags": []
   },
   "outputs": [],
   "source": [
    "prediction = xgb.predict(X_test)"
   ]
  },
  {
   "cell_type": "code",
   "execution_count": 25,
   "id": "4ed695b4",
   "metadata": {
    "execution": {
     "iopub.execute_input": "2021-09-09T12:09:16.289996Z",
     "iopub.status.busy": "2021-09-09T12:09:16.289322Z",
     "iopub.status.idle": "2021-09-09T12:09:16.306172Z",
     "shell.execute_reply": "2021-09-09T12:09:16.306644Z",
     "shell.execute_reply.started": "2021-09-09T12:07:48.979040Z"
    },
    "papermill": {
     "duration": 0.047962,
     "end_time": "2021-09-09T12:09:16.306832",
     "exception": false,
     "start_time": "2021-09-09T12:09:16.258870",
     "status": "completed"
    },
    "tags": []
   },
   "outputs": [
    {
     "data": {
      "text/html": [
       "<div>\n",
       "<style scoped>\n",
       "    .dataframe tbody tr th:only-of-type {\n",
       "        vertical-align: middle;\n",
       "    }\n",
       "\n",
       "    .dataframe tbody tr th {\n",
       "        vertical-align: top;\n",
       "    }\n",
       "\n",
       "    .dataframe thead th {\n",
       "        text-align: right;\n",
       "    }\n",
       "</style>\n",
       "<table border=\"1\" class=\"dataframe\">\n",
       "  <thead>\n",
       "    <tr style=\"text-align: right;\">\n",
       "      <th></th>\n",
       "      <th>Id</th>\n",
       "      <th>SalePrice</th>\n",
       "    </tr>\n",
       "  </thead>\n",
       "  <tbody>\n",
       "    <tr>\n",
       "      <th>0</th>\n",
       "      <td>1461</td>\n",
       "      <td>123773.101562</td>\n",
       "    </tr>\n",
       "    <tr>\n",
       "      <th>1</th>\n",
       "      <td>1462</td>\n",
       "      <td>155071.828125</td>\n",
       "    </tr>\n",
       "    <tr>\n",
       "      <th>2</th>\n",
       "      <td>1463</td>\n",
       "      <td>190710.781250</td>\n",
       "    </tr>\n",
       "    <tr>\n",
       "      <th>3</th>\n",
       "      <td>1464</td>\n",
       "      <td>190716.500000</td>\n",
       "    </tr>\n",
       "    <tr>\n",
       "      <th>4</th>\n",
       "      <td>1465</td>\n",
       "      <td>193668.031250</td>\n",
       "    </tr>\n",
       "  </tbody>\n",
       "</table>\n",
       "</div>"
      ],
      "text/plain": [
       "     Id      SalePrice\n",
       "0  1461  123773.101562\n",
       "1  1462  155071.828125\n",
       "2  1463  190710.781250\n",
       "3  1464  190716.500000\n",
       "4  1465  193668.031250"
      ]
     },
     "execution_count": 25,
     "metadata": {},
     "output_type": "execute_result"
    }
   ],
   "source": [
    "output = pd.DataFrame({'Id': X_test.index,\n",
    "                       'SalePrice':prediction})\n",
    "output.to_csv('submission.csv', index=False)\n",
    "output.head()"
   ]
  }
 ],
 "metadata": {
  "kernelspec": {
   "display_name": "Python 3",
   "language": "python",
   "name": "python3"
  },
  "language_info": {
   "codemirror_mode": {
    "name": "ipython",
    "version": 3
   },
   "file_extension": ".py",
   "mimetype": "text/x-python",
   "name": "python",
   "nbconvert_exporter": "python",
   "pygments_lexer": "ipython3",
   "version": "3.7.10"
  },
  "papermill": {
   "default_parameters": {},
   "duration": 27.883852,
   "end_time": "2021-09-09T12:09:17.042133",
   "environment_variables": {},
   "exception": null,
   "input_path": "__notebook__.ipynb",
   "output_path": "__notebook__.ipynb",
   "parameters": {},
   "start_time": "2021-09-09T12:08:49.158281",
   "version": "2.3.3"
  }
 },
 "nbformat": 4,
 "nbformat_minor": 5
}
