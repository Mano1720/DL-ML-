{
  "nbformat": 4,
  "nbformat_minor": 0,
  "metadata": {
    "colab": {
      "name": "Untitled8.ipynb",
      "provenance": [],
      "authorship_tag": "ABX9TyPn+ZUvGYbjpceV1LZkUqvd",
      "include_colab_link": true
    },
    "kernelspec": {
      "name": "python3",
      "display_name": "Python 3"
    },
    "language_info": {
      "name": "python"
    }
  },
  "cells": [
    {
      "cell_type": "markdown",
      "metadata": {
        "id": "view-in-github",
        "colab_type": "text"
      },
      "source": [
        "<a href=\"https://colab.research.google.com/github/Mano1720/DL-ML-/blob/main/Assignment_5_REGex.ipynb\" target=\"_parent\"><img src=\"https://colab.research.google.com/assets/colab-badge.svg\" alt=\"Open In Colab\"/></a>"
      ]
    },
    {
      "cell_type": "markdown",
      "metadata": {
        "id": "BMR8dbQfGrkS"
      },
      "source": [
        "# Task 5\n",
        "\n",
        "**k Manoj**\n",
        "\n",
        "Registration Id : *SIRSS2309*"
      ]
    },
    {
      "cell_type": "markdown",
      "metadata": {
        "id": "cIPOLiZZOnuN"
      },
      "source": [
        "***Q1. Given a list of integers, write a function to return the sum of all prime numbers in that***\n",
        "\n"
      ]
    },
    {
      "cell_type": "code",
      "metadata": {
        "colab": {
          "base_uri": "https://localhost:8080/"
        },
        "id": "4SnOeObkGtfe",
        "outputId": "7153d362-697a-4109-c5cd-ecd3488c6392"
      },
      "source": [
        "prime=input(\"\").split(' ')\n",
        "sum=0\n",
        "for num in prime:\n",
        "    num=int(num)\n",
        "    sumPrime=True\n",
        "    if num > 1:\n",
        "        for i in range(2, num):\n",
        "            if (num % i) == 0:\n",
        "                sumPrime=False\n",
        "                break\n",
        "        if sumPrime:\n",
        "            sum+=num\n",
        "\n",
        "\n",
        "print(sum)            "
      ],
      "execution_count": 55,
      "outputs": [
        {
          "output_type": "stream",
          "name": "stdout",
          "text": [
            "1 3 4 5 6 7 8 9 2\n",
            "17\n"
          ]
        }
      ]
    },
    {
      "cell_type": "markdown",
      "metadata": {
        "id": "ycuU3FSNO2O0"
      },
      "source": [
        "***Q2. Given a list of integers, write a function to check whether the list is strictly increasing or\n",
        "not.***"
      ]
    },
    {
      "cell_type": "code",
      "metadata": {
        "colab": {
          "base_uri": "https://localhost:8080/"
        },
        "id": "yEyMHJnXKJeE",
        "outputId": "1011283e-464a-45c6-d5c2-d69de19f3921"
      },
      "source": [
        "list = [1,2,3,4,5,67]\n",
        "result = all(i < j for i, j in zip(list,list[1:]))\n",
        "result"
      ],
      "execution_count": 59,
      "outputs": [
        {
          "output_type": "execute_result",
          "data": {
            "text/plain": [
              "True"
            ]
          },
          "metadata": {},
          "execution_count": 59
        }
      ]
    },
    {
      "cell_type": "markdown",
      "metadata": {
        "id": "mmldw6iKPZWW"
      },
      "source": [
        "***Q3. Write a function to check whether a given list is expanding or not (the difference\n",
        "between adjacent elements should keep on increasing).***"
      ]
    },
    {
      "cell_type": "code",
      "metadata": {
        "colab": {
          "base_uri": "https://localhost:8080/"
        },
        "id": "hk5C3J2uPG6x",
        "outputId": "2dccc072-e941-4e71-9a9b-e37957abbd39"
      },
      "source": [
        "def expand(m):\n",
        "  a=abs(m[1]-m[0])\n",
        "  b=abs(m[2]-m[1])\n",
        "  if a>=b:\n",
        "    return False\n",
        "  else:\n",
        "    for i in range(3,len(m)):\n",
        "      c=abs(m[i]-m[i-1])\n",
        "      if b >=c:\n",
        "        return False\n",
        "      b=c\n",
        "    else:\n",
        "        return True  \n",
        "\n",
        "\n",
        "\n",
        "m=[1,2,5,9,15]\n",
        "expand(m)"
      ],
      "execution_count": 64,
      "outputs": [
        {
          "output_type": "execute_result",
          "data": {
            "text/plain": [
              "True"
            ]
          },
          "metadata": {},
          "execution_count": 64
        }
      ]
    },
    {
      "cell_type": "markdown",
      "metadata": {
        "id": "um-3dG-nRGen"
      },
      "source": [
        "***Q4. Write a function to calculate all permutations of a given string. (Without using itertools)***"
      ]
    },
    {
      "cell_type": "code",
      "metadata": {
        "colab": {
          "base_uri": "https://localhost:8080/"
        },
        "id": "c6DpPtf8Qqb2",
        "outputId": "800dd844-06bc-4267-d44f-7a8ce7d9c8fa"
      },
      "source": [
        "def permutations(n,all):\n",
        "  if  (len(n)==0):\n",
        "    print(all,end=\" \")\n",
        "    return\n",
        "\n",
        "  for i in range(len(n)):\n",
        "    c=n[i]\n",
        "    l=n[0:i]  \n",
        "    r=n[i+1:]\n",
        "    result=l+r\n",
        "    permutations(result,all+c)\n",
        "\n",
        "all=\"\"\n",
        "\n",
        "n=input(\"enter the sting\")\n",
        "permutations(n,all)"
      ],
      "execution_count": 70,
      "outputs": [
        {
          "output_type": "stream",
          "name": "stdout",
          "text": [
            "enter the stingroger\n",
            "roger rogre roegr roerg rorge roreg rgoer rgore rgeor rgero rgroe rgreo reogr reorg regor regro rerog rergo rroge rroeg rrgoe rrgeo rreog rrego orger orgre oregr orerg orrge orreg ogrer ogrre ogerr ogerr ogrre ogrer oergr oerrg oegrr oegrr oerrg oergr orrge orreg orgre orger orerg oregr groer grore greor grero grroe grreo gorer gorre goerr goerr gorre gorer geror gerro georr georr gerro geror grroe grreo grore groer grero greor erogr erorg ergor ergro errog errgo eorgr eorrg eogrr eogrr eorrg eorgr egror egrro egorr egorr egrro egror errog errgo erorg erogr ergro ergor rroge rroeg rrgoe rrgeo rreog rrego rorge roreg rogre roger roerg roegr rgroe rgreo rgore rgoer rgero rgeor rerog rergo reorg reogr regro regor "
          ]
        }
      ]
    },
    {
      "cell_type": "code",
      "metadata": {
        "id": "DY6jFY-9S1ny"
      },
      "source": [
        ""
      ],
      "execution_count": 70,
      "outputs": []
    }
  ]
}