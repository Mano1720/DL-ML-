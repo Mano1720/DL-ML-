{
 "cells": [
  {
   "cell_type": "code",
   "execution_count": 1,
   "id": "d3ea6ad4",
   "metadata": {
    "_cell_guid": "b1076dfc-b9ad-4769-8c92-a6c4dae69d19",
    "_uuid": "8f2839f25d086af736a60e9eeb907d3b93b6e0e5",
    "execution": {
     "iopub.execute_input": "2021-08-05T13:50:22.862609Z",
     "iopub.status.busy": "2021-08-05T13:50:22.861315Z",
     "iopub.status.idle": "2021-08-05T13:50:22.888390Z",
     "shell.execute_reply": "2021-08-05T13:50:22.889011Z",
     "shell.execute_reply.started": "2021-08-05T13:49:18.472276Z"
    },
    "papermill": {
     "duration": 0.055331,
     "end_time": "2021-08-05T13:50:22.889380",
     "exception": false,
     "start_time": "2021-08-05T13:50:22.834049",
     "status": "completed"
    },
    "tags": []
   },
   "outputs": [
    {
     "name": "stdout",
     "output_type": "stream",
     "text": [
      "/kaggle/input/gold-price-data/gld_price_data.csv\n"
     ]
    }
   ],
   "source": [
    
    "\n",
    "import numpy as np # linear algebra\n",
    "import pandas as pd # data processing, CSV file I/O (e.g. pd.read_csv)\n",
    "\n",
    
    "\n",
    "import os\n",
    "for dirname, _, filenames in os.walk('/kaggle/input'):\n",
    "    for filename in filenames:\n",
    "        print(os.path.join(dirname, filename))\n",
    "\n",
    
   ]
  },
  {
   "cell_type": "code",
   "execution_count": 2,
   "id": "68175339",
   "metadata": {
    "execution": {
     "iopub.execute_input": "2021-08-05T13:50:22.940690Z",
     "iopub.status.busy": "2021-08-05T13:50:22.939990Z",
     "iopub.status.idle": "2021-08-05T13:50:24.518703Z",
     "shell.execute_reply": "2021-08-05T13:50:24.518015Z",
     "shell.execute_reply.started": "2021-08-05T13:49:18.485949Z"
    },
    "papermill": {
     "duration": 1.605585,
     "end_time": "2021-08-05T13:50:24.518885",
     "exception": false,
     "start_time": "2021-08-05T13:50:22.913300",
     "status": "completed"
    },
    "tags": []
   },
   "outputs": [],
   "source": [
    "import pandas as pd\n",
    "import seaborn as sns\n",
    "import numpy as np\n",
    "import matplotlib.pyplot as plt\n",
    "from sklearn.model_selection import train_test_split\n",
    "from sklearn.ensemble import RandomForestRegressor\n",
    "from sklearn import metrics"
   ]
  },
  {
   "cell_type": "markdown",
   "id": "d8ab0d79",
   "metadata": {
    "papermill": {
     "duration": 0.022657,
     "end_time": "2021-08-05T13:50:24.565854",
     "exception": false,
     "start_time": "2021-08-05T13:50:24.543197",
     "status": "completed"
    },
    "tags": []
   },
   "source": [
    "\n",
    "**Data Collection and Processing**"
   ]
  },
  {
   "cell_type": "code",
   "execution_count": 3,
   "id": "94bcb5b5",
   "metadata": {
    "execution": {
     "iopub.execute_input": "2021-08-05T13:50:24.618420Z",
     "iopub.status.busy": "2021-08-05T13:50:24.617698Z",
     "iopub.status.idle": "2021-08-05T13:50:24.642802Z",
     "shell.execute_reply": "2021-08-05T13:50:24.641232Z",
     "shell.execute_reply.started": "2021-08-05T13:49:18.493092Z"
    },
    "papermill": {
     "duration": 0.054075,
     "end_time": "2021-08-05T13:50:24.642971",
     "exception": false,
     "start_time": "2021-08-05T13:50:24.588896",
     "status": "completed"
    },
    "tags": []
   },
   "outputs": [],
   "source": [
    "gold_data=pd.read_csv('/kaggle/input/gold-price-data/gld_price_data.csv')"
   ]
  },
  {
   "cell_type": "code",
   "execution_count": 4,
   "id": "73fa9170",
   "metadata": {
    "execution": {
     "iopub.execute_input": "2021-08-05T13:50:24.701379Z",
     "iopub.status.busy": "2021-08-05T13:50:24.700380Z",
     "iopub.status.idle": "2021-08-05T13:50:24.723702Z",
     "shell.execute_reply": "2021-08-05T13:50:24.724234Z",
     "shell.execute_reply.started": "2021-08-05T13:49:18.516712Z"
    },
    "papermill": {
     "duration": 0.05759,
     "end_time": "2021-08-05T13:50:24.724402",
     "exception": false,
     "start_time": "2021-08-05T13:50:24.666812",
     "status": "completed"
    },
    "tags": []
   },
   "outputs": [
    {
     "data": {
      "text/html": [
       "<div>\n",
       "<style scoped>\n",
       "    .dataframe tbody tr th:only-of-type {\n",
       "        vertical-align: middle;\n",
       "    }\n",
       "\n",
       "    .dataframe tbody tr th {\n",
       "        vertical-align: top;\n",
       "    }\n",
       "\n",
       "    .dataframe thead th {\n",
       "        text-align: right;\n",
       "    }\n",
       "</style>\n",
       "<table border=\"1\" class=\"dataframe\">\n",
       "  <thead>\n",
       "    <tr style=\"text-align: right;\">\n",
       "      <th></th>\n",
       "      <th>Date</th>\n",
       "      <th>SPX</th>\n",
       "      <th>GLD</th>\n",
       "      <th>USO</th>\n",
       "      <th>SLV</th>\n",
       "      <th>EUR/USD</th>\n",
       "    </tr>\n",
       "  </thead>\n",
       "  <tbody>\n",
       "    <tr>\n",
       "      <th>0</th>\n",
       "      <td>1/2/2008</td>\n",
       "      <td>1447.160034</td>\n",
       "      <td>84.860001</td>\n",
       "      <td>78.470001</td>\n",
       "      <td>15.180</td>\n",
       "      <td>1.471692</td>\n",
       "    </tr>\n",
       "    <tr>\n",
       "      <th>1</th>\n",
       "      <td>1/3/2008</td>\n",
       "      <td>1447.160034</td>\n",
       "      <td>85.570000</td>\n",
       "      <td>78.370003</td>\n",
       "      <td>15.285</td>\n",
       "      <td>1.474491</td>\n",
       "    </tr>\n",
       "    <tr>\n",
       "      <th>2</th>\n",
       "      <td>1/4/2008</td>\n",
       "      <td>1411.630005</td>\n",
       "      <td>85.129997</td>\n",
       "      <td>77.309998</td>\n",
       "      <td>15.167</td>\n",
       "      <td>1.475492</td>\n",
       "    </tr>\n",
       "    <tr>\n",
       "      <th>3</th>\n",
       "      <td>1/7/2008</td>\n",
       "      <td>1416.180054</td>\n",
       "      <td>84.769997</td>\n",
       "      <td>75.500000</td>\n",
       "      <td>15.053</td>\n",
       "      <td>1.468299</td>\n",
       "    </tr>\n",
       "    <tr>\n",
       "      <th>4</th>\n",
       "      <td>1/8/2008</td>\n",
       "      <td>1390.189941</td>\n",
       "      <td>86.779999</td>\n",
       "      <td>76.059998</td>\n",
       "      <td>15.590</td>\n",
       "      <td>1.557099</td>\n",
       "    </tr>\n",
       "  </tbody>\n",
       "</table>\n",
       "</div>"
      ],
      "text/plain": [
       "       Date          SPX        GLD        USO     SLV   EUR/USD\n",
       "0  1/2/2008  1447.160034  84.860001  78.470001  15.180  1.471692\n",
       "1  1/3/2008  1447.160034  85.570000  78.370003  15.285  1.474491\n",
       "2  1/4/2008  1411.630005  85.129997  77.309998  15.167  1.475492\n",
       "3  1/7/2008  1416.180054  84.769997  75.500000  15.053  1.468299\n",
       "4  1/8/2008  1390.189941  86.779999  76.059998  15.590  1.557099"
      ]
     },
     "execution_count": 4,
     "metadata": {},
     "output_type": "execute_result"
    }
   ],
   "source": [
    "# print first 5 rows in the dataframe\n",
    "gold_data.head()"
   ]
  },
  {
   "cell_type": "code",
   "execution_count": 5,
   "id": "8282a733",
   "metadata": {
    "execution": {
     "iopub.execute_input": "2021-08-05T13:50:24.775118Z",
     "iopub.status.busy": "2021-08-05T13:50:24.774426Z",
     "iopub.status.idle": "2021-08-05T13:50:24.786919Z",
     "shell.execute_reply": "2021-08-05T13:50:24.787385Z",
     "shell.execute_reply.started": "2021-08-05T13:49:18.535563Z"
    },
    "papermill": {
     "duration": 0.039499,
     "end_time": "2021-08-05T13:50:24.787561",
     "exception": false,
     "start_time": "2021-08-05T13:50:24.748062",
     "status": "completed"
    },
    "tags": []
   },
   "outputs": [
    {
     "data": {
      "text/html": [
       "<div>\n",
       "<style scoped>\n",
       "    .dataframe tbody tr th:only-of-type {\n",
       "        vertical-align: middle;\n",
       "    }\n",
       "\n",
       "    .dataframe tbody tr th {\n",
       "        vertical-align: top;\n",
       "    }\n",
       "\n",
       "    .dataframe thead th {\n",
       "        text-align: right;\n",
       "    }\n",
       "</style>\n",
       "<table border=\"1\" class=\"dataframe\">\n",
       "  <thead>\n",
       "    <tr style=\"text-align: right;\">\n",
       "      <th></th>\n",
       "      <th>Date</th>\n",
       "      <th>SPX</th>\n",
       "      <th>GLD</th>\n",
       "      <th>USO</th>\n",
       "      <th>SLV</th>\n",
       "      <th>EUR/USD</th>\n",
       "    </tr>\n",
       "  </thead>\n",
       "  <tbody>\n",
       "    <tr>\n",
       "      <th>2285</th>\n",
       "      <td>5/8/2018</td>\n",
       "      <td>2671.919922</td>\n",
       "      <td>124.589996</td>\n",
       "      <td>14.0600</td>\n",
       "      <td>15.5100</td>\n",
       "      <td>1.186789</td>\n",
       "    </tr>\n",
       "    <tr>\n",
       "      <th>2286</th>\n",
       "      <td>5/9/2018</td>\n",
       "      <td>2697.790039</td>\n",
       "      <td>124.330002</td>\n",
       "      <td>14.3700</td>\n",
       "      <td>15.5300</td>\n",
       "      <td>1.184722</td>\n",
       "    </tr>\n",
       "    <tr>\n",
       "      <th>2287</th>\n",
       "      <td>5/10/2018</td>\n",
       "      <td>2723.070068</td>\n",
       "      <td>125.180000</td>\n",
       "      <td>14.4100</td>\n",
       "      <td>15.7400</td>\n",
       "      <td>1.191753</td>\n",
       "    </tr>\n",
       "    <tr>\n",
       "      <th>2288</th>\n",
       "      <td>5/14/2018</td>\n",
       "      <td>2730.129883</td>\n",
       "      <td>124.489998</td>\n",
       "      <td>14.3800</td>\n",
       "      <td>15.5600</td>\n",
       "      <td>1.193118</td>\n",
       "    </tr>\n",
       "    <tr>\n",
       "      <th>2289</th>\n",
       "      <td>5/16/2018</td>\n",
       "      <td>2725.780029</td>\n",
       "      <td>122.543800</td>\n",
       "      <td>14.4058</td>\n",
       "      <td>15.4542</td>\n",
       "      <td>1.182033</td>\n",
       "    </tr>\n",
       "  </tbody>\n",
       "</table>\n",
       "</div>"
      ],
      "text/plain": [
       "           Date          SPX         GLD      USO      SLV   EUR/USD\n",
       "2285   5/8/2018  2671.919922  124.589996  14.0600  15.5100  1.186789\n",
       "2286   5/9/2018  2697.790039  124.330002  14.3700  15.5300  1.184722\n",
       "2287  5/10/2018  2723.070068  125.180000  14.4100  15.7400  1.191753\n",
       "2288  5/14/2018  2730.129883  124.489998  14.3800  15.5600  1.193118\n",
       "2289  5/16/2018  2725.780029  122.543800  14.4058  15.4542  1.182033"
      ]
     },
     "execution_count": 5,
     "metadata": {},
     "output_type": "execute_result"
    }
   ],
   "source": [
    "# print last 5 rows of the dataframe\n",
    "gold_data.tail()"
   ]
  },
  {
   "cell_type": "code",
   "execution_count": 6,
   "id": "243e012b",
   "metadata": {
    "execution": {
     "iopub.execute_input": "2021-08-05T13:50:24.838742Z",
     "iopub.status.busy": "2021-08-05T13:50:24.838084Z",
     "iopub.status.idle": "2021-08-05T13:50:24.843019Z",
     "shell.execute_reply": "2021-08-05T13:50:24.843580Z",
     "shell.execute_reply.started": "2021-08-05T13:49:18.558937Z"
    },
    "papermill": {
     "duration": 0.0322,
     "end_time": "2021-08-05T13:50:24.843784",
     "exception": false,
     "start_time": "2021-08-05T13:50:24.811584",
     "status": "completed"
    },
    "tags": []
   },
   "outputs": [
    {
     "data": {
      "text/plain": [
       "(2290, 6)"
      ]
     },
     "execution_count": 6,
     "metadata": {},
     "output_type": "execute_result"
    }
   ],
   "source": [
    "# number of rows and columns\n",
    "gold_data.shape"
   ]
  },
  {
   "cell_type": "code",
   "execution_count": 7,
   "id": "e9212dc4",
   "metadata": {
    "execution": {
     "iopub.execute_input": "2021-08-05T13:50:24.895986Z",
     "iopub.status.busy": "2021-08-05T13:50:24.895169Z",
     "iopub.status.idle": "2021-08-05T13:50:24.916928Z",
     "shell.execute_reply": "2021-08-05T13:50:24.917607Z",
     "shell.execute_reply.started": "2021-08-05T13:49:18.574111Z"
    },
    "papermill": {
     "duration": 0.049695,
     "end_time": "2021-08-05T13:50:24.917841",
     "exception": false,
     "start_time": "2021-08-05T13:50:24.868146",
     "status": "completed"
    },
    "tags": []
   },
   "outputs": [
    {
     "name": "stdout",
     "output_type": "stream",
     "text": [
      "<class 'pandas.core.frame.DataFrame'>\n",
      "RangeIndex: 2290 entries, 0 to 2289\n",
      "Data columns (total 6 columns):\n",
      " #   Column   Non-Null Count  Dtype  \n",
      "---  ------   --------------  -----  \n",
      " 0   Date     2290 non-null   object \n",
      " 1   SPX      2290 non-null   float64\n",
      " 2   GLD      2290 non-null   float64\n",
      " 3   USO      2290 non-null   float64\n",
      " 4   SLV      2290 non-null   float64\n",
      " 5   EUR/USD  2290 non-null   float64\n",
      "dtypes: float64(5), object(1)\n",
      "memory usage: 107.5+ KB\n"
     ]
    }
   ],
   "source": [
    "# getting some basic informations about the data\n",
    "gold_data.info()"
   ]
  },
  {
   "cell_type": "code",
   "execution_count": 8,
   "id": "5953a00a",
   "metadata": {
    "execution": {
     "iopub.execute_input": "2021-08-05T13:50:24.975223Z",
     "iopub.status.busy": "2021-08-05T13:50:24.972567Z",
     "iopub.status.idle": "2021-08-05T13:50:24.978995Z",
     "shell.execute_reply": "2021-08-05T13:50:24.979564Z",
     "shell.execute_reply.started": "2021-08-05T13:49:18.596123Z"
    },
    "papermill": {
     "duration": 0.036845,
     "end_time": "2021-08-05T13:50:24.979758",
     "exception": false,
     "start_time": "2021-08-05T13:50:24.942913",
     "status": "completed"
    },
    "tags": []
   },
   "outputs": [
    {
     "data": {
      "text/plain": [
       "Date       0\n",
       "SPX        0\n",
       "GLD        0\n",
       "USO        0\n",
       "SLV        0\n",
       "EUR/USD    0\n",
       "dtype: int64"
      ]
     },
     "execution_count": 8,
     "metadata": {},
     "output_type": "execute_result"
    }
   ],
   "source": [
    "# checking the number of missing values\n",
    "gold_data.isnull().sum()"
   ]
  },
  {
   "cell_type": "code",
   "execution_count": 9,
   "id": "7d21446f",
   "metadata": {
    "execution": {
     "iopub.execute_input": "2021-08-05T13:50:25.038015Z",
     "iopub.status.busy": "2021-08-05T13:50:25.037298Z",
     "iopub.status.idle": "2021-08-05T13:50:25.062922Z",
     "shell.execute_reply": "2021-08-05T13:50:25.063499Z",
     "shell.execute_reply.started": "2021-08-05T13:49:18.616029Z"
    },
    "papermill": {
     "duration": 0.059294,
     "end_time": "2021-08-05T13:50:25.063683",
     "exception": false,
     "start_time": "2021-08-05T13:50:25.004389",
     "status": "completed"
    },
    "tags": []
   },
   "outputs": [
    {
     "data": {
      "text/html": [
       "<div>\n",
       "<style scoped>\n",
       "    .dataframe tbody tr th:only-of-type {\n",
       "        vertical-align: middle;\n",
       "    }\n",
       "\n",
       "    .dataframe tbody tr th {\n",
       "        vertical-align: top;\n",
       "    }\n",
       "\n",
       "    .dataframe thead th {\n",
       "        text-align: right;\n",
       "    }\n",
       "</style>\n",
       "<table border=\"1\" class=\"dataframe\">\n",
       "  <thead>\n",
       "    <tr style=\"text-align: right;\">\n",
       "      <th></th>\n",
       "      <th>SPX</th>\n",
       "      <th>GLD</th>\n",
       "      <th>USO</th>\n",
       "      <th>SLV</th>\n",
       "      <th>EUR/USD</th>\n",
       "    </tr>\n",
       "  </thead>\n",
       "  <tbody>\n",
       "    <tr>\n",
       "      <th>count</th>\n",
       "      <td>2290.000000</td>\n",
       "      <td>2290.000000</td>\n",
       "      <td>2290.000000</td>\n",
       "      <td>2290.000000</td>\n",
       "      <td>2290.000000</td>\n",
       "    </tr>\n",
       "    <tr>\n",
       "      <th>mean</th>\n",
       "      <td>1654.315776</td>\n",
       "      <td>122.732875</td>\n",
       "      <td>31.842221</td>\n",
       "      <td>20.084997</td>\n",
       "      <td>1.283653</td>\n",
       "    </tr>\n",
       "    <tr>\n",
       "      <th>std</th>\n",
       "      <td>519.111540</td>\n",
       "      <td>23.283346</td>\n",
       "      <td>19.523517</td>\n",
       "      <td>7.092566</td>\n",
       "      <td>0.131547</td>\n",
       "    </tr>\n",
       "    <tr>\n",
       "      <th>min</th>\n",
       "      <td>676.530029</td>\n",
       "      <td>70.000000</td>\n",
       "      <td>7.960000</td>\n",
       "      <td>8.850000</td>\n",
       "      <td>1.039047</td>\n",
       "    </tr>\n",
       "    <tr>\n",
       "      <th>25%</th>\n",
       "      <td>1239.874969</td>\n",
       "      <td>109.725000</td>\n",
       "      <td>14.380000</td>\n",
       "      <td>15.570000</td>\n",
       "      <td>1.171313</td>\n",
       "    </tr>\n",
       "    <tr>\n",
       "      <th>50%</th>\n",
       "      <td>1551.434998</td>\n",
       "      <td>120.580002</td>\n",
       "      <td>33.869999</td>\n",
       "      <td>17.268500</td>\n",
       "      <td>1.303297</td>\n",
       "    </tr>\n",
       "    <tr>\n",
       "      <th>75%</th>\n",
       "      <td>2073.010070</td>\n",
       "      <td>132.840004</td>\n",
       "      <td>37.827501</td>\n",
       "      <td>22.882499</td>\n",
       "      <td>1.369971</td>\n",
       "    </tr>\n",
       "    <tr>\n",
       "      <th>max</th>\n",
       "      <td>2872.870117</td>\n",
       "      <td>184.589996</td>\n",
       "      <td>117.480003</td>\n",
       "      <td>47.259998</td>\n",
       "      <td>1.598798</td>\n",
       "    </tr>\n",
       "  </tbody>\n",
       "</table>\n",
       "</div>"
      ],
      "text/plain": [
       "               SPX          GLD          USO          SLV      EUR/USD\n",
       "count  2290.000000  2290.000000  2290.000000  2290.000000  2290.000000\n",
       "mean   1654.315776   122.732875    31.842221    20.084997     1.283653\n",
       "std     519.111540    23.283346    19.523517     7.092566     0.131547\n",
       "min     676.530029    70.000000     7.960000     8.850000     1.039047\n",
       "25%    1239.874969   109.725000    14.380000    15.570000     1.171313\n",
       "50%    1551.434998   120.580002    33.869999    17.268500     1.303297\n",
       "75%    2073.010070   132.840004    37.827501    22.882499     1.369971\n",
       "max    2872.870117   184.589996   117.480003    47.259998     1.598798"
      ]
     },
     "execution_count": 9,
     "metadata": {},
     "output_type": "execute_result"
    }
   ],
   "source": [
    "# getting the statistical measures of the data\n",
    "gold_data.describe()"
   ]
  },
  {
   "cell_type": "markdown",
   "id": "c78c2f53",
   "metadata": {
    "papermill": {
     "duration": 0.025809,
     "end_time": "2021-08-05T13:50:25.115060",
     "exception": false,
     "start_time": "2021-08-05T13:50:25.089251",
     "status": "completed"
    },
    "tags": []
   },
   "source": [
    "**Find The Correlation:**"
   ]
  },
  {
   "cell_type": "code",
   "execution_count": 10,
   "id": "8059aed8",
   "metadata": {
    "execution": {
     "iopub.execute_input": "2021-08-05T13:50:25.171363Z",
     "iopub.status.busy": "2021-08-05T13:50:25.170572Z",
     "iopub.status.idle": "2021-08-05T13:50:25.177536Z",
     "shell.execute_reply": "2021-08-05T13:50:25.178041Z",
     "shell.execute_reply.started": "2021-08-05T13:49:18.651395Z"
    },
    "papermill": {
     "duration": 0.037275,
     "end_time": "2021-08-05T13:50:25.178223",
     "exception": false,
     "start_time": "2021-08-05T13:50:25.140948",
     "status": "completed"
    },
    "tags": []
   },
   "outputs": [],
   "source": [
    "correlation=gold_data.corr()"
   ]
  },
  {
   "cell_type": "code",
   "execution_count": 11,
   "id": "e10adcbf",
   "metadata": {
    "execution": {
     "iopub.execute_input": "2021-08-05T13:50:25.240464Z",
     "iopub.status.busy": "2021-08-05T13:50:25.239690Z",
     "iopub.status.idle": "2021-08-05T13:50:25.600543Z",
     "shell.execute_reply": "2021-08-05T13:50:25.601152Z",
     "shell.execute_reply.started": "2021-08-05T13:49:18.657824Z"
    },
    "papermill": {
     "duration": 0.397047,
     "end_time": "2021-08-05T13:50:25.601334",
     "exception": false,
     "start_time": "2021-08-05T13:50:25.204287",
     "status": "completed"
    },
    "tags": []
   },
   "outputs": [
    {
     "data": {
      "text/plain": [
       "<AxesSubplot:>"
      ]
     },
     "execution_count": 11,
     "metadata": {},
     "output_type": "execute_result"
    },
    {
     "data": {
      "image/png": "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\n",
      "text/plain": [
       "<Figure size 576x576 with 2 Axes>"
      ]
     },
     "metadata": {
      "needs_background": "light"
     },
     "output_type": "display_data"
    }
   ],
   "source": [
    "# constructing a heatmap to understand the correlatiom\n",
    "plt.figure(figsize = (8,8))\n",
    "sns.heatmap(correlation, cbar=True, square=True, fmt='.1f',annot=True, annot_kws={'size':8}, cmap='Dark2_r')"
   ]
  },
  {
   "cell_type": "code",
   "execution_count": 12,
   "id": "658ec97a",
   "metadata": {
    "execution": {
     "iopub.execute_input": "2021-08-05T13:50:25.657534Z",
     "iopub.status.busy": "2021-08-05T13:50:25.656877Z",
     "iopub.status.idle": "2021-08-05T13:50:25.663614Z",
     "shell.execute_reply": "2021-08-05T13:50:25.664087Z",
     "shell.execute_reply.started": "2021-08-05T13:49:19.035889Z"
    },
    "papermill": {
     "duration": 0.036108,
     "end_time": "2021-08-05T13:50:25.664262",
     "exception": false,
     "start_time": "2021-08-05T13:50:25.628154",
     "status": "completed"
    },
    "tags": []
   },
   "outputs": [
    {
     "name": "stdout",
     "output_type": "stream",
     "text": [
      "SPX        0.049345\n",
      "GLD        1.000000\n",
      "USO       -0.186360\n",
      "SLV        0.866632\n",
      "EUR/USD   -0.024375\n",
      "Name: GLD, dtype: float64\n"
     ]
    }
   ],
   "source": [
    "# correlation values of GLD\n",
    "print(correlation['GLD'])"
   ]
  },
  {
   "cell_type": "code",
   "execution_count": 13,
   "id": "ccd099c8",
   "metadata": {
    "execution": {
     "iopub.execute_input": "2021-08-05T13:50:25.722932Z",
     "iopub.status.busy": "2021-08-05T13:50:25.722240Z",
     "iopub.status.idle": "2021-08-05T13:50:26.192879Z",
     "shell.execute_reply": "2021-08-05T13:50:26.192187Z",
     "shell.execute_reply.started": "2021-08-05T13:49:19.043460Z"
    },
    "papermill": {
     "duration": 0.50186,
     "end_time": "2021-08-05T13:50:26.193034",
     "exception": false,
     "start_time": "2021-08-05T13:50:25.691174",
     "status": "completed"
    },
    "tags": []
   },
   "outputs": [
    {
     "name": "stderr",
     "output_type": "stream",
     "text": [
      "/opt/conda/lib/python3.7/site-packages/seaborn/distributions.py:2557: FutureWarning: `distplot` is a deprecated function and will be removed in a future version. Please adapt your code to use either `displot` (a figure-level function with similar flexibility) or `histplot` (an axes-level function for histograms).\n",
      "  warnings.warn(msg, FutureWarning)\n"
     ]
    },
    {
     "data": {
      "text/plain": [
       "<AxesSubplot:xlabel='GLD', ylabel='Density'>"
      ]
     },
     "execution_count": 13,
     "metadata": {},
     "output_type": "execute_result"
    },
    {
     "data": {
      "image/png": "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\n",
      "text/plain": [
       "<Figure size 432x288 with 1 Axes>"
      ]
     },
     "metadata": {
      "needs_background": "light"
     },
     "output_type": "display_data"
    }
   ],
   "source": [
    "# checking the distribution of the GLD Price\n",
    "sns.distplot(gold_data['GLD'],color='black')"
   ]
  },
  {
   "cell_type": "markdown",
   "id": "c3214872",
   "metadata": {
    "papermill": {
     "duration": 0.028885,
     "end_time": "2021-08-05T13:50:26.250876",
     "exception": false,
     "start_time": "2021-08-05T13:50:26.221991",
     "status": "completed"
    },
    "tags": []
   },
   "source": [
    "**Splitting the Features and Target**"
   ]
  },
  {
   "cell_type": "code",
   "execution_count": 14,
   "id": "9414dabf",
   "metadata": {
    "execution": {
     "iopub.execute_input": "2021-08-05T13:50:26.314386Z",
     "iopub.status.busy": "2021-08-05T13:50:26.313667Z",
     "iopub.status.idle": "2021-08-05T13:50:26.316443Z",
     "shell.execute_reply": "2021-08-05T13:50:26.316912Z",
     "shell.execute_reply.started": "2021-08-05T13:49:19.323446Z"
    },
    "papermill": {
     "duration": 0.037436,
     "end_time": "2021-08-05T13:50:26.317089",
     "exception": false,
     "start_time": "2021-08-05T13:50:26.279653",
     "status": "completed"
    },
    "tags": []
   },
   "outputs": [],
   "source": [
    "X = gold_data.drop(['Date','GLD'],axis=1)\n",
    "Y = gold_data['GLD']"
   ]
  },
  {
   "cell_type": "code",
   "execution_count": 15,
   "id": "180eaef4",
   "metadata": {
    "execution": {
     "iopub.execute_input": "2021-08-05T13:50:26.386966Z",
     "iopub.status.busy": "2021-08-05T13:50:26.385907Z",
     "iopub.status.idle": "2021-08-05T13:50:26.390798Z",
     "shell.execute_reply": "2021-08-05T13:50:26.390029Z",
     "shell.execute_reply.started": "2021-08-05T13:49:19.331078Z"
    },
    "papermill": {
     "duration": 0.045345,
     "end_time": "2021-08-05T13:50:26.390955",
     "exception": false,
     "start_time": "2021-08-05T13:50:26.345610",
     "status": "completed"
    },
    "tags": []
   },
   "outputs": [
    {
     "data": {
      "text/html": [
       "<div>\n",
       "<style scoped>\n",
       "    .dataframe tbody tr th:only-of-type {\n",
       "        vertical-align: middle;\n",
       "    }\n",
       "\n",
       "    .dataframe tbody tr th {\n",
       "        vertical-align: top;\n",
       "    }\n",
       "\n",
       "    .dataframe thead th {\n",
       "        text-align: right;\n",
       "    }\n",
       "</style>\n",
       "<table border=\"1\" class=\"dataframe\">\n",
       "  <thead>\n",
       "    <tr style=\"text-align: right;\">\n",
       "      <th></th>\n",
       "      <th>SPX</th>\n",
       "      <th>USO</th>\n",
       "      <th>SLV</th>\n",
       "      <th>EUR/USD</th>\n",
       "    </tr>\n",
       "  </thead>\n",
       "  <tbody>\n",
       "    <tr>\n",
       "      <th>0</th>\n",
       "      <td>1447.160034</td>\n",
       "      <td>78.470001</td>\n",
       "      <td>15.180</td>\n",
       "      <td>1.471692</td>\n",
       "    </tr>\n",
       "    <tr>\n",
       "      <th>1</th>\n",
       "      <td>1447.160034</td>\n",
       "      <td>78.370003</td>\n",
       "      <td>15.285</td>\n",
       "      <td>1.474491</td>\n",
       "    </tr>\n",
       "    <tr>\n",
       "      <th>2</th>\n",
       "      <td>1411.630005</td>\n",
       "      <td>77.309998</td>\n",
       "      <td>15.167</td>\n",
       "      <td>1.475492</td>\n",
       "    </tr>\n",
       "    <tr>\n",
       "      <th>3</th>\n",
       "      <td>1416.180054</td>\n",
       "      <td>75.500000</td>\n",
       "      <td>15.053</td>\n",
       "      <td>1.468299</td>\n",
       "    </tr>\n",
       "    <tr>\n",
       "      <th>4</th>\n",
       "      <td>1390.189941</td>\n",
       "      <td>76.059998</td>\n",
       "      <td>15.590</td>\n",
       "      <td>1.557099</td>\n",
       "    </tr>\n",
       "  </tbody>\n",
       "</table>\n",
       "</div>"
      ],
      "text/plain": [
       "           SPX        USO     SLV   EUR/USD\n",
       "0  1447.160034  78.470001  15.180  1.471692\n",
       "1  1447.160034  78.370003  15.285  1.474491\n",
       "2  1411.630005  77.309998  15.167  1.475492\n",
       "3  1416.180054  75.500000  15.053  1.468299\n",
       "4  1390.189941  76.059998  15.590  1.557099"
      ]
     },
     "execution_count": 15,
     "metadata": {},
     "output_type": "execute_result"
    }
   ],
   "source": [
    "X.head()\n"
   ]
  },
  {
   "cell_type": "code",
   "execution_count": 16,
   "id": "1fb705da",
   "metadata": {
    "execution": {
     "iopub.execute_input": "2021-08-05T13:50:26.456541Z",
     "iopub.status.busy": "2021-08-05T13:50:26.455570Z",
     "iopub.status.idle": "2021-08-05T13:50:26.460063Z",
     "shell.execute_reply": "2021-08-05T13:50:26.459527Z",
     "shell.execute_reply.started": "2021-08-05T13:49:19.351071Z"
    },
    "papermill": {
     "duration": 0.040014,
     "end_time": "2021-08-05T13:50:26.460210",
     "exception": false,
     "start_time": "2021-08-05T13:50:26.420196",
     "status": "completed"
    },
    "tags": []
   },
   "outputs": [
    {
     "data": {
      "text/plain": [
       "0    84.860001\n",
       "1    85.570000\n",
       "2    85.129997\n",
       "3    84.769997\n",
       "4    86.779999\n",
       "Name: GLD, dtype: float64"
      ]
     },
     "execution_count": 16,
     "metadata": {},
     "output_type": "execute_result"
    }
   ],
   "source": [
    "Y.head()"
   ]
  },
  {
   "cell_type": "markdown",
   "id": "345a2a08",
   "metadata": {
    "papermill": {
     "duration": 0.029498,
     "end_time": "2021-08-05T13:50:26.520077",
     "exception": false,
     "start_time": "2021-08-05T13:50:26.490579",
     "status": "completed"
    },
    "tags": []
   },
   "source": [
    "***Splitting the data into  Training data and Test Data***"
   ]
  },
  {
   "cell_type": "code",
   "execution_count": 17,
   "id": "e4eb71d1",
   "metadata": {
    "execution": {
     "iopub.execute_input": "2021-08-05T13:50:26.588700Z",
     "iopub.status.busy": "2021-08-05T13:50:26.587952Z",
     "iopub.status.idle": "2021-08-05T13:50:26.591933Z",
     "shell.execute_reply": "2021-08-05T13:50:26.591364Z",
     "shell.execute_reply.started": "2021-08-05T13:49:19.366571Z"
    },
    "papermill": {
     "duration": 0.042286,
     "end_time": "2021-08-05T13:50:26.592079",
     "exception": false,
     "start_time": "2021-08-05T13:50:26.549793",
     "status": "completed"
    },
    "tags": []
   },
   "outputs": [],
   "source": [
    "X_train, X_test, Y_train, Y_test = train_test_split(X, Y, test_size = 0.2, random_state=2)"
   ]
  },
  {
   "cell_type": "markdown",
   "id": "56df56e2",
   "metadata": {
    "papermill": {
     "duration": 0.029196,
     "end_time": "2021-08-05T13:50:26.652845",
     "exception": false,
     "start_time": "2021-08-05T13:50:26.623649",
     "status": "completed"
    },
    "tags": []
   },
   "source": [
    "***For Model Training we are using: Random Forest Regressor***"
   ]
  },
  {
   "cell_type": "code",
   "execution_count": 18,
   "id": "0cb49d07",
   "metadata": {
    "execution": {
     "iopub.execute_input": "2021-08-05T13:50:26.718655Z",
     "iopub.status.busy": "2021-08-05T13:50:26.717981Z",
     "iopub.status.idle": "2021-08-05T13:50:26.721431Z",
     "shell.execute_reply": "2021-08-05T13:50:26.720772Z",
     "shell.execute_reply.started": "2021-08-05T13:49:19.380516Z"
    },
    "papermill": {
     "duration": 0.0377,
     "end_time": "2021-08-05T13:50:26.721571",
     "exception": false,
     "start_time": "2021-08-05T13:50:26.683871",
     "status": "completed"
    },
    "tags": []
   },
   "outputs": [],
   "source": [
    "regressor = RandomForestRegressor(n_estimators=100)"
   ]
  },
  {
   "cell_type": "code",
   "execution_count": 19,
   "id": "aa62f9d3",
   "metadata": {
    "execution": {
     "iopub.execute_input": "2021-08-05T13:50:26.810992Z",
     "iopub.status.busy": "2021-08-05T13:50:26.805685Z",
     "iopub.status.idle": "2021-08-05T13:50:27.624039Z",
     "shell.execute_reply": "2021-08-05T13:50:27.622768Z",
     "shell.execute_reply.started": "2021-08-05T13:49:19.388897Z"
    },
    "papermill": {
     "duration": 0.871808,
     "end_time": "2021-08-05T13:50:27.624212",
     "exception": false,
     "start_time": "2021-08-05T13:50:26.752404",
     "status": "completed"
    },
    "tags": []
   },
   "outputs": [
    {
     "data": {
      "text/plain": [
       "RandomForestRegressor()"
      ]
     },
     "execution_count": 19,
     "metadata": {},
     "output_type": "execute_result"
    }
   ],
   "source": [
    "# training the model\n",
    "regressor.fit(X_train,Y_train)"
   ]
  },
  {
   "cell_type": "code",
   "execution_count": 20,
   "id": "75b064b1",
   "metadata": {
    "execution": {
     "iopub.execute_input": "2021-08-05T13:50:27.693055Z",
     "iopub.status.busy": "2021-08-05T13:50:27.692281Z",
     "iopub.status.idle": "2021-08-05T13:50:27.712103Z",
     "shell.execute_reply": "2021-08-05T13:50:27.712588Z",
     "shell.execute_reply.started": "2021-08-05T13:49:20.063018Z"
    },
    "papermill": {
     "duration": 0.058502,
     "end_time": "2021-08-05T13:50:27.712862",
     "exception": false,
     "start_time": "2021-08-05T13:50:27.654360",
     "status": "completed"
    },
    "tags": []
   },
   "outputs": [],
   "source": [
    "# prediction on Test Data\n",
    "test_data_prediction = regressor.predict(X_test)"
   ]
  },
  {
   "cell_type": "code",
   "execution_count": 21,
   "id": "23c0f27f",
   "metadata": {
    "execution": {
     "iopub.execute_input": "2021-08-05T13:50:27.776741Z",
     "iopub.status.busy": "2021-08-05T13:50:27.776063Z",
     "iopub.status.idle": "2021-08-05T13:50:27.789526Z",
     "shell.execute_reply": "2021-08-05T13:50:27.788873Z",
     "shell.execute_reply.started": "2021-08-05T13:49:20.090273Z"
    },
    "papermill": {
     "duration": 0.046281,
     "end_time": "2021-08-05T13:50:27.789668",
     "exception": false,
     "start_time": "2021-08-05T13:50:27.743387",
     "status": "completed"
    },
    "tags": []
   },
   "outputs": [
    {
     "data": {
      "text/plain": [
       "array([168.54759935,  81.82149991, 116.05950002, 127.67180057,\n",
       "       120.70130125, 154.7869983 , 149.94199856, 126.27570001,\n",
       "       117.36559849, 125.90020096, 117.06620093, 171.35770095,\n",
       "       141.70529882, 167.84819899, 115.22530024, 117.46930014,\n",
       "       139.11070297, 170.16840092, 159.22420298, 158.69129918,\n",
       "       155.0266004 , 125.33289965, 175.94119988, 156.92590333,\n",
       "       125.22400043,  93.76749968,  77.36620038, 121.05200004,\n",
       "       119.05249923, 167.4232995 ,  88.10540072, 125.29930005,\n",
       "        91.2107009 , 117.82579995, 120.99539958, 136.49850089,\n",
       "       115.15220141, 115.16560057, 148.60450047, 107.09320094,\n",
       "       104.65030252,  87.29739793, 126.42930058, 117.87590043,\n",
       "       154.7053989 , 119.38130047, 108.27140003, 108.14759806,\n",
       "        93.1908002 , 127.23369747,  75.45440013, 113.78049928,\n",
       "       121.36650021, 111.05149914, 118.76589893, 121.04289982,\n",
       "       159.42909966, 168.05190107, 146.99789686,  85.80839882,\n",
       "        94.30400038,  86.79279899,  90.74090026, 119.14050041,\n",
       "       126.3237006 , 127.52229985, 169.86979961, 122.27079935,\n",
       "       117.26819906,  98.49970006, 167.55220158, 142.80169821,\n",
       "       132.244102  , 121.28140189, 119.86109968, 119.7896005 ,\n",
       "       114.31410174, 118.12660076, 107.05290101, 127.97630048,\n",
       "       114.10359913, 106.59899981, 116.64000082, 119.59159887,\n",
       "        88.89690078,  88.25859875, 146.70540251, 127.0274001 ,\n",
       "       113.65849988, 110.08939827, 108.23819913,  77.29659899,\n",
       "       168.88560135, 114.08279919, 121.65779882, 128.24980202,\n",
       "       154.84429845,  91.56919938, 135.61090117, 159.93850318,\n",
       "       125.41960058, 125.3010005 , 130.54960211, 114.69760131,\n",
       "       119.85299968,  92.15519976, 110.15259879, 167.59369955,\n",
       "       156.70409912, 114.36369961, 106.9171012 ,  79.85969955,\n",
       "       113.18830051, 125.72560079, 107.53279922, 119.21160046,\n",
       "       156.37920422, 159.6597988 , 120.33429992, 134.10110237,\n",
       "       101.43889974, 117.75339812, 119.23620013, 112.87720067,\n",
       "       102.69189913, 160.17719801,  99.0828006 , 149.62509829,\n",
       "       125.63020109, 169.88149966, 125.89549796, 127.43489693,\n",
       "       127.48930217, 113.55229934, 113.00850071, 123.53019896,\n",
       "       102.02109902,  89.33479976, 124.81039937, 101.92509923,\n",
       "       107.11019896, 113.41960091, 117.22020102,  99.11499958,\n",
       "       121.77080042, 163.28889871,  87.36719856, 107.04580009,\n",
       "       117.10530106, 127.78910108, 124.01180091,  80.94349937,\n",
       "       120.26450079, 158.48649796,  88.00529994, 110.37569942,\n",
       "       118.93659897, 171.93339913, 102.88429924, 105.17990051,\n",
       "       122.7501006 , 158.97609769,  87.38549847,  93.44440033,\n",
       "       112.97980008, 177.23279926, 114.35319979, 119.28079999,\n",
       "        94.70370066, 125.81530026, 166.35870143, 114.87120063,\n",
       "       116.68540151,  88.3599988 , 148.90560087, 120.33239962,\n",
       "        89.55469998, 111.99680013, 117.26500058, 118.71970114,\n",
       "        88.18539925,  94.1157999 , 116.8283002 , 118.40460192,\n",
       "       120.3611004 , 127.09229765, 121.96439961, 148.63930019,\n",
       "       164.57080077, 118.44619977, 120.35650142, 151.1551996 ,\n",
       "       118.55639888, 172.21729907, 105.87119901, 105.04080114,\n",
       "       150.64200115, 113.73600057, 124.93620115, 147.42570026,\n",
       "       119.52960097, 115.29110064, 112.30490006, 113.43250183,\n",
       "       139.53110188, 117.92279763, 102.87550024, 115.84540134,\n",
       "       103.88080182,  98.60340027, 117.33170076,  90.50280013,\n",
       "        91.57100036, 153.46519922, 102.76699983, 154.27660086,\n",
       "       114.20660158, 138.43890155,  90.00089811, 115.48479964,\n",
       "       114.49369964, 123.04030058, 121.79450025, 165.53630153,\n",
       "        92.95089925, 135.05560146, 121.35479917, 120.78940101,\n",
       "       104.63970038, 140.11870346, 121.62339896, 116.64580053,\n",
       "       113.60760072, 126.90309768, 122.60989971, 125.74179918,\n",
       "       121.21230026,  86.91589904, 132.82940096, 143.26530227,\n",
       "        92.76359936, 160.11179968, 159.36700219, 126.66129915,\n",
       "       164.87570003, 108.72109945, 109.6529005 , 103.75599843,\n",
       "        94.33050072, 127.93400265, 106.89890047, 162.4152004 ,\n",
       "       121.83690028, 131.94030024, 130.67400183, 161.24259905,\n",
       "        90.04609829, 175.45480247, 128.46700053, 127.05279796,\n",
       "        86.52479937, 124.37029964, 150.4981974 ,  89.6114003 ,\n",
       "       107.29480003, 109.00619977,  84.4422988 , 136.15589974,\n",
       "       155.41670157, 138.80890378,  73.86870022, 152.21700062,\n",
       "       126.29049982, 126.68740001, 127.40969911, 108.69619946,\n",
       "       156.42610055, 114.61090119, 117.02320161, 125.36789941,\n",
       "       154.05780234, 121.32040007, 156.44559849,  92.90840048,\n",
       "       125.59930095, 125.49290015,  87.8355005 ,  92.10189926,\n",
       "       126.06249934, 128.40950339, 113.05220007, 117.33069722,\n",
       "       120.89600049, 126.94589813, 119.31130098, 136.77500155,\n",
       "        93.97959937, 120.03440069, 112.98070094,  94.29339952,\n",
       "       108.71659981,  87.59789917, 108.50889966,  89.57929974,\n",
       "        92.35989995, 131.5504027 , 162.34200017,  89.38110028,\n",
       "       119.53740092, 133.21310183, 123.98160008, 128.5259018 ,\n",
       "       101.92379858,  88.94499924, 131.59780036, 118.68560042,\n",
       "       108.50850012, 169.54630083, 115.16030078,  86.61649881,\n",
       "       118.94390058,  91.02879994, 161.85179985, 116.5505005 ,\n",
       "       121.48750033, 160.20339785, 119.87349927, 112.94039914,\n",
       "       108.50539857, 126.74009992,  76.81559985, 102.97669984,\n",
       "       127.53260268, 121.80759933,  92.68459978, 131.84860058,\n",
       "       118.03910145, 115.92939943, 154.59010252, 159.54910049,\n",
       "       109.93199969, 155.61929772, 119.30090092, 160.80200061,\n",
       "       118.26030044, 157.29739985, 115.16179921, 116.81070025,\n",
       "       148.76589876, 114.86310104, 125.83509874, 165.49759954,\n",
       "       117.73450029, 125.24429971, 152.92360367, 153.53010251,\n",
       "       132.28580011, 114.91550041, 121.25770165, 125.26170088,\n",
       "        89.75140057, 122.93770016, 155.50040253, 111.60350019,\n",
       "       107.01300008, 162.26570183, 118.3498996 , 165.63629987,\n",
       "       133.98600073, 114.92659979, 153.0477984 , 168.71060118,\n",
       "       115.64440048, 114.20400141, 159.24339911,  85.32659897,\n",
       "       127.03450071, 127.96710036, 128.8637006 , 124.19230041,\n",
       "       123.98220066,  90.51570092, 152.70050136,  96.91389972,\n",
       "       137.72700047,  89.08609917, 106.68309977, 115.06380064,\n",
       "       112.63060061, 123.90889928,  91.37099871, 125.47550149,\n",
       "       162.21649791, 119.75069874, 164.79360148, 127.22339733,\n",
       "       112.33670014, 127.5312992 ,  94.9450987 ,  90.91680036,\n",
       "       103.40019897, 120.63210016,  83.46529942, 126.33100005,\n",
       "       160.14760449, 117.2580011 , 118.39999973, 120.22879979,\n",
       "       122.77849982, 120.08900127, 121.71139963, 118.29330054,\n",
       "       107.17080029, 148.43119974, 126.31469829, 115.57890055,\n",
       "        73.9042001 , 127.78150057, 155.03340063, 122.71620016,\n",
       "       125.60050051,  88.66049999, 102.96379832, 124.41100055,\n",
       "       120.20120022,  73.34530093, 151.75540026, 121.22030056,\n",
       "       104.79239992,  86.62559764, 115.10589901, 172.18199784,\n",
       "       119.88740057, 159.73619788, 113.24289945, 121.22850046,\n",
       "       118.56930146,  95.8804998 , 118.92249963, 126.14080047,\n",
       "       118.59289941,  96.37210085, 154.31140111, 121.98480027,\n",
       "       147.42469978, 159.98850266, 114.02350009, 122.58089925,\n",
       "       149.48569838, 127.09910054, 165.95150058, 134.97430051,\n",
       "       120.19599927, 168.02329913, 108.28369974, 121.74829841,\n",
       "       139.33380133, 106.88909872])"
      ]
     },
     "execution_count": 21,
     "metadata": {},
     "output_type": "execute_result"
    }
   ],
   "source": [
    "test_data_prediction"
   ]
  },
  {
   "cell_type": "code",
   "execution_count": 22,
   "id": "cd306bc5",
   "metadata": {
    "execution": {
     "iopub.execute_input": "2021-08-05T13:50:27.857275Z",
     "iopub.status.busy": "2021-08-05T13:50:27.856342Z",
     "iopub.status.idle": "2021-08-05T13:50:27.863113Z",
     "shell.execute_reply": "2021-08-05T13:50:27.863682Z",
     "shell.execute_reply.started": "2021-08-05T13:49:20.104586Z"
    },
    "papermill": {
     "duration": 0.043786,
     "end_time": "2021-08-05T13:50:27.863923",
     "exception": false,
     "start_time": "2021-08-05T13:50:27.820137",
     "status": "completed"
    },
    "tags": []
   },
   "outputs": [
    {
     "name": "stdout",
     "output_type": "stream",
     "text": [
      "error_score is :  0.9890775144282382\n"
     ]
    }
   ],
   "source": [
    "# R squared error\n",
    "error_score = metrics.r2_score(Y_test, test_data_prediction)\n",
    "print(\"error_score is : \", error_score)"
   ]
  },
  {
   "cell_type": "markdown",
   "id": "e8469de3",
   "metadata": {
    "papermill": {
     "duration": 0.03412,
     "end_time": "2021-08-05T13:50:27.929198",
     "exception": false,
     "start_time": "2021-08-05T13:50:27.895078",
     "status": "completed"
    },
    "tags": []
   },
   "source": [
    "***Compare the Actual Values and Predicted Values using a Plot***"
   ]
  },
  {
   "cell_type": "code",
   "execution_count": 23,
   "id": "6c315ca9",
   "metadata": {
    "execution": {
     "iopub.execute_input": "2021-08-05T13:50:27.994791Z",
     "iopub.status.busy": "2021-08-05T13:50:27.993806Z",
     "iopub.status.idle": "2021-08-05T13:50:27.999082Z",
     "shell.execute_reply": "2021-08-05T13:50:27.998417Z",
     "shell.execute_reply.started": "2021-08-05T13:49:20.118709Z"
    },
    "papermill": {
     "duration": 0.039167,
     "end_time": "2021-08-05T13:50:27.999223",
     "exception": false,
     "start_time": "2021-08-05T13:50:27.960056",
     "status": "completed"
    },
    "tags": []
   },
   "outputs": [],
   "source": [
    "Y_test = list(Y_test)"
   ]
  },
  {
   "cell_type": "code",
   "execution_count": 24,
   "id": "d6874817",
   "metadata": {
    "execution": {
     "iopub.execute_input": "2021-08-05T13:50:28.086076Z",
     "iopub.status.busy": "2021-08-05T13:50:28.075073Z",
     "iopub.status.idle": "2021-08-05T13:50:28.266940Z",
     "shell.execute_reply": "2021-08-05T13:50:28.266272Z",
     "shell.execute_reply.started": "2021-08-05T13:49:20.128949Z"
    },
    "papermill": {
     "duration": 0.2348,
     "end_time": "2021-08-05T13:50:28.267080",
     "exception": false,
     "start_time": "2021-08-05T13:50:28.032280",
     "status": "completed"
    },
    "tags": []
   },
   "outputs": [
    {
     "data": {
      "image/png": "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\n",
      "text/plain": [
       "<Figure size 432x288 with 1 Axes>"
      ]
     },
     "metadata": {
      "needs_background": "light"
     },
     "output_type": "display_data"
    }
   ],
   "source": [
    "plt.plot(Y_test, color='black', label = 'Actual Value')\n",
    "plt.plot(test_data_prediction, color='white', label='Predicted Value')\n",
    "plt.title('Actual Price vs Predicted Price')\n",
    "plt.xlabel('Number of values')\n",
    "plt.ylabel('Gold Price')\n",
    "plt.legend()\n",
    "plt.show()"
   ]
  }
 ],
 "metadata": {
  "kernelspec": {
   "display_name": "Python 3",
   "language": "python",
   "name": "python3"
  },
  "language_info": {
   "codemirror_mode": {
    "name": "ipython",
    "version": 3
   },
   "file_extension": ".py",
   "mimetype": "text/x-python",
   "name": "python",
   "nbconvert_exporter": "python",
   "pygments_lexer": "ipython3",
   "version": "3.7.10"
  },
  "papermill": {
   "default_parameters": {},
   "duration": 15.766915,
   "end_time": "2021-08-05T13:50:29.112421",
   "environment_variables": {},
   "exception": null,
   "input_path": "__notebook__.ipynb",
   "output_path": "__notebook__.ipynb",
   "parameters": {},
   "start_time": "2021-08-05T13:50:13.345506",
   "version": "2.3.3"
  }
 },
 "nbformat": 4,
 "nbformat_minor": 5
}
