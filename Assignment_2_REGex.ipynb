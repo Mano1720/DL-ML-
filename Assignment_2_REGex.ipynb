{
  "nbformat": 4,
  "nbformat_minor": 0,
  "metadata": {
    "colab": {
      "name": "Untitled0.ipynb",
      "provenance": [],
      "authorship_tag": "ABX9TyP3W7WDfptB9f9W0eMgLYqm",
      "include_colab_link": true
    },
    "kernelspec": {
      "name": "python3",
      "display_name": "Python 3"
    },
    "language_info": {
      "name": "python"
    }
  },
  "cells": [
    {
      "cell_type": "markdown",
      "metadata": {
        "id": "view-in-github",
        "colab_type": "text"
      },
      "source": [
        "<a href=\"https://colab.research.google.com/github/Mano1720/DL-ML-/blob/main/Assignment_2_REGex.ipynb\" target=\"_parent\"><img src=\"https://colab.research.google.com/assets/colab-badge.svg\" alt=\"Open In Colab\"/></a>"
      ]
    },
    {
      "cell_type": "markdown",
      "metadata": {
        "id": "eg2yqkMb13xq"
      },
      "source": [
        "Q1. ***Write a lambda expression to extract first word of a string.***"
      ]
    },
    {
      "cell_type": "code",
      "metadata": {
        "colab": {
          "base_uri": "https://localhost:8080/",
          "height": 35
        },
        "id": "qS3O_IAC1_dJ",
        "outputId": "29b747bb-041c-4308-eaf7-58d703af30d4"
      },
      "source": [
        "a='Data science is an interdisciplinary field'\n",
        "b=lambda s:s.split()[0]\n",
        "b(a)"
      ],
      "execution_count": 7,
      "outputs": [
        {
          "output_type": "execute_result",
          "data": {
            "application/vnd.google.colaboratory.intrinsic+json": {
              "type": "string"
            },
            "text/plain": [
              "'Data'"
            ]
          },
          "metadata": {
            "tags": []
          },
          "execution_count": 7
        }
      ]
    },
    {
      "cell_type": "markdown",
      "metadata": {
        "id": "Bwl5M62K27er"
      },
      "source": [
        "***Q2. Write a function to extract first word of s string (with many words separated by space).***"
      ]
    },
    {
      "cell_type": "code",
      "metadata": {
        "colab": {
          "base_uri": "https://localhost:8080/",
          "height": 35
        },
        "id": "a8AMsJE-3Jhg",
        "outputId": "bebc041d-b3d0-4616-9b9e-0a56d133cf85"
      },
      "source": [
        "def extract_1st(s):\n",
        "  return s.split()[0]\n",
        "\n",
        "s='Astronomer Tobias Mayer born 1723 was the first the  data scientist.'\n",
        "extract_1st(s)"
      ],
      "execution_count": 8,
      "outputs": [
        {
          "output_type": "execute_result",
          "data": {
            "application/vnd.google.colaboratory.intrinsic+json": {
              "type": "string"
            },
            "text/plain": [
              "'Astronomer'"
            ]
          },
          "metadata": {
            "tags": []
          },
          "execution_count": 8
        }
      ]
    },
    {
      "cell_type": "markdown",
      "metadata": {
        "id": "7tJoU6rr4Nxb"
      },
      "source": [
        "***Q3. Extract the first word from every string from a list of strings by using map function.***"
      ]
    },
    {
      "cell_type": "code",
      "metadata": {
        "colab": {
          "base_uri": "https://localhost:8080/"
        },
        "id": "pNmjhqUX4QBd",
        "outputId": "fe6218d3-d72c-455c-f059-06ed9912e7c7"
      },
      "source": [
        "piece=['Monkey D Luffy','Gol D Roger','Rock D Xebec','Edward Newgate']\n",
        "list(map(lambda s:s.split()[0],piece))"
      ],
      "execution_count": 19,
      "outputs": [
        {
          "output_type": "execute_result",
          "data": {
            "text/plain": [
              "['Monkey', 'Gol', 'Rock', 'Edward']"
            ]
          },
          "metadata": {
            "tags": []
          },
          "execution_count": 19
        }
      ]
    },
    {
      "cell_type": "markdown",
      "metadata": {
        "id": "d3oWbbpf52ab"
      },
      "source": [
        "***Q4. Write a function to return a list of prime factors of a given number.***"
      ]
    },
    {
      "cell_type": "code",
      "metadata": {
        "colab": {
          "base_uri": "https://localhost:8080/"
        },
        "id": "2dyeHpTz41ex",
        "outputId": "0e4fc28c-c386-4eea-931a-76f3b69aef69"
      },
      "source": [
        "def isprime(num):\n",
        "  factor=[]\n",
        "  divisor=2\n",
        "  while divisor <= num:\n",
        "    if num%divisor==0:\n",
        "      factor.append(divisor)\n",
        "      num=num/divisor\n",
        "    else:\n",
        "      divisor+=1\n",
        "  return factor\n",
        "\n",
        "num=int(input('enter the number to find the list of prime numbers: '))\n",
        "print(isprime(num))"
      ],
      "execution_count": 24,
      "outputs": [
        {
          "output_type": "stream",
          "text": [
            "enter the number to find the list of prime numbers: 798\n",
            "[2, 3, 7, 19]\n"
          ],
          "name": "stdout"
        }
      ]
    },
    {
      "cell_type": "markdown",
      "metadata": {
        "id": "z5FU79558t60"
      },
      "source": [
        "***Q5. Write a function that finds 2nd largest among 4 numbers (Repetitions are allowed,\n",
        "without sorting).***"
      ]
    },
    {
      "cell_type": "code",
      "metadata": {
        "colab": {
          "base_uri": "https://localhost:8080/"
        },
        "id": "oewwWj6U7ciL",
        "outputId": "9a36a5d1-fcac-4dd4-e194-6c4bf70e73a2"
      },
      "source": [
        "def max_2nd(nums):\n",
        "  #we convert the list to a set so repeated values a not taken\n",
        "  nums_set=set(nums)\n",
        "  #now we convert the set with unique values back to list for finding the second highest value\n",
        "  nums_list=list(nums_set)\n",
        "  #now we find the maximum values in the list and remove that\n",
        "  nums_max=max(nums_list)\n",
        "  nums_list.remove(nums_max)\n",
        "  #since the largest is removed from thr list now if we find the maxium value we get the second largest value\n",
        "  nums_max=max(nums_list) \n",
        "  return (nums_max)\n",
        "\n",
        "#Take the input of list of numbers\n",
        "nums_s=input('enter the list of numbers')\n",
        "#now we split the numsbers\n",
        "nums_s_splt=nums_s.split()\n",
        "#now we convert the nums_splt into int\n",
        "nums=map(int ,nums_s_splt)\n",
        "print(max_2nd(nums))  \n",
        "\n"
      ],
      "execution_count": 36,
      "outputs": [
        {
          "output_type": "stream",
          "text": [
            "enter the list of numbers1 2 4 5 10 11 100 200 250 500\n",
            "250\n"
          ],
          "name": "stdout"
        }
      ]
    },
    {
      "cell_type": "code",
      "metadata": {
        "id": "Snbkh_TZ7-bl"
      },
      "source": [
        ""
      ],
      "execution_count": null,
      "outputs": []
    }
  ]
}